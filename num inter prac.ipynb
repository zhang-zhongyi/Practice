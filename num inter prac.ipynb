{
 "cells": [
  {
   "cell_type": "code",
   "execution_count": 3,
   "metadata": {},
   "outputs": [
    {
     "ename": "AttributeError",
     "evalue": "'Base' object has no attribute '__c'",
     "output_type": "error",
     "traceback": [
      "\u001b[0;31m---------------------------------------------------------------------------\u001b[0m",
      "\u001b[0;31mAttributeError\u001b[0m                            Traceback (most recent call last)",
      "\u001b[0;32m<ipython-input-3-f7902813a5b5>\u001b[0m in \u001b[0;36m<module>\u001b[0;34m\u001b[0m\n\u001b[1;32m     17\u001b[0m \u001b[0;31m# Driver code\u001b[0m\u001b[0;34m\u001b[0m\u001b[0;34m\u001b[0m\u001b[0;34m\u001b[0m\u001b[0m\n\u001b[1;32m     18\u001b[0m \u001b[0mobj1\u001b[0m \u001b[0;34m=\u001b[0m \u001b[0mBase\u001b[0m\u001b[0;34m(\u001b[0m\u001b[0;34m)\u001b[0m\u001b[0;34m\u001b[0m\u001b[0;34m\u001b[0m\u001b[0m\n\u001b[0;32m---> 19\u001b[0;31m \u001b[0mprint\u001b[0m\u001b[0;34m(\u001b[0m\u001b[0mobj1\u001b[0m\u001b[0;34m.\u001b[0m\u001b[0m__c\u001b[0m\u001b[0;34m)\u001b[0m\u001b[0;34m\u001b[0m\u001b[0;34m\u001b[0m\u001b[0m\n\u001b[0m\u001b[1;32m     20\u001b[0m \u001b[0;34m\u001b[0m\u001b[0m\n\u001b[1;32m     21\u001b[0m \u001b[0;31m# Uncommenting print(obj1.c) will\u001b[0m\u001b[0;34m\u001b[0m\u001b[0;34m\u001b[0m\u001b[0;34m\u001b[0m\u001b[0m\n",
      "\u001b[0;31mAttributeError\u001b[0m: 'Base' object has no attribute '__c'"
     ]
    }
   ],
   "source": [
    "class Base:\n",
    "    def __init__(self):\n",
    "        self.a = \"GeeksforGeeks\"\n",
    "        self.__c = \"GeeksforGeeks\"\n",
    " \n",
    "# Creating a derived class\n",
    "class Derived(Base):\n",
    "    def __init__(self):\n",
    " \n",
    "        # Calling constructor of\n",
    "        # Base class\n",
    "        Base.__init__(self)\n",
    "        print(\"Calling private member of base class: \")\n",
    "        print(self.__c)\n",
    " \n",
    " \n",
    "# Driver code\n",
    "obj1 = Base()\n",
    "print(obj1.__c)\n",
    " \n",
    "# Uncommenting print(obj1.c) will\n",
    "# raise an AttributeError\n",
    " \n",
    "# Uncommenting obj2 = Derived() will\n",
    "# also raise an AttributeError as\n",
    "# private member of base class\n",
    "# is called inside derived class"
   ]
  },
  {
   "cell_type": "code",
   "execution_count": null,
   "metadata": {},
   "outputs": [],
   "source": []
  },
  {
   "cell_type": "code",
   "execution_count": 15,
   "metadata": {},
   "outputs": [
    {
     "data": {
      "text/plain": [
       "1"
      ]
     },
     "execution_count": 15,
     "metadata": {},
     "output_type": "execute_result"
    }
   ],
   "source": [
    "def longconsec(arr):\n",
    "    if not arr:\n",
    "        return 0\n",
    "    \n",
    "    arr = sorted(set(arr))\n",
    "    current = 1\n",
    "    max_repeat = 0\n",
    "    \n",
    "    for i in range(len(arr)-1):\n",
    "        if arr[i+1] - arr[i] == 1:\n",
    "            current += 1\n",
    "        else:\n",
    "            current = 1\n",
    "        max_repeat = max(max_repeat, current)\n",
    "    \n",
    "    return max(max_repeat,current)\n",
    "\n",
    "longconsec([1,1,1])"
   ]
  },
  {
   "cell_type": "code",
   "execution_count": 32,
   "metadata": {},
   "outputs": [
    {
     "data": {
      "text/plain": [
       "'good'"
      ]
     },
     "execution_count": 32,
     "metadata": {},
     "output_type": "execute_result"
    }
   ],
   "source": [
    "def lettercount(s):\n",
    "    max_repeat = 0\n",
    "    l = s.split()\n",
    "    for word in l:\n",
    "        d = {}\n",
    "        for letter in word:\n",
    "            if letter not in d:\n",
    "                d[letter] = 1\n",
    "            else:\n",
    "                d[letter] += 1\n",
    "            if d[letter] > max_repeat:\n",
    "                max_repeat = d[letter]\n",
    "                ans = word\n",
    "    if max_repeat == 1:\n",
    "        return -1\n",
    "    else:\n",
    "        return ans\n",
    "lettercount('Today, is the good greatest day ever!')"
   ]
  },
  {
   "cell_type": "code",
   "execution_count": 24,
   "metadata": {},
   "outputs": [
    {
     "data": {
      "text/plain": [
       "True"
      ]
     },
     "execution_count": 24,
     "metadata": {},
     "output_type": "execute_result"
    }
   ],
   "source": [
    "dd = {'good': 1, 'bob': 40, 'tommy': 28, 'albert': 37}\n",
    "bool(1 in dd.values())"
   ]
  },
  {
   "cell_type": "code",
   "execution_count": 57,
   "metadata": {},
   "outputs": [
    {
     "data": {
      "text/plain": [
       "'greatest'"
      ]
     },
     "execution_count": 57,
     "metadata": {},
     "output_type": "execute_result"
    }
   ],
   "source": [
    "def lettercount(s):\n",
    "    import re\n",
    "    s = re.sub(r'[.,\"\\'-?:!;]','',s)\n",
    "    max_repeat = 0\n",
    "    l = s.split()\n",
    "    record = {}\n",
    "    for word in l:\n",
    "        d = {}\n",
    "        for letter in word:\n",
    "            if letter not in d:\n",
    "                d[letter] = 1\n",
    "            else:\n",
    "                d[letter] += 1\n",
    "            if d[letter] > max_repeat:\n",
    "                max_repeat = d[letter]\n",
    "                ans = word\n",
    "        record.update({word:d})\n",
    "\n",
    "    filter_d = {}\n",
    "    final_d = {}\n",
    "    for k,v in record.items():\n",
    "        combine = {k:v}\n",
    "        if max_repeat in v.values():\n",
    "            filter_d.update(combine)\n",
    "        \n",
    "    for k,v in filter_d.items():\n",
    "        counter = 0\n",
    "        for sub_v in v.values():\n",
    "            if sub_v == max_repeat:\n",
    "                counter += 1\n",
    "        final_d.update({k:counter})\n",
    "    \n",
    "    \n",
    "    if max_repeat == 1:\n",
    "        return -1\n",
    "    else:\n",
    "        return max(final_d, key = final_d.get)\n",
    "lettercount('Today, is the good greatest day ever!')"
   ]
  },
  {
   "cell_type": "code",
   "execution_count": 63,
   "metadata": {},
   "outputs": [
    {
     "name": "stdout",
     "output_type": "stream",
     "text": [
      "\n",
      "Original dictionary elements:\n",
      "{'Theodore': 19, 'Roxanne': 22, 'Mathew': 21, 'Betty': 20}\n",
      "\n",
      "Finds the key of the maximum and minimum value of the said dictionary:\n",
      "('Roxanne', 'Theodore')\n"
     ]
    },
    {
     "ename": "TypeError",
     "evalue": "'builtin_function_or_method' object is not iterable",
     "output_type": "error",
     "traceback": [
      "\u001b[0;31m---------------------------------------------------------------------------\u001b[0m",
      "\u001b[0;31mTypeError\u001b[0m                                 Traceback (most recent call last)",
      "\u001b[0;32m<ipython-input-63-4240f56fe82a>\u001b[0m in \u001b[0;36m<module>\u001b[0;34m\u001b[0m\n\u001b[1;32m     12\u001b[0m \u001b[0mprint\u001b[0m\u001b[0;34m(\u001b[0m\u001b[0;34m\"\\nFinds the key of the maximum and minimum value of the said dictionary:\"\u001b[0m\u001b[0;34m)\u001b[0m\u001b[0;34m\u001b[0m\u001b[0;34m\u001b[0m\u001b[0m\n\u001b[1;32m     13\u001b[0m \u001b[0mprint\u001b[0m\u001b[0;34m(\u001b[0m\u001b[0mtest\u001b[0m\u001b[0;34m(\u001b[0m\u001b[0mstudents\u001b[0m\u001b[0;34m)\u001b[0m\u001b[0;34m)\u001b[0m\u001b[0;34m\u001b[0m\u001b[0;34m\u001b[0m\u001b[0m\n\u001b[0;32m---> 14\u001b[0;31m \u001b[0mprint\u001b[0m\u001b[0;34m(\u001b[0m\u001b[0mmax\u001b[0m\u001b[0;34m(\u001b[0m\u001b[0mstudents\u001b[0m\u001b[0;34m.\u001b[0m\u001b[0mget\u001b[0m\u001b[0;34m)\u001b[0m\u001b[0;34m)\u001b[0m\u001b[0;34m\u001b[0m\u001b[0;34m\u001b[0m\u001b[0m\n\u001b[0m",
      "\u001b[0;31mTypeError\u001b[0m: 'builtin_function_or_method' object is not iterable"
     ]
    }
   ],
   "source": [
    "def test(d):\n",
    "  return max(d, key = d.get), min(d, key = d.get)\n",
    "\n",
    "students = {\n",
    "  'Theodore': 19,\n",
    "  'Roxanne': 22,\n",
    "  'Mathew': 21,\n",
    "  'Betty': 20\n",
    "}\n",
    "print(\"\\nOriginal dictionary elements:\")\n",
    "print(students)\n",
    "print(\"\\nFinds the key of the maximum and minimum value of the said dictionary:\")\n",
    "print(test(students))\n",
    "print(max(students.get))"
   ]
  },
  {
   "cell_type": "code",
   "execution_count": null,
   "metadata": {},
   "outputs": [],
   "source": []
  }
 ],
 "metadata": {
  "kernelspec": {
   "display_name": "Python 3",
   "language": "python",
   "name": "python3"
  },
  "language_info": {
   "codemirror_mode": {
    "name": "ipython",
    "version": 3
   },
   "file_extension": ".py",
   "mimetype": "text/x-python",
   "name": "python",
   "nbconvert_exporter": "python",
   "pygments_lexer": "ipython3",
   "version": "3.8.3"
  }
 },
 "nbformat": 4,
 "nbformat_minor": 5
}
