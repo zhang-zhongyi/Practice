{
 "cells": [
  {
   "cell_type": "code",
   "execution_count": 4,
   "metadata": {},
   "outputs": [],
   "source": [
    "file1 = open(\"billing_log_report_by_troy.txt\",'r')\n",
    "file2 = open(\"cost_report_small.txt\",'r')\n",
    "\n",
    "file1_lines = file1.readlines()\n",
    "file2_lines = file2.readlines()\n",
    "\n",
    "for i in range(len(file1_lines)):\n",
    "    if file1_lines[i] != file2_lines[i]:\n",
    "        print(\"Line \" + str(i+1) + \" doesn't match.\")\n",
    "        print(\"------------------------\")\n",
    "        print(\"File1: \" + file1_lines[i])\n",
    "        print(\"File2: \" + file2_lines[i])\n",
    "\n",
    "file1.close()\n",
    "file2.close()"
   ]
  },
  {
   "cell_type": "code",
   "execution_count": null,
   "metadata": {},
   "outputs": [],
   "source": []
  }
 ],
 "metadata": {
  "kernelspec": {
   "display_name": "Python 3",
   "language": "python",
   "name": "python3"
  },
  "language_info": {
   "codemirror_mode": {
    "name": "ipython",
    "version": 3
   },
   "file_extension": ".py",
   "mimetype": "text/x-python",
   "name": "python",
   "nbconvert_exporter": "python",
   "pygments_lexer": "ipython3",
   "version": "3.8.3"
  }
 },
 "nbformat": 4,
 "nbformat_minor": 4
}
