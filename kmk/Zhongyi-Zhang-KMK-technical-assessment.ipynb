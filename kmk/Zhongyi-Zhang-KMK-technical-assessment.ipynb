{
 "cells": [
  {
   "cell_type": "markdown",
   "metadata": {},
   "source": [
    "# KMK technical assessment\n",
    "Name: Zhongyi Zhang\n",
    "\n",
    "Date: 2023-03-15"
   ]
  },
  {
   "cell_type": "markdown",
   "metadata": {},
   "source": [
    "## Q1. Please import dataset and name it 'sddm', and do not include row number in the table"
   ]
  },
  {
   "cell_type": "code",
   "execution_count": 1,
   "metadata": {},
   "outputs": [
    {
     "data": {
      "text/html": [
       "<div>\n",
       "<style scoped>\n",
       "    .dataframe tbody tr th:only-of-type {\n",
       "        vertical-align: middle;\n",
       "    }\n",
       "\n",
       "    .dataframe tbody tr th {\n",
       "        vertical-align: top;\n",
       "    }\n",
       "\n",
       "    .dataframe thead th {\n",
       "        text-align: right;\n",
       "    }\n",
       "</style>\n",
       "<table border=\"1\" class=\"dataframe\">\n",
       "  <thead>\n",
       "    <tr style=\"text-align: right;\">\n",
       "      <th></th>\n",
       "      <th>phid</th>\n",
       "      <th>age</th>\n",
       "      <th>region</th>\n",
       "      <th>rxdate</th>\n",
       "      <th>quantity</th>\n",
       "      <th>cost</th>\n",
       "    </tr>\n",
       "  </thead>\n",
       "  <tbody>\n",
       "    <tr>\n",
       "      <th>1</th>\n",
       "      <td>A001</td>\n",
       "      <td>52</td>\n",
       "      <td>West</td>\n",
       "      <td>1/5/2017</td>\n",
       "      <td>83</td>\n",
       "      <td>1722.25</td>\n",
       "    </tr>\n",
       "    <tr>\n",
       "      <th>2</th>\n",
       "      <td>A001</td>\n",
       "      <td>52</td>\n",
       "      <td>West</td>\n",
       "      <td>1/18/2017</td>\n",
       "      <td>159</td>\n",
       "      <td>3299.25</td>\n",
       "    </tr>\n",
       "    <tr>\n",
       "      <th>3</th>\n",
       "      <td>A001</td>\n",
       "      <td>52</td>\n",
       "      <td>West</td>\n",
       "      <td>3/22/2017</td>\n",
       "      <td>339</td>\n",
       "      <td>7034.25</td>\n",
       "    </tr>\n",
       "    <tr>\n",
       "      <th>4</th>\n",
       "      <td>A001</td>\n",
       "      <td>52</td>\n",
       "      <td>West</td>\n",
       "      <td>3/27/2017</td>\n",
       "      <td>71</td>\n",
       "      <td>1473.25</td>\n",
       "    </tr>\n",
       "    <tr>\n",
       "      <th>5</th>\n",
       "      <td>A001</td>\n",
       "      <td>52</td>\n",
       "      <td>West</td>\n",
       "      <td>3/31/2017</td>\n",
       "      <td>201</td>\n",
       "      <td>4170.75</td>\n",
       "    </tr>\n",
       "    <tr>\n",
       "      <th>6</th>\n",
       "      <td>A001</td>\n",
       "      <td>52</td>\n",
       "      <td>West</td>\n",
       "      <td>4/11/2017</td>\n",
       "      <td>267</td>\n",
       "      <td>5540.25</td>\n",
       "    </tr>\n",
       "    <tr>\n",
       "      <th>7</th>\n",
       "      <td>A001</td>\n",
       "      <td>52</td>\n",
       "      <td>West</td>\n",
       "      <td>5/15/2017</td>\n",
       "      <td>163</td>\n",
       "      <td>3382.25</td>\n",
       "    </tr>\n",
       "    <tr>\n",
       "      <th>8</th>\n",
       "      <td>A001</td>\n",
       "      <td>52</td>\n",
       "      <td>West</td>\n",
       "      <td>5/31/2017</td>\n",
       "      <td>219</td>\n",
       "      <td>4544.25</td>\n",
       "    </tr>\n",
       "    <tr>\n",
       "      <th>9</th>\n",
       "      <td>A001</td>\n",
       "      <td>52</td>\n",
       "      <td>West</td>\n",
       "      <td>6/10/2017</td>\n",
       "      <td>229</td>\n",
       "      <td>4751.75</td>\n",
       "    </tr>\n",
       "    <tr>\n",
       "      <th>10</th>\n",
       "      <td>A001</td>\n",
       "      <td>52</td>\n",
       "      <td>West</td>\n",
       "      <td>7/1/2017</td>\n",
       "      <td>189</td>\n",
       "      <td>3921.75</td>\n",
       "    </tr>\n",
       "  </tbody>\n",
       "</table>\n",
       "</div>"
      ],
      "text/plain": [
       "    phid  age region     rxdate  quantity     cost\n",
       "1   A001   52   West   1/5/2017        83  1722.25\n",
       "2   A001   52   West  1/18/2017       159  3299.25\n",
       "3   A001   52   West  3/22/2017       339  7034.25\n",
       "4   A001   52   West  3/27/2017        71  1473.25\n",
       "5   A001   52   West  3/31/2017       201  4170.75\n",
       "6   A001   52   West  4/11/2017       267  5540.25\n",
       "7   A001   52   West  5/15/2017       163  3382.25\n",
       "8   A001   52   West  5/31/2017       219  4544.25\n",
       "9   A001   52   West  6/10/2017       229  4751.75\n",
       "10  A001   52   West   7/1/2017       189  3921.75"
      ]
     },
     "execution_count": 1,
     "metadata": {},
     "output_type": "execute_result"
    }
   ],
   "source": [
    "import pandas as pd\n",
    "sddm = pd.read_csv('sddm.csv', index_col = 0)\n",
    "sddm.head(10)"
   ]
  },
  {
   "cell_type": "markdown",
   "metadata": {},
   "source": [
    "## Q1-1. Please **PRINT OUT** how many rows contains in the `sddm` table."
   ]
  },
  {
   "cell_type": "code",
   "execution_count": 2,
   "metadata": {},
   "outputs": [
    {
     "name": "stdout",
     "output_type": "stream",
     "text": [
      "10479\n"
     ]
    }
   ],
   "source": [
    "print(len(sddm))"
   ]
  },
  {
   "cell_type": "markdown",
   "metadata": {},
   "source": [
    "## Q2. Please sort the physicians by the total quantity amount of drug D prescription in descending order"
   ]
  },
  {
   "cell_type": "code",
   "execution_count": 3,
   "metadata": {},
   "outputs": [
    {
     "data": {
      "text/html": [
       "<div>\n",
       "<style scoped>\n",
       "    .dataframe tbody tr th:only-of-type {\n",
       "        vertical-align: middle;\n",
       "    }\n",
       "\n",
       "    .dataframe tbody tr th {\n",
       "        vertical-align: top;\n",
       "    }\n",
       "\n",
       "    .dataframe thead th {\n",
       "        text-align: right;\n",
       "    }\n",
       "</style>\n",
       "<table border=\"1\" class=\"dataframe\">\n",
       "  <thead>\n",
       "    <tr style=\"text-align: right;\">\n",
       "      <th></th>\n",
       "      <th>phid</th>\n",
       "      <th>total_quantity</th>\n",
       "      <th>rank</th>\n",
       "    </tr>\n",
       "  </thead>\n",
       "  <tbody>\n",
       "    <tr>\n",
       "      <th>1</th>\n",
       "      <td>A617</td>\n",
       "      <td>5971</td>\n",
       "      <td>1</td>\n",
       "    </tr>\n",
       "    <tr>\n",
       "      <th>2</th>\n",
       "      <td>A650</td>\n",
       "      <td>5343</td>\n",
       "      <td>2</td>\n",
       "    </tr>\n",
       "    <tr>\n",
       "      <th>3</th>\n",
       "      <td>A556</td>\n",
       "      <td>5328</td>\n",
       "      <td>3</td>\n",
       "    </tr>\n",
       "    <tr>\n",
       "      <th>4</th>\n",
       "      <td>A562</td>\n",
       "      <td>5282</td>\n",
       "      <td>4</td>\n",
       "    </tr>\n",
       "    <tr>\n",
       "      <th>5</th>\n",
       "      <td>A302</td>\n",
       "      <td>5144</td>\n",
       "      <td>5</td>\n",
       "    </tr>\n",
       "    <tr>\n",
       "      <th>6</th>\n",
       "      <td>A481</td>\n",
       "      <td>5130</td>\n",
       "      <td>6</td>\n",
       "    </tr>\n",
       "    <tr>\n",
       "      <th>7</th>\n",
       "      <td>A632</td>\n",
       "      <td>5102</td>\n",
       "      <td>7</td>\n",
       "    </tr>\n",
       "    <tr>\n",
       "      <th>8</th>\n",
       "      <td>A167</td>\n",
       "      <td>5049</td>\n",
       "      <td>8</td>\n",
       "    </tr>\n",
       "    <tr>\n",
       "      <th>9</th>\n",
       "      <td>A015</td>\n",
       "      <td>4889</td>\n",
       "      <td>9</td>\n",
       "    </tr>\n",
       "    <tr>\n",
       "      <th>10</th>\n",
       "      <td>A052</td>\n",
       "      <td>4889</td>\n",
       "      <td>9</td>\n",
       "    </tr>\n",
       "    <tr>\n",
       "      <th>11</th>\n",
       "      <td>A690</td>\n",
       "      <td>4768</td>\n",
       "      <td>10</td>\n",
       "    </tr>\n",
       "    <tr>\n",
       "      <th>12</th>\n",
       "      <td>A466</td>\n",
       "      <td>4767</td>\n",
       "      <td>11</td>\n",
       "    </tr>\n",
       "    <tr>\n",
       "      <th>13</th>\n",
       "      <td>A692</td>\n",
       "      <td>4690</td>\n",
       "      <td>12</td>\n",
       "    </tr>\n",
       "    <tr>\n",
       "      <th>14</th>\n",
       "      <td>A594</td>\n",
       "      <td>4670</td>\n",
       "      <td>13</td>\n",
       "    </tr>\n",
       "    <tr>\n",
       "      <th>15</th>\n",
       "      <td>A358</td>\n",
       "      <td>4669</td>\n",
       "      <td>14</td>\n",
       "    </tr>\n",
       "  </tbody>\n",
       "</table>\n",
       "</div>"
      ],
      "text/plain": [
       "    phid  total_quantity  rank\n",
       "1   A617            5971     1\n",
       "2   A650            5343     2\n",
       "3   A556            5328     3\n",
       "4   A562            5282     4\n",
       "5   A302            5144     5\n",
       "6   A481            5130     6\n",
       "7   A632            5102     7\n",
       "8   A167            5049     8\n",
       "9   A015            4889     9\n",
       "10  A052            4889     9\n",
       "11  A690            4768    10\n",
       "12  A466            4767    11\n",
       "13  A692            4690    12\n",
       "14  A594            4670    13\n",
       "15  A358            4669    14"
      ]
     },
     "execution_count": 3,
     "metadata": {},
     "output_type": "execute_result"
    }
   ],
   "source": [
    "sddm_quantity = pd.DataFrame(sddm.groupby(['phid'])['quantity'].sum())\n",
    "sddm_quantity = sddm_quantity.rename(columns={\"quantity\": \"total_quantity\"})\n",
    "\n",
    "# sort total quantity from high to low\n",
    "sddm_quantity = sddm_quantity.sort_values(by=['total_quantity'], ascending = False)\n",
    "\n",
    "# I would want dense rank for ties if two or more phids have same total quantity\n",
    "sddm_quantity['rank'] = sddm_quantity['total_quantity'].rank(method='dense',ascending = False).astype(int)\n",
    "sddm_quantity = sddm_quantity.reset_index()\n",
    "\n",
    "# I saw the example provided in the answer sheet has index starting from 1 instead of 0\n",
    "sddm_quantity.index = sddm_quantity.index + 1\n",
    "sddm_quantity.head(15)"
   ]
  },
  {
   "cell_type": "code",
   "execution_count": null,
   "metadata": {},
   "outputs": [],
   "source": []
  },
  {
   "cell_type": "markdown",
   "metadata": {},
   "source": [
    "## Q2-1. Please generate a table with descending order of \"rank\", and **PRINT OUT** the 26th row"
   ]
  },
  {
   "cell_type": "code",
   "execution_count": 4,
   "metadata": {},
   "outputs": [
    {
     "name": "stdout",
     "output_type": "stream",
     "text": [
      "     phid  total_quantity  rank\n",
      "675  A116            1435   601\n"
     ]
    }
   ],
   "source": [
    "# According to the question, generate the table with descending order of \"rank\"\n",
    "sddm_quantity_descending_rank = sddm_quantity.sort_values(by=['rank'], ascending = False)\n",
    "\n",
    "# the index starts from 0, so 26th row is basically \".iloc[25:26]\"\n",
    "print(sddm_quantity_descending_rank.iloc[25:26])"
   ]
  },
  {
   "cell_type": "markdown",
   "metadata": {},
   "source": [
    "## Q2-2. Please **PRINT OUT** the physician rank number 9"
   ]
  },
  {
   "cell_type": "code",
   "execution_count": 5,
   "metadata": {},
   "outputs": [
    {
     "name": "stdout",
     "output_type": "stream",
     "text": [
      "    phid  total_quantity  rank\n",
      "9   A015            4889     9\n",
      "10  A052            4889     9\n"
     ]
    }
   ],
   "source": [
    "print(sddm_quantity.loc[sddm_quantity[\"rank\"] == 9])"
   ]
  },
  {
   "cell_type": "markdown",
   "metadata": {},
   "source": [
    "## Q3. Please find the average physician age by region and **PRINT OUT** the whole table with ascending order of average age rounded to 2 decimals"
   ]
  },
  {
   "cell_type": "code",
   "execution_count": 6,
   "metadata": {},
   "outputs": [
    {
     "name": "stdout",
     "output_type": "stream",
     "text": [
      "             age\n",
      "region          \n",
      "Midwest    32.39\n",
      "South      33.87\n",
      "West       34.38\n",
      "Northeast  34.66\n"
     ]
    }
   ],
   "source": [
    "# select only first row of each physician so one physician will only appear once before calculating the average\n",
    "sddm_age = sddm.groupby('phid', as_index = False).first()\n",
    "sddm_age_region = pd.DataFrame(round(sddm_age.groupby(['region'])['age'].mean(), 2))\n",
    "sddm_age_region = sddm_age_region.sort_values(by=['age'], ascending = True)\n",
    "print(sddm_age_region)"
   ]
  },
  {
   "cell_type": "markdown",
   "metadata": {},
   "source": [
    "## Q4. Please find all physicians who prescribed drug D between Jan 01, 2017 and May 31, 2017 with an average daily cost greater or equal to $6,000 during this period"
   ]
  },
  {
   "cell_type": "code",
   "execution_count": 7,
   "metadata": {},
   "outputs": [
    {
     "data": {
      "text/html": [
       "<div>\n",
       "<style scoped>\n",
       "    .dataframe tbody tr th:only-of-type {\n",
       "        vertical-align: middle;\n",
       "    }\n",
       "\n",
       "    .dataframe tbody tr th {\n",
       "        vertical-align: top;\n",
       "    }\n",
       "\n",
       "    .dataframe thead th {\n",
       "        text-align: right;\n",
       "    }\n",
       "</style>\n",
       "<table border=\"1\" class=\"dataframe\">\n",
       "  <thead>\n",
       "    <tr style=\"text-align: right;\">\n",
       "      <th></th>\n",
       "      <th>phid</th>\n",
       "    </tr>\n",
       "  </thead>\n",
       "  <tbody>\n",
       "    <tr>\n",
       "      <th>1</th>\n",
       "      <td>A001</td>\n",
       "    </tr>\n",
       "    <tr>\n",
       "      <th>2</th>\n",
       "      <td>A004</td>\n",
       "    </tr>\n",
       "    <tr>\n",
       "      <th>3</th>\n",
       "      <td>A005</td>\n",
       "    </tr>\n",
       "    <tr>\n",
       "      <th>4</th>\n",
       "      <td>A006</td>\n",
       "    </tr>\n",
       "    <tr>\n",
       "      <th>5</th>\n",
       "      <td>A007</td>\n",
       "    </tr>\n",
       "    <tr>\n",
       "      <th>...</th>\n",
       "      <td>...</td>\n",
       "    </tr>\n",
       "    <tr>\n",
       "      <th>504</th>\n",
       "      <td>A696</td>\n",
       "    </tr>\n",
       "    <tr>\n",
       "      <th>505</th>\n",
       "      <td>A697</td>\n",
       "    </tr>\n",
       "    <tr>\n",
       "      <th>506</th>\n",
       "      <td>A698</td>\n",
       "    </tr>\n",
       "    <tr>\n",
       "      <th>507</th>\n",
       "      <td>A699</td>\n",
       "    </tr>\n",
       "    <tr>\n",
       "      <th>508</th>\n",
       "      <td>A700</td>\n",
       "    </tr>\n",
       "  </tbody>\n",
       "</table>\n",
       "<p>508 rows × 1 columns</p>\n",
       "</div>"
      ],
      "text/plain": [
       "     phid\n",
       "1    A001\n",
       "2    A004\n",
       "3    A005\n",
       "4    A006\n",
       "5    A007\n",
       "..    ...\n",
       "504  A696\n",
       "505  A697\n",
       "506  A698\n",
       "507  A699\n",
       "508  A700\n",
       "\n",
       "[508 rows x 1 columns]"
      ]
     },
     "execution_count": 7,
     "metadata": {},
     "output_type": "execute_result"
    }
   ],
   "source": [
    "import copy\n",
    "import datetime\n",
    "sddm_date = copy.deepcopy(sddm)\n",
    "\n",
    "# convert 'rxdate' column into datetime datatype\n",
    "sddm_date['rxdate'] = pd.to_datetime(sddm_date['rxdate'])\n",
    "\n",
    "# find the total cost per physician in the day\n",
    "sddm_date = pd.DataFrame(sddm_date.groupby(['phid','rxdate'], as_index = False)['cost'].sum())\n",
    "\n",
    "# find all the physicians with dates that satisfy the condition between 2017-01-01 and 2017-05-31 and cost >= 6000\n",
    "sddm_date_cost = sddm_date[(sddm_date['rxdate'] >= '2017-1-1') & (sddm_date['rxdate'] <= '2017-5-31') & (sddm_date['cost'] >= 6000)]\n",
    "\n",
    "# find all the distinct phid that satisfy the above conditions\n",
    "physicians = pd.DataFrame({\"phid\": sddm_date_cost[\"phid\"].unique()})\n",
    "physicians.index = physicians.index + 1\n",
    "physicians"
   ]
  },
  {
   "cell_type": "markdown",
   "metadata": {},
   "source": [
    "## Q4-1. Please **PRINT OUT** how many physician had average daily cost greater or equal to $6,000 based on the description of Q4."
   ]
  },
  {
   "cell_type": "code",
   "execution_count": 8,
   "metadata": {},
   "outputs": [
    {
     "name": "stdout",
     "output_type": "stream",
     "text": [
      "508\n"
     ]
    }
   ],
   "source": [
    "print(len(physicians))"
   ]
  },
  {
   "cell_type": "markdown",
   "metadata": {},
   "source": [
    "## Q4-2. Please **PRINT OUT** the physician id who had the second highest average daily cost."
   ]
  },
  {
   "cell_type": "code",
   "execution_count": 9,
   "metadata": {},
   "outputs": [
    {
     "name": "stdout",
     "output_type": "stream",
     "text": [
      "1    A119\n",
      "Name: phid, dtype: object\n"
     ]
    }
   ],
   "source": [
    "sddm_date_cost_avg = pd.DataFrame(sddm_date_cost.groupby(['phid'])['cost'].mean())\n",
    "\n",
    "# find the 2nd highest, so cost should be in descending order from high to low, so set ascendint = False\n",
    "sddm_date_cost_avg = sddm_date_cost_avg.sort_values(by=['cost'], ascending = False).reset_index()\n",
    "print(sddm_date_cost_avg['phid'].iloc[1:2])"
   ]
  },
  {
   "cell_type": "markdown",
   "metadata": {},
   "source": [
    "## Q5. Please find all physicians who prescribed drug D on 2 consecutive dates"
   ]
  },
  {
   "cell_type": "code",
   "execution_count": 10,
   "metadata": {},
   "outputs": [
    {
     "name": "stderr",
     "output_type": "stream",
     "text": [
      "<ipython-input-10-5e09a3e62c4c>:4: SettingWithCopyWarning: \n",
      "A value is trying to be set on a copy of a slice from a DataFrame.\n",
      "Try using .loc[row_indexer,col_indexer] = value instead\n",
      "\n",
      "See the caveats in the documentation: https://pandas.pydata.org/pandas-docs/stable/user_guide/indexing.html#returning-a-view-versus-a-copy\n",
      "  sddm_consecutive['rxdate'] = pd.to_datetime(sddm_consecutive['rxdate'])\n"
     ]
    },
    {
     "data": {
      "text/html": [
       "<div>\n",
       "<style scoped>\n",
       "    .dataframe tbody tr th:only-of-type {\n",
       "        vertical-align: middle;\n",
       "    }\n",
       "\n",
       "    .dataframe tbody tr th {\n",
       "        vertical-align: top;\n",
       "    }\n",
       "\n",
       "    .dataframe thead th {\n",
       "        text-align: right;\n",
       "    }\n",
       "</style>\n",
       "<table border=\"1\" class=\"dataframe\">\n",
       "  <thead>\n",
       "    <tr style=\"text-align: right;\">\n",
       "      <th></th>\n",
       "      <th>phid</th>\n",
       "    </tr>\n",
       "  </thead>\n",
       "  <tbody>\n",
       "    <tr>\n",
       "      <th>1</th>\n",
       "      <td>A003</td>\n",
       "    </tr>\n",
       "    <tr>\n",
       "      <th>2</th>\n",
       "      <td>A004</td>\n",
       "    </tr>\n",
       "    <tr>\n",
       "      <th>3</th>\n",
       "      <td>A005</td>\n",
       "    </tr>\n",
       "    <tr>\n",
       "      <th>4</th>\n",
       "      <td>A006</td>\n",
       "    </tr>\n",
       "    <tr>\n",
       "      <th>5</th>\n",
       "      <td>A008</td>\n",
       "    </tr>\n",
       "    <tr>\n",
       "      <th>...</th>\n",
       "      <td>...</td>\n",
       "    </tr>\n",
       "    <tr>\n",
       "      <th>297</th>\n",
       "      <td>A680</td>\n",
       "    </tr>\n",
       "    <tr>\n",
       "      <th>298</th>\n",
       "      <td>A684</td>\n",
       "    </tr>\n",
       "    <tr>\n",
       "      <th>299</th>\n",
       "      <td>A689</td>\n",
       "    </tr>\n",
       "    <tr>\n",
       "      <th>300</th>\n",
       "      <td>A690</td>\n",
       "    </tr>\n",
       "    <tr>\n",
       "      <th>301</th>\n",
       "      <td>A696</td>\n",
       "    </tr>\n",
       "  </tbody>\n",
       "</table>\n",
       "<p>301 rows × 1 columns</p>\n",
       "</div>"
      ],
      "text/plain": [
       "     phid\n",
       "1    A003\n",
       "2    A004\n",
       "3    A005\n",
       "4    A006\n",
       "5    A008\n",
       "..    ...\n",
       "297  A680\n",
       "298  A684\n",
       "299  A689\n",
       "300  A690\n",
       "301  A696\n",
       "\n",
       "[301 rows x 1 columns]"
      ]
     },
     "execution_count": 10,
     "metadata": {},
     "output_type": "execute_result"
    }
   ],
   "source": [
    "sddm_consecutive = sddm[[\"phid\",\"rxdate\"]]\n",
    "\n",
    "# convert 'rxdate' column into datetime datatype\n",
    "sddm_consecutive['rxdate'] = pd.to_datetime(sddm_consecutive['rxdate'])\n",
    "\n",
    "# make sure the data is sorted by phid and rxdate both in ascending order\n",
    "sddm_consecutive = sddm_consecutive.sort_values(by=['phid','rxdate'], ascending = [True, True])\n",
    "\n",
    "# assign a tester column that it will print the same number when consecutive dates happened\n",
    "sddm_consecutive['tester_consecutive_date'] = sddm_consecutive.rxdate.diff().dt.days.ne(1).cumsum()\n",
    "\n",
    "# count the tester_consecutive column and find all the numbers appear more than once\n",
    "from collections import Counter\n",
    "counts = Counter(sddm_consecutive.tester_consecutive_date)\n",
    "sddm_consecutive = sddm_consecutive[sddm_consecutive.tester_consecutive_date.isin([key for key in counts if counts[key] > 1])]\n",
    "\n",
    "# find all the distinct phid that satisfy the above conditions with consecutive dates\n",
    "physicians_consecutive = pd.DataFrame({\"phid\": sddm_consecutive[\"phid\"].unique()})\n",
    "physicians_consecutive.index = physicians_consecutive.index + 1\n",
    "physicians_consecutive"
   ]
  },
  {
   "cell_type": "markdown",
   "metadata": {},
   "source": [
    "## Q5-1. Please **PRINT OUT** how many physician prescribed on 2 consecutive dates"
   ]
  },
  {
   "cell_type": "code",
   "execution_count": 11,
   "metadata": {},
   "outputs": [
    {
     "name": "stdout",
     "output_type": "stream",
     "text": [
      "301\n"
     ]
    }
   ],
   "source": [
    "print(len(physicians_consecutive))"
   ]
  },
  {
   "cell_type": "markdown",
   "metadata": {},
   "source": [
    "## Q5-2. Please **PRINT OUT** how many physician who prescribed on 2 consecutive dates more than once\n",
    "Hint: if a physician prescribed on > 2 consecutive dates (e.g. 2010-01-01, 2010-01-02, 2010-01-03), this physician will be considered as prescribed on 2 consecutive dates twice (e.g. 2010-01-01 to 2010-01-02, and 2010-01-02 to 2010-01-03)"
   ]
  },
  {
   "cell_type": "code",
   "execution_count": 12,
   "metadata": {},
   "outputs": [
    {
     "name": "stdout",
     "output_type": "stream",
     "text": [
      "12\n"
     ]
    },
    {
     "name": "stderr",
     "output_type": "stream",
     "text": [
      "<ipython-input-12-f966b132bf8e>:7: SettingWithCopyWarning: \n",
      "A value is trying to be set on a copy of a slice from a DataFrame.\n",
      "Try using .loc[row_indexer,col_indexer] = value instead\n",
      "\n",
      "See the caveats in the documentation: https://pandas.pydata.org/pandas-docs/stable/user_guide/indexing.html#returning-a-view-versus-a-copy\n",
      "  more_than_once['rxdate'] = pd.to_datetime(more_than_once['rxdate'])\n"
     ]
    }
   ],
   "source": [
    "# According to the hint, as long as prescribed consecutively in 3 days, the phid will be counted as consecutive more than once\n",
    "# the logic will be similar to above, but the flag will be > 2 instead of > 1 here:\n",
    "\n",
    "more_than_once = sddm[[\"phid\",\"rxdate\"]]\n",
    "\n",
    "# convert 'rxdate' column into datetime datatype\n",
    "more_than_once['rxdate'] = pd.to_datetime(more_than_once['rxdate'])\n",
    "\n",
    "# make sure the data is sorted by phid and rxdate both in ascending order\n",
    "more_than_once = more_than_once.sort_values(by=['phid','rxdate'], ascending = [True, True])\n",
    "\n",
    "# assign a tester column that it will print the same number when consecutive dates happened\n",
    "more_than_once['tester_consecutive_date'] = more_than_once.rxdate.diff().dt.days.ne(1).cumsum()\n",
    "\n",
    "# count the tester_consecutive column and find all the numbers appear > 2 times\n",
    "counts = Counter(more_than_once.tester_consecutive_date)\n",
    "more_than_once = more_than_once[more_than_once.tester_consecutive_date.isin([key for key in counts if counts[key] > 2])]\n",
    "\n",
    "# find all the distinct phid that satisfy the above conditions with consecutive dates more than once\n",
    "consecu_more_than_once = pd.DataFrame({\"phid\": more_than_once[\"phid\"].unique()})\n",
    "consecu_more_than_once.index = consecu_more_than_once.index + 1\n",
    "print(len(consecu_more_than_once))"
   ]
  },
  {
   "cell_type": "markdown",
   "metadata": {},
   "source": [
    "## Q6-1. Please find the physicians who had average of at least 2 prescriptions per month during April 01, 2017 to Dec 31, 2017 and had no prescription during Jan 01, 2017 to March 31, 2017"
   ]
  },
  {
   "cell_type": "code",
   "execution_count": 13,
   "metadata": {},
   "outputs": [
    {
     "data": {
      "text/plain": [
       "4    A187\n",
       "8    A303\n",
       "Name: phid, dtype: object"
      ]
     },
     "execution_count": 13,
     "metadata": {},
     "output_type": "execute_result"
    }
   ],
   "source": [
    "sddm_q6 = copy.deepcopy(sddm)\n",
    "sddm_q6['rxdate'] = pd.to_datetime(sddm_q6['rxdate'])\n",
    "sddm_q6['month_start'] = pd.to_datetime(sddm_q6.rxdate.values.astype('datetime64[M]'))\n",
    "\n",
    "# make sure the data is sorted by phid and initial month both in ascending order\n",
    "sddm_q6 = sddm_q6.sort_values(by=['phid','month_start'], ascending = [True, True])\n",
    "\n",
    "sddm_q6['month_start'] = sddm_q6['month_start'].astype(str)\n",
    "sddm_q6_first = sddm_q6.groupby('phid', as_index = False).first()\n",
    "\n",
    "# filter only phid with no prescription between 2017-01-01 and 2017-03-31 and append them into a list array\n",
    "# as long as their initial month is not Jan, Feb, or March, their initial month will be April\n",
    "satisfied = []\n",
    "i = 0\n",
    "while i < len(sddm_q6_first):\n",
    "    if sddm_q6_first.iloc[i][-1] != '2017-01-01' and sddm_q6_first.iloc[i][-1] != '2017-02-01' and sddm_q6_first.iloc[i][-1] != '2017-03-01':\n",
    "        satisfied.append(sddm_q6_first['phid'][i])\n",
    "    i += 1\n",
    "# only keep the rows of physicians with no prescription between 2017-01-01 and 2017-03-31\n",
    "sddm_q6 = sddm_q6[sddm_q6['phid'].isin(satisfied)]\n",
    "\n",
    "# count the total number of prescriptions for these phid, then divided by 9 since April to December is 9 months to find average\n",
    "sddm_q6_final = pd.DataFrame(sddm_q6.groupby(['phid'])['month_start'].count().reset_index().rename(columns={'month_start':'total_cnt'}))\n",
    "sddm_q6_final['average'] = sddm_q6_final['total_cnt'] / 9\n",
    "\n",
    "# after calculate the average, find the phid that have average >= 2 (at least 2 prescriptions/month from April to December)\n",
    "sddm_q6_answer = sddm_q6_final.loc[sddm_q6_final['average'] >= 2]\n",
    "sddm_q6_answer['phid']"
   ]
  },
  {
   "cell_type": "markdown",
   "metadata": {},
   "source": [
    "## Q6-2. Please first calculate the average cost per prescription for the physicians obtained in Q6-1, and then **PRINT OUT** for each physician, how many prescriptions exceeded the average cost per prescription."
   ]
  },
  {
   "cell_type": "code",
   "execution_count": 14,
   "metadata": {},
   "outputs": [
    {
     "name": "stdout",
     "output_type": "stream",
     "text": [
      "   phid  average\n",
      "0  A187       11\n",
      "1  A303       10\n"
     ]
    }
   ],
   "source": [
    "# the physicians I obtained in Q6-1 are \"A187\" and \"A303\", so I first filter the data only for these two physicians\n",
    "q6_phid = sddm_q6_answer['phid'].tolist()\n",
    "sddm_q6_2 = copy.deepcopy(sddm)\n",
    "sddm_q6_2 = sddm_q6_2[sddm_q6_2['phid'].isin(q6_phid)].reset_index()\n",
    "\n",
    "# find the total cost for the two phids\n",
    "sddm_q6_2_cost = pd.DataFrame(sddm_q6_2.groupby(['phid'])['cost'].sum().reset_index().rename(columns={'cost':'total_cost'}))\n",
    "# find the total count for the two phids\n",
    "sddm_q6_2_count = pd.DataFrame(sddm_q6_2.groupby(['phid'])['cost'].count().reset_index().rename(columns={'cost':'total_count'}))\n",
    "\n",
    "# join the total cost and total counts into one table and calculate the average for the two phids\n",
    "sddm_q6_2_avg = sddm_q6_2_cost.merge(sddm_q6_2_count, how='left', on = ['phid'])\n",
    "sddm_q6_2_avg['average'] = sddm_q6_2_avg['total_cost'] / sddm_q6_2_avg['total_count']\n",
    "\n",
    "# join the average back to the full data of the two phids\n",
    "sddm_q6_2_final = pd.merge(sddm_q6_2, sddm_q6_2_avg, how = 'left', on ='phid')\n",
    "\n",
    "# find all the records that the price exceeds the average cost\n",
    "sddm_q6_2_final = sddm_q6_2_final.loc[sddm_q6_2_final['cost'] > sddm_q6_2_final['average']].reset_index()\n",
    "\n",
    "# finally, count the number of prescriptions exceeded the average cost per prescription\n",
    "sddm_q6_2_final_table = pd.DataFrame(sddm_q6_2_final.groupby(['phid'])['average'].count().reset_index())\n",
    "\n",
    "# print out the table\n",
    "print(sddm_q6_2_final_table)"
   ]
  },
  {
   "cell_type": "code",
   "execution_count": null,
   "metadata": {},
   "outputs": [],
   "source": []
  },
  {
   "cell_type": "code",
   "execution_count": null,
   "metadata": {},
   "outputs": [],
   "source": []
  },
  {
   "cell_type": "code",
   "execution_count": null,
   "metadata": {},
   "outputs": [],
   "source": []
  },
  {
   "cell_type": "code",
   "execution_count": null,
   "metadata": {},
   "outputs": [],
   "source": []
  },
  {
   "cell_type": "code",
   "execution_count": null,
   "metadata": {},
   "outputs": [],
   "source": []
  },
  {
   "cell_type": "code",
   "execution_count": null,
   "metadata": {},
   "outputs": [],
   "source": []
  },
  {
   "cell_type": "code",
   "execution_count": null,
   "metadata": {},
   "outputs": [],
   "source": []
  },
  {
   "cell_type": "code",
   "execution_count": null,
   "metadata": {},
   "outputs": [],
   "source": []
  },
  {
   "cell_type": "code",
   "execution_count": null,
   "metadata": {},
   "outputs": [],
   "source": []
  }
 ],
 "metadata": {
  "kernelspec": {
   "display_name": "Python 3",
   "language": "python",
   "name": "python3"
  },
  "language_info": {
   "codemirror_mode": {
    "name": "ipython",
    "version": 3
   },
   "file_extension": ".py",
   "mimetype": "text/x-python",
   "name": "python",
   "nbconvert_exporter": "python",
   "pygments_lexer": "ipython3",
   "version": "3.8.3"
  }
 },
 "nbformat": 4,
 "nbformat_minor": 4
}
