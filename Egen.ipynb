{
 "cells": [
  {
   "cell_type": "markdown",
   "metadata": {},
   "source": [
    "### Zhongyi Zhang Egen Solutions Hackerearth"
   ]
  },
  {
   "cell_type": "code",
   "execution_count": 4,
   "metadata": {},
   "outputs": [],
   "source": [
    "# Question 1:\n",
    "class Solution:\n",
    "    def Linter(self, s: str) -> bool:\n",
    "        #My Answer\n",
    "        if len(s) %2 != 0:\n",
    "            return False\n",
    "        stack=[]\n",
    "        paren = {\"(\":\")\",\"[\":\"]\",\"{\":\"}\"}\n",
    "        keys=[]\n",
    "        v=[]\n",
    "        for a,b in paren.items():\n",
    "            keys.append(a)\n",
    "            v.append(b)\n",
    "        for i in range(len(s)):\n",
    "            if s[i] in keys:\n",
    "                stack.append(s[i])\n",
    "            elif stack and s[i] == paren[stack[-1]]: \n",
    "                stack.pop()\n",
    "            else: return False\n",
    "            \n",
    "        if stack:\n",
    "            return False\n",
    "        else: return True"
   ]
  },
  {
   "cell_type": "code",
   "execution_count": 3,
   "metadata": {},
   "outputs": [
    {
     "name": "stdout",
     "output_type": "stream",
     "text": [
      "[[1,2], [3,4], [2,5], [6,8]]\n",
      "[[1, 5], [6, 8]]\n"
     ]
    }
   ],
   "source": [
    "# Question 2:\n",
    "def combine(num_pair_list):\n",
    "    sorted_list = sorted(num_pair_list, key=lambda x: x[0])\n",
    "    # print(sorted_list)\n",
    "    new_pair_list = []\n",
    "    if len(sorted_list) == 1:\n",
    "        return sorted_list\n",
    "    for i in range(int(len(sorted_list) / 2)):\n",
    "        s1 = sorted_list[i * 2][0]\n",
    "        e1 = sorted_list[i * 2][1]\n",
    "        s2 = sorted_list[i * 2 + 1][0]\n",
    "        e2 = sorted_list[i * 2 + 1][1]\n",
    "        if s2 > e1:\n",
    "            new_pair_list.append(sorted_list[i * 2])\n",
    "            new_pair_list.append(sorted_list[i * 2 + 1])\n",
    "        elif s2 >= s1 and e2 >= e1:\n",
    "            new_s = s1\n",
    "            new_e = e2\n",
    "            new_pair_list.append([new_s, new_e])\n",
    "        elif s2 >= s1 and e2 <= e1:\n",
    "            new_s = s1\n",
    "            new_e = e1\n",
    "            new_pair_list.append([new_s, new_e])\n",
    "    if len(sorted_list) % 2 == 1:\n",
    "        new_pair_list.append(sorted_list[-1])\n",
    "\n",
    "    if len(new_pair_list) == len(sorted_list) or len(new_pair_list) == 1:\n",
    "        return new_pair_list\n",
    "    else:\n",
    "        return combine(new_pair_list)\n",
    "\n",
    "\n",
    "if __name__ == '__main__':\n",
    "    array = input()\n",
    "    # array = '[[1,2], [3,4], [2,5], [6,8]]'\n",
    "    array.strip()\n",
    "    array = array.replace(' ', '')\n",
    "    array = array[1:-1]\n",
    "    num_pairs_list = array.split('],')\n",
    "    num_pairs_int_list = []\n",
    "    for index, num_pair in enumerate(num_pairs_list):\n",
    "        if index == len(num_pairs_list) - 1:\n",
    "            _num_pair = num_pair[1:-1]\n",
    "        else:\n",
    "            _num_pair = num_pair[1:]\n",
    "        nums = _num_pair.split(',')\n",
    "        l_num = int(nums[0])\n",
    "        r_num = int(nums[-1])\n",
    "        num_pairs_int_list.append([l_num, r_num])\n",
    "    result = combine(num_pairs_int_list)\n",
    "    print(result)"
   ]
  },
  {
   "cell_type": "code",
   "execution_count": 1,
   "metadata": {},
   "outputs": [
    {
     "name": "stdout",
     "output_type": "stream",
     "text": [
      "[None, None, 1, None, -1, None, -1, 3, 4]\n"
     ]
    }
   ],
   "source": [
    "# Question 3:\n",
    "import json\n",
    "import sys\n",
    "\n",
    "\n",
    "class Tlb:\n",
    "    def __init__(self, capacity: int):\n",
    "        self.capacity = capacity\n",
    "        self.value_list = []  # {key, value, is_evict}\n",
    "        self.exist_key_list = []\n",
    "\n",
    "    def get(self, key: int) -> int:\n",
    "        result = -1\n",
    "        for info in self.value_list:\n",
    "            if key == info['key']:\n",
    "                result = info['value']\n",
    "        # print(result)\n",
    "        return result\n",
    "\n",
    "    def put(self, key: int, value: int) -> None:\n",
    "        if len(self.value_list) < self.capacity:\n",
    "            for info in self.value_list:\n",
    "                if info['key'] == key:\n",
    "                    info['value'] = value\n",
    "                    return\n",
    "            self.value_list.append({\n",
    "                'key': key,\n",
    "                'value': value\n",
    "            })\n",
    "            self.exist_key_list.insert(0, key)\n",
    "        else:\n",
    "            change_key = self.exist_key_list[0]\n",
    "            del_index = 0\n",
    "            for index, info in enumerate(self.value_list):\n",
    "                if change_key == info['key']:\n",
    "                    del_index = index\n",
    "                    break\n",
    "            del self.value_list[del_index]\n",
    "            del self.exist_key_list[0]\n",
    "            self.value_list.append({\n",
    "                'key': key,\n",
    "                'value': value\n",
    "            })\n",
    "            self.exist_key_list.append(key)\n",
    "        return None\n",
    "\n",
    "\n",
    "if __name__ == '__main__':\n",
    "\n",
    "    tlb = Tlb(2)\n",
    "    output = []\n",
    "    output.append(tlb.put(1, 1))\n",
    "    output.append(tlb.put(2, 2))\n",
    "    output.append(tlb.get(1))\n",
    "    output.append(tlb.put(3, 3))\n",
    "    output.append(tlb.get(2))\n",
    "    output.append(tlb.put(4, 4))\n",
    "    output.append(tlb.get(1))\n",
    "    output.append(tlb.get(3))\n",
    "    output.append(tlb.get(4))\n",
    "    print(output)"
   ]
  },
  {
   "cell_type": "code",
   "execution_count": null,
   "metadata": {},
   "outputs": [],
   "source": []
  }
 ],
 "metadata": {
  "kernelspec": {
   "display_name": "Python 3",
   "language": "python",
   "name": "python3"
  },
  "language_info": {
   "codemirror_mode": {
    "name": "ipython",
    "version": 3
   },
   "file_extension": ".py",
   "mimetype": "text/x-python",
   "name": "python",
   "nbconvert_exporter": "python",
   "pygments_lexer": "ipython3",
   "version": "3.8.3"
  }
 },
 "nbformat": 4,
 "nbformat_minor": 4
}
