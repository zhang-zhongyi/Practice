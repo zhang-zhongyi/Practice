{
 "cells": [
  {
   "cell_type": "markdown",
   "metadata": {},
   "source": [
    "https://www.udemy.com/course/complete-python-bootcamp/learn/quiz/4397024#questions    \n",
    "https://www.geeksforgeeks.org/args-kwargs-python/    \n",
    "https://stackabuse.com/variable-length-arguments-in-python-with-args-and-kwargs/     \n",
    "http://sqlfiddle.com/#!9/001e3a/44    \n",
    "https://docs.python.org/3/tutorial/classes.html    \n",
    "https://www.programiz.com/python-programming/methods/built-in/sum    "
   ]
  },
  {
   "cell_type": "markdown",
   "metadata": {},
   "source": [
    "CREATE TABLE worker ( \n",
    "worker_id INT(6) UNSIGNED AUTO_INCREMENT PRIMARY KEY, \n",
    "first_name VARCHAR(15) NOT NULL, \n",
    "last_name VARCHAR(15) NOT NULL, \n",
    "salary int(7) NOT NULL,\n",
    "joining_date TIMESTAMP,\n",
    "department VARCHAR(15)\n",
    "); \n",
    "\n",
    "\n",
    "INSERT INTO `worker` (`worker_id`, `first_name`, `last_name`, `salary`, `joining_date`, `department`) \n",
    "VALUES ('001', 'Monika', 'Arora', 100000, '2014-02-20 09:00:00', 'HR'),\n",
    "       ('002', 'Niharika', 'Verma',80000, '2014-06-11 09:00:00', 'Admin'),\n",
    "       ('003', 'Vishal', 'Singhal',300000, '2014-02-20 09:00:00', 'HR'),\n",
    "       ('004', 'Amitabh', 'Singh', 500000, '2014-02-20 09:00:00', 'Admin'),\n",
    "       ('005', 'Vivek', 'Bhati', 500000, '2014-06-11 09:00:00', 'Admin'),\n",
    "       ('006', 'Vipul', 'Diwan', 200000, '2014-06-11 09:00:00', 'Account'),\n",
    "       ('007', 'Satish', 'Kumar', 75000, '2014-01-20 09:00:00', 'Account'),\n",
    "       ('008', 'Geetika', 'Chauhan', 90000, '2014-04-11 09:00:00', 'Admin');\n",
    "\n",
    "CREATE TABLE title ( \n",
    "worker_ref_id INT(6), \n",
    "worker_title VARCHAR(15) NOT NULL, \n",
    "affected_from TIMESTAMP\n",
    "); \n",
    "\n",
    "INSERT INTO `title` (`worker_ref_id`, `worker_title`, `affected_from`) \n",
    "VALUES ('1', 'Manager', '2016-02-20 00:00:00'),\n",
    "       ('2', 'Executive', '2016-06-11 00:00:00'),\n",
    "       ('8', 'Executive', '2016-06-11 00:00:00'),\n",
    "       ('5', 'Manager', '2016-06-11 00:00:00'),\n",
    "       ('4', 'Asst. Manager', '2016-06-11 00:00:00'),\n",
    "       ('7', 'Executive', '2016-06-11 00:00:00'),\n",
    "       ('6', 'Lead', '2016-06-11 00:00:00'),\n",
    "       ('3', 'Lead', '2016-06-11 00:00:00');"
   ]
  },
  {
   "cell_type": "code",
   "execution_count": null,
   "metadata": {},
   "outputs": [],
   "source": []
  },
  {
   "cell_type": "code",
   "execution_count": 4,
   "metadata": {},
   "outputs": [
    {
     "name": "stdout",
     "output_type": "stream",
     "text": [
      "The foxeatapple\n"
     ]
    }
   ],
   "source": [
    "print(\"The {}{}{}\".format(\"fox\",\"eat\",\"apple\"))"
   ]
  },
  {
   "cell_type": "code",
   "execution_count": null,
   "metadata": {},
   "outputs": [],
   "source": []
  },
  {
   "cell_type": "code",
   "execution_count": null,
   "metadata": {},
   "outputs": [],
   "source": []
  },
  {
   "cell_type": "code",
   "execution_count": null,
   "metadata": {},
   "outputs": [],
   "source": []
  },
  {
   "cell_type": "code",
   "execution_count": null,
   "metadata": {},
   "outputs": [],
   "source": []
  },
  {
   "cell_type": "code",
   "execution_count": 15,
   "metadata": {},
   "outputs": [
    {
     "name": "stdout",
     "output_type": "stream",
     "text": [
      "The answer is 1.287001\n"
     ]
    }
   ],
   "source": [
    "n = 1000/777\n",
    "print(\"The answer is {r:4.6f}\".format(r=n))"
   ]
  },
  {
   "cell_type": "code",
   "execution_count": 16,
   "metadata": {},
   "outputs": [
    {
     "name": "stdout",
     "output_type": "stream",
     "text": [
      "the answer is 1.287001287001287\n"
     ]
    }
   ],
   "source": [
    "print(f\"the answer is {n}\")"
   ]
  },
  {
   "cell_type": "code",
   "execution_count": 17,
   "metadata": {},
   "outputs": [
    {
     "name": "stdout",
     "output_type": "stream",
     "text": [
      "Fox eat chicken\n"
     ]
    }
   ],
   "source": [
    "print(\"Fox eat {}\".format(\"chicken\"))"
   ]
  },
  {
   "cell_type": "code",
   "execution_count": 18,
   "metadata": {},
   "outputs": [
    {
     "name": "stdout",
     "output_type": "stream",
     "text": [
      "Python rules !\n"
     ]
    }
   ],
   "source": [
    "print(\"{} {} {}\".format(\"Python\",\"rules\",\"!\"))"
   ]
  },
  {
   "cell_type": "code",
   "execution_count": 27,
   "metadata": {},
   "outputs": [
    {
     "data": {
      "text/plain": [
       "[2, 3, 4, 6, 49]"
      ]
     },
     "execution_count": 27,
     "metadata": {},
     "output_type": "execute_result"
    }
   ],
   "source": [
    "l=[3,6,4,49,2]\n",
    "l.sort()\n",
    "l"
   ]
  },
  {
   "cell_type": "code",
   "execution_count": null,
   "metadata": {},
   "outputs": [],
   "source": []
  },
  {
   "cell_type": "markdown",
   "metadata": {},
   "source": [
    "# Python Basics"
   ]
  },
  {
   "cell_type": "markdown",
   "metadata": {},
   "source": [
    "### Given a range of first 10 numbers, Iterate from start number to the end number and print the sum of the current number and previous number"
   ]
  },
  {
   "cell_type": "code",
   "execution_count": 47,
   "metadata": {},
   "outputs": [
    {
     "name": "stdout",
     "output_type": "stream",
     "text": [
      "1\n",
      "3\n",
      "6\n",
      "10\n",
      "15\n",
      "21\n",
      "28\n",
      "36\n",
      "45\n",
      "55\n"
     ]
    }
   ],
   "source": [
    "summ = 0\n",
    "for i in range(1,11):\n",
    "    summ += i\n",
    "    print(summ)"
   ]
  },
  {
   "cell_type": "code",
   "execution_count": 48,
   "metadata": {},
   "outputs": [
    {
     "name": "stdout",
     "output_type": "stream",
     "text": [
      "1\n",
      "3\n",
      "5\n",
      "7\n",
      "9\n",
      "11\n",
      "13\n",
      "15\n",
      "17\n",
      "19\n"
     ]
    }
   ],
   "source": [
    "summ = 0\n",
    "for i in range(1,11):\n",
    "    summ = i + i-1\n",
    "    print(summ)"
   ]
  },
  {
   "cell_type": "code",
   "execution_count": 12,
   "metadata": {},
   "outputs": [
    {
     "name": "stdout",
     "output_type": "stream",
     "text": [
      "4\n",
      "8\n",
      "12\n",
      "16\n"
     ]
    }
   ],
   "source": [
    "l=[1,3,5,7,9]\n",
    "summ=0\n",
    "for i in range(len(l)-1):\n",
    "    summ = l[i]+l[i+1]\n",
    "    print(summ)"
   ]
  },
  {
   "cell_type": "markdown",
   "metadata": {},
   "source": [
    "### Reverse a given number and return true if it is the same as the original number"
   ]
  },
  {
   "cell_type": "code",
   "execution_count": 13,
   "metadata": {},
   "outputs": [
    {
     "data": {
      "text/plain": [
       "True"
      ]
     },
     "execution_count": 13,
     "metadata": {},
     "output_type": "execute_result"
    }
   ],
   "source": [
    "def reverseTest(n):\n",
    "    if str(n) == str(n)[::-1]: \n",
    "        return True\n",
    "    return False\n",
    "reverseTest(101)"
   ]
  },
  {
   "cell_type": "code",
   "execution_count": 14,
   "metadata": {},
   "outputs": [
    {
     "data": {
      "text/plain": [
       "False"
      ]
     },
     "execution_count": 14,
     "metadata": {},
     "output_type": "execute_result"
    }
   ],
   "source": [
    "reverseTest(100)"
   ]
  },
  {
   "cell_type": "markdown",
   "metadata": {},
   "source": [
    "### Python program to display all the prime numbers within a range"
   ]
  },
  {
   "cell_type": "code",
   "execution_count": 99,
   "metadata": {},
   "outputs": [],
   "source": [
    "def findPrime(a,b):\n",
    "    for num in range(a,b+1):\n",
    "        if num >1:\n",
    "            for i in range(2,num):\n",
    "                if num % i ==0:\n",
    "                    break\n",
    "            else:print(num)"
   ]
  },
  {
   "cell_type": "code",
   "execution_count": 100,
   "metadata": {},
   "outputs": [
    {
     "name": "stdout",
     "output_type": "stream",
     "text": [
      "2\n",
      "3\n",
      "5\n",
      "7\n",
      "11\n",
      "13\n",
      "17\n",
      "19\n"
     ]
    }
   ],
   "source": [
    "findPrime(2,19)"
   ]
  },
  {
   "cell_type": "markdown",
   "metadata": {},
   "source": [
    "### Display Fibonacci series up to 10 terms"
   ]
  },
  {
   "cell_type": "code",
   "execution_count": 106,
   "metadata": {},
   "outputs": [
    {
     "name": "stdout",
     "output_type": "stream",
     "text": [
      "0\n",
      "1\n",
      "1\n",
      "2\n",
      "3\n",
      "5\n",
      "8\n",
      "13\n",
      "21\n",
      "34\n"
     ]
    }
   ],
   "source": [
    "def fibo(n):\n",
    "    if n <= 1:\n",
    "        return n\n",
    "    else:\n",
    "        return(fibo(n-1) +fibo(n-2))\n",
    "for i in range(0,10):\n",
    "    print(fibo(i))"
   ]
  },
  {
   "cell_type": "markdown",
   "metadata": {},
   "source": [
    "### Write a loop to find the factorial of any number"
   ]
  },
  {
   "cell_type": "code",
   "execution_count": 16,
   "metadata": {},
   "outputs": [
    {
     "data": {
      "text/plain": [
       "720"
      ]
     },
     "execution_count": 16,
     "metadata": {},
     "output_type": "execute_result"
    }
   ],
   "source": [
    "def fac(n):\n",
    "    p=1\n",
    "    for i in range(1,n+1):\n",
    "        p *= i\n",
    "    return p\n",
    "fac(6)"
   ]
  },
  {
   "cell_type": "code",
   "execution_count": 7,
   "metadata": {},
   "outputs": [],
   "source": [
    "def myfunc(a,b,c=0,d=0,e=0):\n",
    "    return sum((a,b,c,d,e)) * 0.05"
   ]
  },
  {
   "cell_type": "code",
   "execution_count": 8,
   "metadata": {
    "scrolled": true
   },
   "outputs": [
    {
     "data": {
      "text/plain": [
       "32.0"
      ]
     },
     "execution_count": 8,
     "metadata": {},
     "output_type": "execute_result"
    }
   ],
   "source": [
    "myfunc(40,600)"
   ]
  },
  {
   "cell_type": "markdown",
   "metadata": {},
   "source": [
    "# Functions"
   ]
  },
  {
   "cell_type": "markdown",
   "metadata": {},
   "source": [
    "### Write a function func1() such that it can accept a variable length of  argument and print all arguments value"
   ]
  },
  {
   "cell_type": "code",
   "execution_count": 34,
   "metadata": {},
   "outputs": [
    {
     "name": "stdout",
     "output_type": "stream",
     "text": [
      "8\n",
      "9\n",
      "10\n"
     ]
    }
   ],
   "source": [
    "def func1(*args):\n",
    "    for arg in args:\n",
    "        print(arg + 5)\n",
    "func1(3,4,5)"
   ]
  },
  {
   "cell_type": "code",
   "execution_count": 52,
   "metadata": {},
   "outputs": [
    {
     "name": "stdout",
     "output_type": "stream",
     "text": [
      "{'kwarg1': 'apple', 'kwarg2': 'banana', 'kwarg3': 'chocolate'}\n",
      "I love apple\n",
      "I love apple\n",
      "I love apple\n"
     ]
    }
   ],
   "source": [
    "def func2(**kwargs):\n",
    "    print(kwargs)\n",
    "    for kwarg in kwargs:\n",
    "        print(\"I love {}\".format(kwargs['kwarg1']))\n",
    "func2(kwarg1=\"apple\",kwarg2=\"banana\",kwarg3=\"chocolate\")"
   ]
  },
  {
   "cell_type": "code",
   "execution_count": 55,
   "metadata": {},
   "outputs": [
    {
     "data": {
      "text/plain": [
       "[11, 22, 33]"
      ]
     },
     "execution_count": 55,
     "metadata": {},
     "output_type": "execute_result"
    }
   ],
   "source": [
    "dic={'a':11,'b':22,'c':33}\n",
    "[j for i,j in dic.items()]"
   ]
  },
  {
   "cell_type": "code",
   "execution_count": 58,
   "metadata": {},
   "outputs": [
    {
     "name": "stdout",
     "output_type": "stream",
     "text": [
      "{'kwarg1': 'apple', 'kwarg2': 'banana', 'kwarg3': 'chocolate'}\n",
      "I love ['apple', 'banana', 'chocolate']\n",
      "I love ['apple', 'banana', 'chocolate']\n",
      "I love ['apple', 'banana', 'chocolate']\n"
     ]
    }
   ],
   "source": [
    "def func2(**kwargs):\n",
    "    print(kwargs)\n",
    "    for kwarg in kwargs:\n",
    "        print(\"I love {}\".format([v for k,v in kwargs.items()]))\n",
    "func2(kwarg1=\"apple\",kwarg2=\"banana\",kwarg3=\"chocolate\")"
   ]
  },
  {
   "cell_type": "code",
   "execution_count": 34,
   "metadata": {},
   "outputs": [
    {
     "name": "stdout",
     "output_type": "stream",
     "text": [
      "{'kwarg1': 'apple', 'kwarg2': 'banana', 'kwarg3': 'chocolate'}\n",
      "I love apple\n",
      "I love apple\n",
      "I love apple\n"
     ]
    }
   ],
   "source": [
    "def func2(**kwargs):\n",
    "    print(kwargs)\n",
    "    for kwarg in kwargs:\n",
    "        print(\"I love {}\".format(kwargs['kwarg1']))\n",
    "func2(kwarg1=\"apple\",kwarg2=\"banana\",kwarg3=\"chocolate\")"
   ]
  },
  {
   "cell_type": "code",
   "execution_count": 59,
   "metadata": {},
   "outputs": [
    {
     "data": {
      "text/plain": [
       "26"
      ]
     },
     "execution_count": 59,
     "metadata": {},
     "output_type": "execute_result"
    }
   ],
   "source": [
    "def myfunc(*args):\n",
    "    return sum(args)\n",
    "myfunc(5,6,7,8)"
   ]
  },
  {
   "cell_type": "markdown",
   "metadata": {},
   "source": [
    "### Write a function calculation() such that it can accept two variables and calculate the addition and subtraction of it. And also it must return both addition and subtraction in a single return call"
   ]
  },
  {
   "cell_type": "code",
   "execution_count": 148,
   "metadata": {},
   "outputs": [
    {
     "data": {
      "text/plain": [
       "('sum:', 25, 'subtraction:', -5)"
      ]
     },
     "execution_count": 148,
     "metadata": {},
     "output_type": "execute_result"
    }
   ],
   "source": [
    "def calculation(a,b):\n",
    "    return \"sum:\", a+b, \"subtraction:\", a-b\n",
    "calculation(10,15)"
   ]
  },
  {
   "cell_type": "code",
   "execution_count": 33,
   "metadata": {},
   "outputs": [
    {
     "data": {
      "text/plain": [
       "dict"
      ]
     },
     "execution_count": 33,
     "metadata": {},
     "output_type": "execute_result"
    }
   ],
   "source": [
    "s={1:2,2:4,3:6,4:8}\n",
    "type(s)"
   ]
  },
  {
   "cell_type": "markdown",
   "metadata": {},
   "source": [
    "# String"
   ]
  },
  {
   "cell_type": "code",
   "execution_count": 1,
   "metadata": {},
   "outputs": [
    {
     "data": {
      "text/plain": [
       "['h', 'e', 'l', 'l', 'o', 'w', 'o', 'r', 'l', 'd']"
      ]
     },
     "execution_count": 1,
     "metadata": {},
     "output_type": "execute_result"
    }
   ],
   "source": [
    "s=\"helloworld\"\n",
    "list(s)"
   ]
  },
  {
   "cell_type": "code",
   "execution_count": 25,
   "metadata": {},
   "outputs": [
    {
     "data": {
      "text/plain": [
       "'anthropomorphism'"
      ]
     },
     "execution_count": 25,
     "metadata": {},
     "output_type": "execute_result"
    }
   ],
   "source": [
    "def myfunc(s):\n",
    "    result=''\n",
    "    for i in range(len(list(s))):\n",
    "        if i %2 == 0:\n",
    "            list(s)[i] = list(s)[i].upper()\n",
    "        else:list(s)[i] = list(s)[i].lower()\n",
    "    return \"\".join(list(s))\n",
    "myfunc(\"anthropomorphism\")"
   ]
  },
  {
   "cell_type": "code",
   "execution_count": 24,
   "metadata": {},
   "outputs": [
    {
     "data": {
      "text/plain": [
       "'AnThRoPoMoRpHiSm'"
      ]
     },
     "execution_count": 24,
     "metadata": {},
     "output_type": "execute_result"
    }
   ],
   "source": [
    "def myfunc(string):\n",
    "    result=''\n",
    "    for x in range(len(string)):\n",
    "        if x%2==0:\n",
    "            result=result+string[x].upper() \n",
    "        else:\n",
    "            result=result+string[x].lower()\n",
    "    return result\n",
    "myfunc('anthropomorphism')"
   ]
  },
  {
   "cell_type": "code",
   "execution_count": 17,
   "metadata": {},
   "outputs": [
    {
     "data": {
      "text/plain": [
       "'ANTHROPOMORPHISM'"
      ]
     },
     "execution_count": 17,
     "metadata": {},
     "output_type": "execute_result"
    }
   ],
   "source": [
    "s=\"anthropomorphism\"\n",
    "s=s.upper()\n",
    "s"
   ]
  },
  {
   "cell_type": "markdown",
   "metadata": {},
   "source": [
    "### Find all occurrences of “USA” in given string ignoring the case"
   ]
  },
  {
   "cell_type": "code",
   "execution_count": 152,
   "metadata": {},
   "outputs": [
    {
     "data": {
      "text/plain": [
       "4"
      ]
     },
     "execution_count": 152,
     "metadata": {},
     "output_type": "execute_result"
    }
   ],
   "source": [
    "def findString(s):\n",
    "    return s.upper().count(\"USA\")\n",
    "findString(\"Welcome to USA. usa awesome, isn't it? usA is the real UsA!\")"
   ]
  },
  {
   "cell_type": "markdown",
   "metadata": {},
   "source": [
    "### Split a given string on hyphens into several substrings and display each substring"
   ]
  },
  {
   "cell_type": "code",
   "execution_count": 180,
   "metadata": {},
   "outputs": [
    {
     "data": {
      "text/plain": [
       "['a', 'bfd', 'ckmn', '678', '4k58f', '9090', '!!!']"
      ]
     },
     "execution_count": 180,
     "metadata": {},
     "output_type": "execute_result"
    }
   ],
   "source": [
    "def splitHyphen(s):\n",
    "    return s.split(\"-\")\n",
    "splitHyphen(\"a-bfd-ckmn-678-4k58f-9090-!!!\")"
   ]
  },
  {
   "cell_type": "markdown",
   "metadata": {},
   "source": [
    "### Join each element of list into a comma separated string"
   ]
  },
  {
   "cell_type": "code",
   "execution_count": 155,
   "metadata": {},
   "outputs": [
    {
     "data": {
      "text/plain": [
       "'a,b,c,d'"
      ]
     },
     "execution_count": 155,
     "metadata": {},
     "output_type": "execute_result"
    }
   ],
   "source": [
    "l = ['a', 'b', 'c', 'd']\n",
    "css = ','.join(l)\n",
    "css"
   ]
  },
  {
   "cell_type": "markdown",
   "metadata": {},
   "source": [
    "# Data Structures"
   ]
  },
  {
   "cell_type": "code",
   "execution_count": 47,
   "metadata": {},
   "outputs": [
    {
     "name": "stdout",
     "output_type": "stream",
     "text": [
      "1 89\n",
      "2 3\n",
      "3 0\n",
      "4 5\n"
     ]
    }
   ],
   "source": [
    "d = {2:3, 1:89, 4:5, 3:0}\n",
    "sd = sorted(d.items())\n",
    "\n",
    "for k,v in sd:\n",
    "    print(k, v)"
   ]
  },
  {
   "cell_type": "code",
   "execution_count": 50,
   "metadata": {},
   "outputs": [
    {
     "data": {
      "text/plain": [
       "{1: 89, 2: 3, 3: 0, 4: 5}"
      ]
     },
     "execution_count": 50,
     "metadata": {},
     "output_type": "execute_result"
    }
   ],
   "source": [
    "d = {2:3, 1:89, 4:5, 3:0}\n",
    "from collections import OrderedDict as od\n",
    "odd = od(sorted(d.items()))\n",
    "dict(odd)"
   ]
  },
  {
   "cell_type": "markdown",
   "metadata": {},
   "source": [
    "### Given a Python list you should be able to display Python list in the Ascending order"
   ]
  },
  {
   "cell_type": "code",
   "execution_count": 157,
   "metadata": {},
   "outputs": [
    {
     "name": "stdout",
     "output_type": "stream",
     "text": [
      "[-4, 5, 9, 15, 28]\n"
     ]
    }
   ],
   "source": [
    "l=[5,15,-4,9,28]\n",
    "print(sorted(l))"
   ]
  },
  {
   "cell_type": "markdown",
   "metadata": {},
   "source": [
    "### Map 2 lists to create a dictionary"
   ]
  },
  {
   "cell_type": "code",
   "execution_count": 162,
   "metadata": {},
   "outputs": [
    {
     "data": {
      "text/plain": [
       "{'A': 1580, 'B': 49, 'C': 332, 'D': 67}"
      ]
     },
     "execution_count": 162,
     "metadata": {},
     "output_type": "execute_result"
    }
   ],
   "source": [
    "l1=['A','B','C','D','R']\n",
    "l2 = [1580,49,332,67]\n",
    "dic = dict(zip(l1,l2))\n",
    "dic"
   ]
  },
  {
   "cell_type": "markdown",
   "metadata": {},
   "source": [
    "### Initialize dictionary with default values"
   ]
  },
  {
   "cell_type": "code",
   "execution_count": 166,
   "metadata": {},
   "outputs": [
    {
     "data": {
      "text/plain": [
       "defaultdict(list, {'key': [5]})"
      ]
     },
     "execution_count": 166,
     "metadata": {},
     "output_type": "execute_result"
    }
   ],
   "source": [
    "from collections import defaultdict\n",
    "mydict = defaultdict(list)\n",
    "mydict[\"key\"].append(5)\n",
    "mydict"
   ]
  },
  {
   "cell_type": "code",
   "execution_count": 164,
   "metadata": {},
   "outputs": [
    {
     "data": {
      "text/plain": [
       "collections.defaultdict"
      ]
     },
     "execution_count": 164,
     "metadata": {},
     "output_type": "execute_result"
    }
   ],
   "source": [
    "type(mydict)"
   ]
  },
  {
   "cell_type": "code",
   "execution_count": 1,
   "metadata": {},
   "outputs": [
    {
     "data": {
      "text/plain": [
       "defaultdict(set, {'key': {5}})"
      ]
     },
     "execution_count": 1,
     "metadata": {},
     "output_type": "execute_result"
    }
   ],
   "source": [
    "from collections import defaultdict\n",
    "mydict = defaultdict(set)\n",
    "mydict[\"key\"].add(5)\n",
    "mydict"
   ]
  },
  {
   "cell_type": "code",
   "execution_count": null,
   "metadata": {},
   "outputs": [],
   "source": []
  },
  {
   "cell_type": "markdown",
   "metadata": {},
   "source": [
    "### Find common items between 2 sets"
   ]
  },
  {
   "cell_type": "code",
   "execution_count": 175,
   "metadata": {},
   "outputs": [
    {
     "data": {
      "text/plain": [
       "{0, 8}"
      ]
     },
     "execution_count": 175,
     "metadata": {},
     "output_type": "execute_result"
    }
   ],
   "source": [
    "a = set([1,3,5,7,9,8,0])\n",
    "b = set([0,2,4,6,8,10])\n",
    "a.intersection(b)"
   ]
  },
  {
   "cell_type": "code",
   "execution_count": null,
   "metadata": {},
   "outputs": [],
   "source": []
  },
  {
   "cell_type": "markdown",
   "metadata": {},
   "source": [
    "# OOP"
   ]
  },
  {
   "cell_type": "code",
   "execution_count": 51,
   "metadata": {},
   "outputs": [],
   "source": [
    "from datetime import date\n",
    "class Person:\n",
    "    def __init__(self, names, birth):\n",
    "        self.names = names\n",
    "        self.birth = birth\n",
    "    def calculateAge(self):\n",
    "        self.today = date.today()\n",
    "        return self.today.year - self.birth.year - ((self.today.month, self.today.day) < (self.birth.month, self.birth.day))\n",
    "    def printer(self):\n",
    "        print(\"My name is \",self.names,\", and my birthday is \",self.birth)"
   ]
  },
  {
   "cell_type": "code",
   "execution_count": 54,
   "metadata": {},
   "outputs": [],
   "source": [
    "o = Person(\"Troy\",date(1995,7,27))"
   ]
  },
  {
   "cell_type": "code",
   "execution_count": 55,
   "metadata": {},
   "outputs": [
    {
     "data": {
      "text/plain": [
       "25"
      ]
     },
     "execution_count": 55,
     "metadata": {},
     "output_type": "execute_result"
    }
   ],
   "source": [
    "o.calculateAge()"
   ]
  },
  {
   "cell_type": "code",
   "execution_count": 212,
   "metadata": {},
   "outputs": [
    {
     "name": "stdout",
     "output_type": "stream",
     "text": [
      "My name is  Troy , and my birthday is  1995-07-27\n"
     ]
    }
   ],
   "source": [
    "o.printer()"
   ]
  },
  {
   "cell_type": "code",
   "execution_count": null,
   "metadata": {},
   "outputs": [],
   "source": []
  },
  {
   "cell_type": "code",
   "execution_count": 72,
   "metadata": {},
   "outputs": [
    {
     "name": "stdout",
     "output_type": "stream",
     "text": [
      "5\n",
      "[1, 3, 5, 7, 9, 9]\n"
     ]
    }
   ],
   "source": [
    "class names:\n",
    "    def __init__(self,name):\n",
    "        self.name = name\n",
    "    def count(self,char):\n",
    "        return self.name.count(char)\n",
    "    def odd(self, lst_number):\n",
    "        return [i for i in lst_number if i%2 != 0]\n",
    "\n",
    "o=names('TroyTTTT')\n",
    "print(o.count(\"T\"))\n",
    "print(o.odd([1,2,3,4,5,6,7,9,9]))"
   ]
  },
  {
   "cell_type": "code",
   "execution_count": null,
   "metadata": {},
   "outputs": [],
   "source": []
  },
  {
   "cell_type": "code",
   "execution_count": 75,
   "metadata": {},
   "outputs": [
    {
     "data": {
      "text/plain": [
       "4"
      ]
     },
     "execution_count": 75,
     "metadata": {},
     "output_type": "execute_result"
    }
   ],
   "source": [
    "s = \"fineUSAaaaUSA\"\n",
    "s.find(\"USA\",2)"
   ]
  },
  {
   "cell_type": "code",
   "execution_count": null,
   "metadata": {},
   "outputs": [],
   "source": []
  },
  {
   "cell_type": "code",
   "execution_count": null,
   "metadata": {},
   "outputs": [],
   "source": []
  },
  {
   "cell_type": "markdown",
   "metadata": {},
   "source": [
    "# SQL\n",
    "https://www.techbeamers.com/sql-query-questions-answers-for-practice/"
   ]
  },
  {
   "cell_type": "markdown",
   "metadata": {},
   "source": [
    "### Write an SQL query to fetch unique values of DEPARTMENT from Worker table"
   ]
  },
  {
   "cell_type": "code",
   "execution_count": null,
   "metadata": {},
   "outputs": [],
   "source": [
    "select department\n",
    "from worker\n",
    "group by department"
   ]
  },
  {
   "cell_type": "code",
   "execution_count": null,
   "metadata": {},
   "outputs": [],
   "source": [
    "select distinct department\n",
    "from worker"
   ]
  },
  {
   "cell_type": "code",
   "execution_count": null,
   "metadata": {},
   "outputs": [],
   "source": []
  },
  {
   "cell_type": "code",
   "execution_count": 61,
   "metadata": {},
   "outputs": [
    {
     "name": "stdout",
     "output_type": "stream",
     "text": [
      "hello\n"
     ]
    },
    {
     "data": {
      "text/plain": [
       "<__main__.Greeting at 0x110355290>"
      ]
     },
     "execution_count": 61,
     "metadata": {},
     "output_type": "execute_result"
    }
   ],
   "source": [
    "class Greeting():\n",
    "    def __init__(self):\n",
    "        print('hello')\n",
    "o=Greeting()\n",
    "o"
   ]
  },
  {
   "cell_type": "code",
   "execution_count": 67,
   "metadata": {},
   "outputs": [
    {
     "name": "stdout",
     "output_type": "stream",
     "text": [
      "15\n"
     ]
    },
    {
     "data": {
      "text/plain": [
       "{3: 15}"
      ]
     },
     "execution_count": 67,
     "metadata": {},
     "output_type": "execute_result"
    }
   ],
   "source": [
    "def default_dict():\n",
    "    return 15\n",
    "from collections import defaultdict\n",
    "x=defaultdict(default_dict)\n",
    "print(x[3])\n",
    "type(x)\n",
    "dict(x)"
   ]
  },
  {
   "cell_type": "markdown",
   "metadata": {},
   "source": [
    "### Write an SQL query to print details of the Workers who are also Managers"
   ]
  },
  {
   "cell_type": "code",
   "execution_count": null,
   "metadata": {},
   "outputs": [],
   "source": [
    "SELECT DISTINCT W.FIRST_NAME, T.WORKER_TITLE\n",
    "FROM Worker W\n",
    "INNER JOIN Title T\n",
    "ON W.WORKER_ID = T.WORKER_REF_ID\n",
    "AND T.WORKER_TITLE in ('Manager');"
   ]
  },
  {
   "cell_type": "code",
   "execution_count": null,
   "metadata": {},
   "outputs": [],
   "source": [
    "SELECT DISTINCT W.FIRST_NAME, T.WORKER_TITLE\n",
    "FROM Worker W\n",
    "INNER JOIN Title T\n",
    "ON W.WORKER_ID = T.WORKER_REF_ID\n",
    "where t.worker_title = 'manager';"
   ]
  },
  {
   "cell_type": "markdown",
   "metadata": {},
   "source": [
    "### Write an SQL query to fetch the no. of workers for each department in the descending order."
   ]
  },
  {
   "cell_type": "code",
   "execution_count": null,
   "metadata": {},
   "outputs": [],
   "source": [
    "SELECT department, count(*) as NumberOfWorkers\n",
    "from worker\n",
    "group by department\n",
    "order by NumberOfWorkers desc;"
   ]
  },
  {
   "cell_type": "markdown",
   "metadata": {},
   "source": [
    "### Write an SQL query to determine the nth (say n=5) highest salary from a table."
   ]
  },
  {
   "cell_type": "code",
   "execution_count": null,
   "metadata": {},
   "outputs": [],
   "source": [
    "select salary\n",
    "from (select salary, dense_rank() over (order by salary desc) as rank\n",
    "     from worker)\n",
    "where rank = 5"
   ]
  },
  {
   "cell_type": "code",
   "execution_count": null,
   "metadata": {},
   "outputs": [],
   "source": [
    "select salary\n",
    "from worker\n",
    "order by salary desc\n",
    "limit 4,1;"
   ]
  },
  {
   "cell_type": "code",
   "execution_count": null,
   "metadata": {},
   "outputs": [],
   "source": [
    "select salary\n",
    "from worker\n",
    "order by salary desc\n",
    "limit 1\n",
    "offset 4;"
   ]
  },
  {
   "cell_type": "code",
   "execution_count": null,
   "metadata": {},
   "outputs": [],
   "source": [
    "SELECT Salary\n",
    "FROM Worker W1\n",
    "WHERE 4 = (\n",
    " SELECT COUNT( DISTINCT ( W2.Salary ) )\n",
    " FROM Worker W2\n",
    " WHERE W2.Salary >= W1.Salary\n",
    " );"
   ]
  },
  {
   "cell_type": "markdown",
   "metadata": {},
   "source": [
    "### Write an SQL query to fetch the list of employees with the same salary."
   ]
  },
  {
   "cell_type": "code",
   "execution_count": null,
   "metadata": {},
   "outputs": [],
   "source": [
    "Select distinct W.WORKER_ID, concat(W.FIRST_NAME, ' ', w.last_name) as Name, W.Salary \n",
    "from Worker W, Worker W1 \n",
    "where W.Salary = W1.Salary \n",
    "and W.WORKER_ID != W1.WORKER_ID;"
   ]
  },
  {
   "cell_type": "code",
   "execution_count": null,
   "metadata": {},
   "outputs": [],
   "source": []
  },
  {
   "cell_type": "code",
   "execution_count": 5,
   "metadata": {},
   "outputs": [
    {
     "name": "stdout",
     "output_type": "stream",
     "text": [
      "0\n",
      "1\n",
      "1\n",
      "2\n",
      "3\n",
      "5\n",
      "8\n",
      "13\n",
      "21\n",
      "34\n"
     ]
    }
   ],
   "source": [
    "def fib(n):\n",
    "    if n <=1:\n",
    "        return n \n",
    "    else:return fib(n-1)+fib(n-2)\n",
    "for i in range(0,10):\n",
    "    print(fib(i))"
   ]
  },
  {
   "cell_type": "code",
   "execution_count": 10,
   "metadata": {},
   "outputs": [
    {
     "name": "stdout",
     "output_type": "stream",
     "text": [
      "2\n",
      "3\n",
      "5\n",
      "7\n"
     ]
    }
   ],
   "source": [
    "def prime(a,b):\n",
    "    for i in range(a,b):\n",
    "        if i > 1:\n",
    "            for j in range(2,i):\n",
    "                if i % j ==0:\n",
    "                    break\n",
    "            else: print(i)\n",
    "prime(-10,10)"
   ]
  },
  {
   "cell_type": "code",
   "execution_count": null,
   "metadata": {},
   "outputs": [],
   "source": []
  },
  {
   "cell_type": "code",
   "execution_count": null,
   "metadata": {},
   "outputs": [],
   "source": []
  },
  {
   "cell_type": "code",
   "execution_count": null,
   "metadata": {},
   "outputs": [],
   "source": []
  },
  {
   "cell_type": "code",
   "execution_count": null,
   "metadata": {},
   "outputs": [],
   "source": []
  },
  {
   "cell_type": "code",
   "execution_count": null,
   "metadata": {},
   "outputs": [],
   "source": []
  },
  {
   "cell_type": "code",
   "execution_count": null,
   "metadata": {},
   "outputs": [],
   "source": []
  },
  {
   "cell_type": "code",
   "execution_count": null,
   "metadata": {},
   "outputs": [],
   "source": []
  },
  {
   "cell_type": "code",
   "execution_count": null,
   "metadata": {},
   "outputs": [],
   "source": []
  }
 ],
 "metadata": {
  "kernelspec": {
   "display_name": "Python 3",
   "language": "python",
   "name": "python3"
  },
  "language_info": {
   "codemirror_mode": {
    "name": "ipython",
    "version": 3
   },
   "file_extension": ".py",
   "mimetype": "text/x-python",
   "name": "python",
   "nbconvert_exporter": "python",
   "pygments_lexer": "ipython3",
   "version": "3.8.3"
  }
 },
 "nbformat": 4,
 "nbformat_minor": 4
}
