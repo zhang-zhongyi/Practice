{
 "cells": [
  {
   "cell_type": "code",
   "execution_count": 1,
   "metadata": {},
   "outputs": [
    {
     "name": "stdout",
     "output_type": "stream",
     "text": [
      "['* Edgar', '* Frannie', '* Michael']\n",
      "['* EastShore Healthcare', '* Alliance Medical Group']\n"
     ]
    }
   ],
   "source": [
    "with open('billing_log_small.txt') as w:\n",
    "    policy = [item.lstrip().rstrip() for item in w.readlines()]\n",
    "\n",
    "members_list = []\n",
    "providers_list = []\n",
    "for i in policy:\n",
    "    if str(i[0:6]).upper() == 'MEMBER' and i[7:] not in members_list:\n",
    "        members_list.append(\"* \" + i[7:])\n",
    "    elif str(i[0:8]).upper() == 'PROVIDER' and i[9:] not in providers_list:\n",
    "        providers_list.append(\"* \" + i[9:])\n",
    "order = members_list + providers_list\n",
    "\n",
    "all_bills = [i for i in policy if str(i[0:4]).upper() == 'BILL']\n",
    "\n",
    "from collections import deque\n",
    "bills = []\n",
    "for i, j in enumerate(all_bills):\n",
    "    bills.append(deque())\n",
    "    stack = j.split(' ')[1:]\n",
    "    for k in j.split(' ')[-1:-4:-1]:\n",
    "        bills[i].appendleft(stack.pop())\n",
    "    bills[i].appendleft(' '.join(stack))\n",
    "bills = [list(i) for i in bills]\n",
    "for i in bills:\n",
    "    i[-1] = float(i[-1])\n",
    "\n",
    "def convert_month_year(l: list):\n",
    "    for i in l:\n",
    "        i[-2] = i[-2][0:8] + '01'\n",
    "        if i[-2][5:7] == '01':\n",
    "            i.append('January ' + i[-2][:4])\n",
    "        elif i[-2][5:7] == '02':\n",
    "            i.append('February ' + i[-2][:4])\n",
    "        elif i[-2][5:7] == '03':\n",
    "            i.append('March ' + i[-2][:4])\n",
    "        elif i[-2][5:7] == '04':\n",
    "            i.append('April ' + i[-2][:4])\n",
    "        elif i[-2][5:7] == '05':\n",
    "            i.append('May ' + i[-2][:4])\n",
    "        elif i[-2][5:7] == '06':\n",
    "            i.append('June ' + i[-2][:4])\n",
    "        elif i[-2][5:7] == '07':\n",
    "            i.append('July ' + i[-2][:4])\n",
    "        elif i[-2][5:7] == '08':\n",
    "            i.append('August ' + i[-2][:4])\n",
    "        elif i[-2][5:7] == '09':\n",
    "            i.append('September ' + i[-2][:4])\n",
    "        elif i[-2][5:7] == '10':\n",
    "            i.append('October ' + i[-2][:4])\n",
    "        elif i[-2][5:7] == '11':\n",
    "            i.append('November ' + i[-2][:4])\n",
    "        elif i[-2][5:7] == '12':\n",
    "            i.append('December ' + i[-2][:4])\n",
    "    return l\n",
    "convert_month_year(bills)\n",
    "\n",
    "from datetime import datetime\n",
    "bills.sort(key=lambda x: datetime.strptime(x[2], \"%Y-%m-%d\")) # sort by month first for later data preparation\n",
    "\n",
    "providers = []\n",
    "members = []\n",
    "for i,j in enumerate(bills):\n",
    "    members.append([])\n",
    "    providers.append([])\n",
    "    members[i].append(j[-1] + \":\")\n",
    "    members[i].append(\"* \" + j[1])\n",
    "    members[i].append(j[-2])\n",
    "    providers[i].append(j[-1] + \":\")\n",
    "    providers[i].append(\"* \" + j[0])\n",
    "    providers[i].append(j[-2])\n",
    "members_providers = members + providers # combine members and providers name into one list. \n",
    "#re-organize the above list and filter only the data I will need later. \n",
    "\n",
    "from collections import defaultdict\n",
    "d = {i[0]: dict() for i in members_providers}\n",
    "for i in members_providers:\n",
    "    if i[0] not in d.keys(): # this condition shouldn't be used since I already created all the keys in the dictionary\n",
    "        d.update({i[0]: dict()})\n",
    "    if i[0] in d.keys() and i[1] not in d[i[0]].keys(): # if month and year in the dictionary but members/providers name not in the sub-dictionary\n",
    "        d[i[0]].update({i[1]: i[2]})\n",
    "    elif i[0] in d.keys() and i[1] in d[i[0]].keys(): # if month and year in the dictionary and members/providers name also in the sub-dictionary, then adding and accumulate the value\n",
    "        d[i[0]][i[1]] += i[2]\n",
    "\n",
    "for i,j in d.items():\n",
    "    d[i] = {m:n for m,n in sorted(j.items(),key = lambda pair: order.index(pair[0]))}\n",
    "    \n",
    "for i, j in d.items():\n",
    "    for k, v in j.items():\n",
    "        j[k] = \"$\"+\"{0:,.2f}\".format(v)\n",
    "        \n",
    "with open('/Users/icega/bcbs/official testing/billing_log_report_by_troy.txt','w') as f:\n",
    "    for month_year, name in d.items():\n",
    "        f.write(month_year + '\\n')\n",
    "        f.write(\"\\n\".join([\"{}: {}\".format(value_key, digit) for value_key, digit in name.items()]))\n",
    "        f.write('\\n')"
   ]
  },
  {
   "cell_type": "code",
   "execution_count": 1,
   "metadata": {},
   "outputs": [
    {
     "name": "stderr",
     "output_type": "stream",
     "text": [
      "usage: ipykernel_launcher.py [-h] -i FILE\n",
      "ipykernel_launcher.py: error: the following arguments are required: -i/--input\n"
     ]
    },
    {
     "ename": "SystemExit",
     "evalue": "2",
     "output_type": "error",
     "traceback": [
      "An exception has occurred, use %tb to see the full traceback.\n",
      "\u001b[1;31mSystemExit\u001b[0m\u001b[1;31m:\u001b[0m 2\n"
     ]
    },
    {
     "name": "stderr",
     "output_type": "stream",
     "text": [
      "C:\\Users\\icega\\miniconda3\\lib\\site-packages\\IPython\\core\\interactiveshell.py:3425: UserWarning: To exit: use 'exit', 'quit', or Ctrl-D.\n",
      "  warn(\"To exit: use 'exit', 'quit', or Ctrl-D.\", stacklevel=1)\n"
     ]
    }
   ],
   "source": [
    "import argparse, os\n",
    "from argparse import ArgumentParser\n",
    "\n",
    "\n",
    "def validate_file(f):\n",
    "    if not os.path.exists(f):\n",
    "        # Argparse uses the ArgumentTypeError to give a rejection message like:\n",
    "        # error: argument input: x does not exist\n",
    "        raise argparse.ArgumentTypeError(\"{0} does not exist\".format(f))\n",
    "    return f\n",
    "\n",
    "\n",
    "if __name__ == \"__main__\":\n",
    "\n",
    "    parser = ArgumentParser(description=\"Read file form Command line.\")\n",
    "    parser.add_argument(\"-i\", \"--input\", dest=\"filename\", required=True, type=validate_file,\n",
    "                        help=\"input file\", metavar=\"FILE\")\n",
    "    args = parser.parse_args()\n",
    "    print(args.filename)"
   ]
  },
  {
   "cell_type": "code",
   "execution_count": 3,
   "metadata": {},
   "outputs": [
    {
     "ename": "FileNotFoundError",
     "evalue": "[Errno 2] No such file or directory: '/Users/icega/bcbs/official testingad/billing_log_report_by_troy.txt'",
     "output_type": "error",
     "traceback": [
      "\u001b[1;31m---------------------------------------------------------------------------\u001b[0m",
      "\u001b[1;31mFileNotFoundError\u001b[0m                         Traceback (most recent call last)",
      "\u001b[1;32m<ipython-input-3-5f9d292d9b27>\u001b[0m in \u001b[0;36m<module>\u001b[1;34m\u001b[0m\n\u001b[1;32m----> 1\u001b[1;33m \u001b[1;32mwith\u001b[0m \u001b[0mopen\u001b[0m\u001b[1;33m(\u001b[0m\u001b[1;34m'/Users/icega/bcbs/official testingad/billing_log_report_by_troy.txt'\u001b[0m\u001b[1;33m)\u001b[0m \u001b[1;32mas\u001b[0m \u001b[0mw\u001b[0m\u001b[1;33m:\u001b[0m\u001b[1;33m\u001b[0m\u001b[1;33m\u001b[0m\u001b[0m\n\u001b[0m\u001b[0;32m      2\u001b[0m     \u001b[0mpolicy\u001b[0m \u001b[1;33m=\u001b[0m \u001b[1;33m[\u001b[0m\u001b[0mitem\u001b[0m\u001b[1;33m.\u001b[0m\u001b[0mlstrip\u001b[0m\u001b[1;33m(\u001b[0m\u001b[1;33m)\u001b[0m\u001b[1;33m.\u001b[0m\u001b[0mrstrip\u001b[0m\u001b[1;33m(\u001b[0m\u001b[1;33m)\u001b[0m \u001b[1;32mfor\u001b[0m \u001b[0mitem\u001b[0m \u001b[1;32min\u001b[0m \u001b[0mw\u001b[0m\u001b[1;33m.\u001b[0m\u001b[0mreadlines\u001b[0m\u001b[1;33m(\u001b[0m\u001b[1;33m)\u001b[0m\u001b[1;33m]\u001b[0m\u001b[1;33m\u001b[0m\u001b[1;33m\u001b[0m\u001b[0m\n",
      "\u001b[1;31mFileNotFoundError\u001b[0m: [Errno 2] No such file or directory: '/Users/icega/bcbs/official testingad/billing_log_report_by_troy.txt'"
     ]
    }
   ],
   "source": [
    "\n",
    "with open('/Users/icega/bcbs/official testingad/billing_log_report_by_troy.txt') as w:\n",
    "    policy = [item.lstrip().rstrip() for item in w.readlines()]"
   ]
  },
  {
   "cell_type": "code",
   "execution_count": null,
   "metadata": {},
   "outputs": [],
   "source": []
  }
 ],
 "metadata": {
  "kernelspec": {
   "display_name": "Python 3",
   "language": "python",
   "name": "python3"
  },
  "language_info": {
   "codemirror_mode": {
    "name": "ipython",
    "version": 3
   },
   "file_extension": ".py",
   "mimetype": "text/x-python",
   "name": "python",
   "nbconvert_exporter": "python",
   "pygments_lexer": "ipython3",
   "version": "3.8.3"
  }
 },
 "nbformat": 4,
 "nbformat_minor": 4
}
