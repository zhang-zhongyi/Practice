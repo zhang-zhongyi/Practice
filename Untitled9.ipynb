{
 "cells": [
  {
   "cell_type": "code",
   "execution_count": 4,
   "metadata": {},
   "outputs": [
    {
     "data": {
      "text/plain": [
       "<tf.Variable 'Variable:0' shape=(5, 30) dtype=float32, numpy=\n",
       "array([[-0.44499588, -0.46485066,  0.98254037, -0.04372883, -0.7238288 ,\n",
       "         0.25136328,  0.73201084, -0.03013659, -0.07644868,  0.9035964 ,\n",
       "        -0.3621292 ,  0.16916633, -0.27134418, -0.5657041 ,  0.37327886,\n",
       "         0.40546775,  0.9271009 ,  0.44814014,  0.69285655, -0.3727746 ,\n",
       "        -0.7566879 , -0.3750546 ,  0.988924  ,  0.4644463 , -0.01017332,\n",
       "        -0.43813968, -0.13560438,  0.14940476,  0.02767229, -0.39936924],\n",
       "       [ 0.50956273, -0.1258328 ,  0.6945691 , -0.98387146, -0.3211708 ,\n",
       "         0.69296384, -0.42202497,  0.50471544,  0.39891958,  0.9612367 ,\n",
       "        -0.00829148, -0.73889875, -0.8149903 , -0.83197165,  0.3865378 ,\n",
       "         0.67541337,  0.3113594 , -0.7123189 ,  0.49045038,  0.57407475,\n",
       "        -0.4874785 ,  0.86534786, -0.5765221 ,  0.6205709 , -0.24242759,\n",
       "         0.30370426,  0.7016108 , -0.6764715 ,  0.79008746,  0.87806416],\n",
       "       [-0.34948087, -0.57374096, -0.2838025 ,  0.5766001 , -0.03766608,\n",
       "         0.45538378,  0.8818586 , -0.6212442 ,  0.24984741,  0.4660089 ,\n",
       "         0.46953583,  0.66326404, -0.2443254 , -0.8266907 , -0.83253694,\n",
       "         0.61752844,  0.5566194 , -0.654274  , -0.92740154, -0.70461965,\n",
       "         0.35649204, -0.1398158 , -0.09368587,  0.20205855, -0.05026031,\n",
       "        -0.49617267, -0.91342926, -0.3063178 ,  0.5067184 , -0.6358094 ],\n",
       "       [ 0.96789765,  0.42637992, -0.73655176,  0.06508255, -0.59345317,\n",
       "         0.4675591 ,  0.5203712 , -0.38621378, -0.37788868,  0.08504486,\n",
       "         0.93254566,  0.17958474, -0.27724457, -0.49902296, -0.8127253 ,\n",
       "         0.64190555,  0.36536098, -0.86709213, -0.30548668,  0.7224169 ,\n",
       "        -0.2844727 , -0.32842016, -0.5050001 ,  0.30950928,  0.36615205,\n",
       "         0.6528764 , -0.06475997, -0.6582444 ,  0.00561833,  0.7803521 ],\n",
       "       [ 0.85858107, -0.82877064, -0.4131391 , -0.26295877,  0.23754025,\n",
       "         0.2812662 , -0.45398068, -0.90306187,  0.730706  ,  0.6545253 ,\n",
       "        -0.46701074, -0.8786757 ,  0.8590002 , -0.59504485,  0.7192297 ,\n",
       "        -0.0451355 , -0.4114921 , -0.5605738 ,  0.42306137,  0.4632473 ,\n",
       "        -0.27490616,  0.7676883 ,  0.1299758 , -0.92836285, -0.86445   ,\n",
       "        -0.09380174, -0.54292655,  0.285053  , -0.8989279 , -0.79568386]],\n",
       "      dtype=float32)>"
      ]
     },
     "execution_count": 4,
     "metadata": {},
     "output_type": "execute_result"
    }
   ],
   "source": [
    "x = tf.Variable(tf.random.uniform([5, 30], -1, 1))\n",
    "x"
   ]
  },
  {
   "cell_type": "code",
   "execution_count": 8,
   "metadata": {},
   "outputs": [
    {
     "data": {
      "text/plain": [
       "[<tf.Tensor: shape=(5, 4), dtype=float32, numpy=\n",
       " array([[-0.44499588, -0.46485066,  0.98254037, -0.04372883],\n",
       "        [ 0.50956273, -0.1258328 ,  0.6945691 , -0.98387146],\n",
       "        [-0.34948087, -0.57374096, -0.2838025 ,  0.5766001 ],\n",
       "        [ 0.96789765,  0.42637992, -0.73655176,  0.06508255],\n",
       "        [ 0.85858107, -0.82877064, -0.4131391 , -0.26295877]],\n",
       "       dtype=float32)>,\n",
       " <tf.Tensor: shape=(5, 15), dtype=float32, numpy=\n",
       " array([[-0.7238288 ,  0.25136328,  0.73201084, -0.03013659, -0.07644868,\n",
       "          0.9035964 , -0.3621292 ,  0.16916633, -0.27134418, -0.5657041 ,\n",
       "          0.37327886,  0.40546775,  0.9271009 ,  0.44814014,  0.69285655],\n",
       "        [-0.3211708 ,  0.69296384, -0.42202497,  0.50471544,  0.39891958,\n",
       "          0.9612367 , -0.00829148, -0.73889875, -0.8149903 , -0.83197165,\n",
       "          0.3865378 ,  0.67541337,  0.3113594 , -0.7123189 ,  0.49045038],\n",
       "        [-0.03766608,  0.45538378,  0.8818586 , -0.6212442 ,  0.24984741,\n",
       "          0.4660089 ,  0.46953583,  0.66326404, -0.2443254 , -0.8266907 ,\n",
       "         -0.83253694,  0.61752844,  0.5566194 , -0.654274  , -0.92740154],\n",
       "        [-0.59345317,  0.4675591 ,  0.5203712 , -0.38621378, -0.37788868,\n",
       "          0.08504486,  0.93254566,  0.17958474, -0.27724457, -0.49902296,\n",
       "         -0.8127253 ,  0.64190555,  0.36536098, -0.86709213, -0.30548668],\n",
       "        [ 0.23754025,  0.2812662 , -0.45398068, -0.90306187,  0.730706  ,\n",
       "          0.6545253 , -0.46701074, -0.8786757 ,  0.8590002 , -0.59504485,\n",
       "          0.7192297 , -0.0451355 , -0.4114921 , -0.5605738 ,  0.42306137]],\n",
       "       dtype=float32)>,\n",
       " <tf.Tensor: shape=(5, 11), dtype=float32, numpy=\n",
       " array([[-0.3727746 , -0.7566879 , -0.3750546 ,  0.988924  ,  0.4644463 ,\n",
       "         -0.01017332, -0.43813968, -0.13560438,  0.14940476,  0.02767229,\n",
       "         -0.39936924],\n",
       "        [ 0.57407475, -0.4874785 ,  0.86534786, -0.5765221 ,  0.6205709 ,\n",
       "         -0.24242759,  0.30370426,  0.7016108 , -0.6764715 ,  0.79008746,\n",
       "          0.87806416],\n",
       "        [-0.70461965,  0.35649204, -0.1398158 , -0.09368587,  0.20205855,\n",
       "         -0.05026031, -0.49617267, -0.91342926, -0.3063178 ,  0.5067184 ,\n",
       "         -0.6358094 ],\n",
       "        [ 0.7224169 , -0.2844727 , -0.32842016, -0.5050001 ,  0.30950928,\n",
       "          0.36615205,  0.6528764 , -0.06475997, -0.6582444 ,  0.00561833,\n",
       "          0.7803521 ],\n",
       "        [ 0.4632473 , -0.27490616,  0.7676883 ,  0.1299758 , -0.92836285,\n",
       "         -0.86445   , -0.09380174, -0.54292655,  0.285053  , -0.8989279 ,\n",
       "         -0.79568386]], dtype=float32)>]"
      ]
     },
     "execution_count": 8,
     "metadata": {},
     "output_type": "execute_result"
    }
   ],
   "source": [
    "import tensorflow as tf\n",
    "tf.split(x, [4, 15, 11], 1)"
   ]
  },
  {
   "cell_type": "code",
   "execution_count": 28,
   "metadata": {},
   "outputs": [
    {
     "name": "stdout",
     "output_type": "stream",
     "text": [
      "1\n",
      "['l']\n",
      "2\n",
      "['l', 'e']\n",
      "3\n",
      "['l', 'e', 'e']\n",
      "4\n",
      "['l', 'e', 'e', 't']\n",
      "8\n",
      "['l', 'e', 'e', 't', '2']\n",
      "9\n",
      "['l', 'e', 'e', 't', '2', 'c']\n",
      "10\n",
      "['l', 'e', 'e', 't', '2', 'c', 'o']\n",
      "11\n",
      "['l', 'e', 'e', 't', '2', 'c', 'o', 'd']\n",
      "12\n",
      "['l', 'e', 'e', 't', '2', 'c', 'o', 'd', 'e']\n",
      "36\n",
      "['l', 'e', 'e', 't', '2', 'c', 'o', 'd', 'e', '3']\n",
      "12 this is in the while loop\n",
      "2\n",
      "11\n",
      "['l', 'e', 'e', 't', '2', 'c', 'o', 'd'] \n",
      "\n",
      "2\n",
      "10\n",
      "['l', 'e', 'e', 't', '2', 'c', 'o'] \n",
      "\n",
      "2\n",
      "9\n",
      "['l', 'e', 'e', 't', '2', 'c'] \n",
      "\n",
      "2\n",
      "8\n",
      "['l', 'e', 'e', 't', '2'] \n",
      "\n",
      "4 this is in the while loop\n",
      "2\n",
      "3\n",
      "['l', 'e', 'e'] \n",
      "\n",
      "2\n",
      "2\n",
      "['l', 'e'] \n",
      "\n",
      "0\n"
     ]
    },
    {
     "data": {
      "text/plain": [
       "'e'"
      ]
     },
     "execution_count": 28,
     "metadata": {},
     "output_type": "execute_result"
    }
   ],
   "source": [
    "def decodeAtIndex(S, K):\n",
    "    stack, l = [], 0\n",
    "    for c in S:\n",
    "        if c.isalpha():\n",
    "            l = l+1\n",
    "        else:\n",
    "            l = l * int(c)\n",
    "        stack += c\n",
    "        print(l)\n",
    "        print(stack)\n",
    "        while l >= K:\n",
    "            while stack[-1].isdigit(): \n",
    "                l //= int(stack.pop())\n",
    "                print(l,'this is in the while loop')\n",
    "            K = K % l\n",
    "            print(K)\n",
    "            if not K: \n",
    "                return stack[-1]\n",
    "            l -= 1\n",
    "            print(l)\n",
    "            stack.pop()\n",
    "            print(stack,'\\n')\n",
    "decodeAtIndex('leet2code3',14)"
   ]
  },
  {
   "cell_type": "code",
   "execution_count": null,
   "metadata": {},
   "outputs": [],
   "source": [
    "leetleetcodeleetleetcodeleetleetcode"
   ]
  },
  {
   "cell_type": "code",
   "execution_count": 13,
   "metadata": {},
   "outputs": [
    {
     "data": {
      "text/plain": [
       "3"
      ]
     },
     "execution_count": 13,
     "metadata": {},
     "output_type": "execute_result"
    }
   ],
   "source": [
    "20//6"
   ]
  },
  {
   "cell_type": "code",
   "execution_count": 5,
   "metadata": {},
   "outputs": [
    {
     "data": {
      "text/plain": [
       "0"
      ]
     },
     "execution_count": 5,
     "metadata": {},
     "output_type": "execute_result"
    }
   ],
   "source": [
    "10%10"
   ]
  },
  {
   "cell_type": "code",
   "execution_count": 8,
   "metadata": {},
   "outputs": [
    {
     "name": "stdout",
     "output_type": "stream",
     "text": [
      "['c', 'b']\n"
     ]
    }
   ],
   "source": [
    "stack = []\n",
    "stack += 'c'\n",
    "stack += 'b'\n",
    "print(stack)"
   ]
  },
  {
   "cell_type": "code",
   "execution_count": 21,
   "metadata": {},
   "outputs": [
    {
     "name": "stdout",
     "output_type": "stream",
     "text": [
      "18\n",
      "6\n"
     ]
    }
   ],
   "source": [
    "stack = ['l', 'e', 'e', 't', '2', 'c', 'o', 'd', 'e', '3','2']\n",
    "l = 36\n",
    "while stack[-1].isdigit(): \n",
    "    l //= int(stack.pop())\n",
    "    print(l)"
   ]
  },
  {
   "cell_type": "code",
   "execution_count": 22,
   "metadata": {},
   "outputs": [
    {
     "data": {
      "text/plain": [
       "10"
      ]
     },
     "execution_count": 22,
     "metadata": {},
     "output_type": "execute_result"
    }
   ],
   "source": [
    "10%12"
   ]
  },
  {
   "cell_type": "code",
   "execution_count": null,
   "metadata": {},
   "outputs": [],
   "source": []
  },
  {
   "cell_type": "code",
   "execution_count": 6,
   "metadata": {},
   "outputs": [
    {
     "name": "stdout",
     "output_type": "stream",
     "text": [
      "{'c': 7, 'b': 6, 'a': 2, 'd': 4}\n",
      "['c']\n",
      "['b']\n",
      "['a']\n",
      "['a', 'c']\n",
      "['a', 'c', 'd']\n",
      "in ['a', 'c', 'd']\n",
      "['a', 'c', 'd', 'b']\n",
      "in ['a', 'c', 'd', 'b']\n"
     ]
    },
    {
     "data": {
      "text/plain": [
       "'acdb'"
      ]
     },
     "execution_count": 6,
     "metadata": {},
     "output_type": "execute_result"
    }
   ],
   "source": [
    "def smallestSubsequence(S):\n",
    "    last = {c: i for i, c in enumerate(S)}\n",
    "    print(last)\n",
    "    stack = []\n",
    "    for i, c in enumerate(S):\n",
    "        if c in stack:\n",
    "            print('in',stack)\n",
    "            continue\n",
    "        while stack and stack[-1] > c and i < last[stack[-1]]:\n",
    "            stack.pop()\n",
    "        stack.append(c)\n",
    "        print(stack)\n",
    "    return \"\".join(stack)\n",
    "\n",
    "smallestSubsequence(\"cbacdcbc\")"
   ]
  },
  {
   "cell_type": "code",
   "execution_count": 9,
   "metadata": {},
   "outputs": [
    {
     "data": {
      "text/plain": [
       "True"
      ]
     },
     "execution_count": 9,
     "metadata": {},
     "output_type": "execute_result"
    }
   ],
   "source": [
    "bool('z'>'y')"
   ]
  },
  {
   "cell_type": "code",
   "execution_count": 11,
   "metadata": {},
   "outputs": [
    {
     "name": "stdout",
     "output_type": "stream",
     "text": [
      "[1, 3, 5]\n"
     ]
    }
   ],
   "source": [
    "l = []\n",
    "for i in range(6):\n",
    "    if i % 2 == 0:\n",
    "        continue\n",
    "    l.append(i)\n",
    "print(l)"
   ]
  },
  {
   "cell_type": "code",
   "execution_count": 1,
   "metadata": {},
   "outputs": [
    {
     "name": "stdout",
     "output_type": "stream",
     "text": [
      "['(', 'e', 'v', 'o', 'l', '(']\n",
      "['(', 'i', '(', 'l', 'o', 'v']\n"
     ]
    },
    {
     "data": {
      "text/plain": [
       "'(i(lov'"
      ]
     },
     "execution_count": 1,
     "metadata": {},
     "output_type": "execute_result"
    }
   ],
   "source": [
    "def reverseParentheses(s: str):\n",
    "    stack = []\n",
    "    current = []\n",
    "    for i in s:\n",
    "        if i != ')':\n",
    "            stack.append(i)\n",
    "        else:\n",
    "            for j in stack[::-1]:\n",
    "                if j != '(':\n",
    "                    current.append(stack.pop())\n",
    "#                 else: \n",
    "#                     break\n",
    "            stack.pop()\n",
    "            stack.extend(current)\n",
    "            print(stack)\n",
    "            current = []\n",
    "    return ''.join(stack)\n",
    "\n",
    "reverseParentheses(\"(u(love)i)\")"
   ]
  },
  {
   "cell_type": "code",
   "execution_count": 2,
   "metadata": {},
   "outputs": [
    {
     "name": "stdout",
     "output_type": "stream",
     "text": [
      "10\n",
      "9\n",
      "8\n",
      "7\n",
      "6\n",
      "4\n",
      "2\n",
      "1\n"
     ]
    }
   ],
   "source": [
    "a = [1,2,3,4,5,6,7,8,9,10]\n",
    "for i in a[::-1]:\n",
    "    if i != 5 and i != 3:\n",
    "        print(i)"
   ]
  },
  {
   "cell_type": "code",
   "execution_count": 9,
   "metadata": {},
   "outputs": [
    {
     "name": "stdout",
     "output_type": "stream",
     "text": [
      "10\n",
      "9\n",
      "8\n",
      "7\n",
      "6\n"
     ]
    }
   ],
   "source": [
    "a = [1,2,3,4,5,6,7,8,9,10]\n",
    "while a[-1] != 3 and a[-1] != 5:\n",
    "    print(a.pop())"
   ]
  },
  {
   "cell_type": "code",
   "execution_count": 16,
   "metadata": {},
   "outputs": [],
   "source": [
    "class Base:\n",
    "    def __init__(self):\n",
    "        self.a = \"GeeksforGeeks\"\n",
    "        self.__c = \"GeeksforGeeks\"\n",
    " \n",
    "# Creating a derived class\n",
    "class Derived(Base):\n",
    "    def __init__(self):\n",
    " \n",
    "        # Calling constructor of\n",
    "        # Base class\n",
    "        Base.__init__(self)\n",
    "        print(\"Calling private member of base class: \")\n",
    "        print(self.__c)\n",
    "        \n",
    "o = Base()\n",
    "o.a = 5"
   ]
  },
  {
   "cell_type": "code",
   "execution_count": 18,
   "metadata": {},
   "outputs": [
    {
     "data": {
      "text/plain": [
       "5"
      ]
     },
     "execution_count": 18,
     "metadata": {},
     "output_type": "execute_result"
    }
   ],
   "source": [
    "o.a"
   ]
  },
  {
   "cell_type": "code",
   "execution_count": 24,
   "metadata": {},
   "outputs": [],
   "source": [
    "class Base:\n",
    "    def __init__(self):\n",
    " \n",
    "        # Protected member\n",
    "        self._a = 2\n",
    " \n",
    "# Creating a derived class\n",
    "class Derived(Base):\n",
    "    def __init__(self):\n",
    " \n",
    "        # Calling constructor of\n",
    "        # Base class\n",
    "        Base.__init__(self)\n",
    "        print(\"Calling protected member of base class: \",\n",
    "              self._a)\n",
    " \n",
    "        # Modify the protected variable:\n",
    "        self._a = 3\n",
    "        print(\"Calling modified protected member outside class: \",\n",
    "              self._a)\n",
    "\n",
    "o = Base()\n",
    "# o._a = 12"
   ]
  },
  {
   "cell_type": "code",
   "execution_count": 25,
   "metadata": {},
   "outputs": [
    {
     "data": {
      "text/plain": [
       "2"
      ]
     },
     "execution_count": 25,
     "metadata": {},
     "output_type": "execute_result"
    }
   ],
   "source": [
    "o._a"
   ]
  },
  {
   "cell_type": "code",
   "execution_count": null,
   "metadata": {},
   "outputs": [],
   "source": []
  },
  {
   "cell_type": "code",
   "execution_count": null,
   "metadata": {},
   "outputs": [],
   "source": []
  },
  {
   "cell_type": "code",
   "execution_count": null,
   "metadata": {},
   "outputs": [],
   "source": []
  },
  {
   "cell_type": "code",
   "execution_count": null,
   "metadata": {},
   "outputs": [],
   "source": []
  }
 ],
 "metadata": {
  "kernelspec": {
   "display_name": "Python 3",
   "language": "python",
   "name": "python3"
  },
  "language_info": {
   "codemirror_mode": {
    "name": "ipython",
    "version": 3
   },
   "file_extension": ".py",
   "mimetype": "text/x-python",
   "name": "python",
   "nbconvert_exporter": "python",
   "pygments_lexer": "ipython3",
   "version": "3.8.3"
  }
 },
 "nbformat": 4,
 "nbformat_minor": 4
}
