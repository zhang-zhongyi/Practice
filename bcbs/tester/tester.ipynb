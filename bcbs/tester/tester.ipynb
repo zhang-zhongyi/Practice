{
 "cells": [
  {
   "cell_type": "code",
   "execution_count": 5,
   "metadata": {},
   "outputs": [
    {
     "name": "stdout",
     "output_type": "stream",
     "text": [
      "--- file1.txt\n",
      "+++ file2.txt\n",
      "@@ -1,5 +1,5 @@\n",
      " Learning \n",
      "\n",
      " Python \n",
      "\n",
      " is \n",
      "\n",
      "-too  ooo  \n",
      "\n",
      "-simple. 123\n",
      "+too  ooo \n",
      "\n",
      "+simple. \n"
     ]
    }
   ],
   "source": [
    "import difflib\n",
    " \n",
    "with open('file1.txt') as file_1:\n",
    "    file_1_text = file_1.readlines()\n",
    "\n",
    "with open('file2.txt') as file_2:\n",
    "    file_2_text = file_2.readlines()\n",
    "\n",
    "# Find and print the diff:\n",
    "for line in difflib.unified_diff(\n",
    "    file_1_text, file_2_text, fromfile='file1.txt', tofile='file2.txt', lineterm=''):\n",
    "    print(line)"
   ]
  },
  {
   "cell_type": "code",
   "execution_count": 6,
   "metadata": {},
   "outputs": [
    {
     "name": "stdout",
     "output_type": "stream",
     "text": [
      "  Learning \n",
      "\n",
      "  Python \n",
      "\n",
      "  is \n",
      "\n",
      "- too  ooo  \n",
      "\n",
      "?          -\n",
      "\n",
      "+ too  ooo \n",
      "\n",
      "- simple. 123\n",
      "?         ---\n",
      "\n",
      "+ simple. \n"
     ]
    }
   ],
   "source": [
    "\n",
    "from difflib import Differ\n",
    " \n",
    "with open('file1.txt') as file_1, open('file2.txt') as file_2:\n",
    "    differ = Differ()\n",
    " \n",
    "    for line in differ.compare(file_1.readlines(), file_2.readlines()):\n",
    "        print(line)"
   ]
  },
  {
   "cell_type": "code",
   "execution_count": 9,
   "metadata": {},
   "outputs": [
    {
     "name": "stdout",
     "output_type": "stream",
     "text": [
      "Line 4 doesn't match.\n",
      "------------------------\n",
      "File1: too  ooo  \n",
      "\n",
      "File2: too  ooo \n",
      "\n",
      "Line 5 doesn't match.\n",
      "------------------------\n",
      "File1: simple. 123\n",
      "File2: simple. \n"
     ]
    }
   ],
   "source": [
    "file1 = open(\"file1.txt\",'r')\n",
    "file2 = open(\"file2.txt\",'r')\n",
    "\n",
    "file1_lines = file1.readlines()\n",
    "file2_lines = file2.readlines()\n",
    "\n",
    "for i in range(len(file1_lines)):\n",
    "    if file1_lines[i] != file2_lines[i]:\n",
    "        print(\"Line \" + str(i+1) + \" doesn't match.\")\n",
    "        print(\"------------------------\")\n",
    "        print(\"File1: \" + file1_lines[i])\n",
    "        print(\"File2: \" + file2_lines[i])\n",
    "\n",
    "file1.close()\n",
    "file2.close()"
   ]
  },
  {
   "cell_type": "code",
   "execution_count": 1,
   "metadata": {},
   "outputs": [
    {
     "data": {
      "text/plain": [
       "'C:\\\\Users\\\\icega\\\\bcbs\\\\tester'"
      ]
     },
     "execution_count": 1,
     "metadata": {},
     "output_type": "execute_result"
    }
   ],
   "source": [
    "pwd"
   ]
  },
  {
   "cell_type": "code",
   "execution_count": null,
   "metadata": {},
   "outputs": [],
   "source": [
    "python main.py C:\\\\Users\\\\icega\\\\bcbs\\\\billing_log_small.txt C:\\\\Users\\\\icega\\\\bcbs\\\\tester\\\\billing_log_report_by_troy.txt\n"
   ]
  },
  {
   "cell_type": "code",
   "execution_count": null,
   "metadata": {},
   "outputs": [],
   "source": []
  },
  {
   "cell_type": "code",
   "execution_count": null,
   "metadata": {},
   "outputs": [],
   "source": []
  },
  {
   "cell_type": "code",
   "execution_count": null,
   "metadata": {},
   "outputs": [],
   "source": []
  }
 ],
 "metadata": {
  "kernelspec": {
   "display_name": "Python 3",
   "language": "python",
   "name": "python3"
  },
  "language_info": {
   "codemirror_mode": {
    "name": "ipython",
    "version": 3
   },
   "file_extension": ".py",
   "mimetype": "text/x-python",
   "name": "python",
   "nbconvert_exporter": "python",
   "pygments_lexer": "ipython3",
   "version": "3.8.3"
  }
 },
 "nbformat": 4,
 "nbformat_minor": 4
}
