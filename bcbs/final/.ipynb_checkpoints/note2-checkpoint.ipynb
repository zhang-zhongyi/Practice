{
 "cells": [
  {
   "cell_type": "code",
   "execution_count": 8,
   "metadata": {},
   "outputs": [
    {
     "data": {
      "text/plain": [
       "'\\n# testing the file in the command\\n# run above methods from the class in order\\n'"
      ]
     },
     "execution_count": 8,
     "metadata": {},
     "output_type": "execute_result"
    }
   ],
   "source": [
    "\n",
    "\"\"\"\n",
    "# Author: Zhongyi Zhang\n",
    "# Title: BCBS Data Science Engineer Coding Prompt Answer Main Program (Available to run in terminal passing input and output path_to_file.txt)\n",
    "\n",
    "# type in input file path and output file path pass as arguments in the command line\n",
    "# so that I can directly run the below command in terminal\n",
    "# first cd to the path where this py file locate, then run below command in terminal:\n",
    "# $ python zhongyi_zhang_bcbs_answer.py <\"path_to_billing_log.txt\"> <\"path_to_output_cost_report.txt\">\n",
    "# Then go to the output file path and I will get the output cost_report.txt file\n",
    "\"\"\"\n",
    "\n",
    "# from argparse import ArgumentParser\n",
    "from collections import deque\n",
    "from datetime import datetime\n",
    "\n",
    "class Billing:\n",
    "    def __init__(self):\n",
    "        \"\"\"\n",
    "        # initialize parameters, create input and output path as arguments in the command line\n",
    "        \"\"\"\n",
    "#         parser = ArgumentParser(description=\"Generate cost report txt file.\")\n",
    "#         parser.add_argument('input_path_file', metavar = 'input_path_file', type=str, help='input txt file path')\n",
    "#         parser.add_argument('output_path_file', metavar = 'output_path_file', type=str, help='output txt file path')\n",
    "\n",
    "#         args = parser.parse_args()\n",
    "#         self.input_path_file = args.input_path_file\n",
    "#         self.output_path_file = args.output_path_file\n",
    "        \n",
    "        self.all_data = all_data = []\n",
    "        self.order = order = []\n",
    "        self.bills = bills = []\n",
    "        self.members_providers = members_providers = []\n",
    "        self.d = d = {}\n",
    "    \n",
    "    \"\"\" \n",
    "    # input and output path and file ready in string format; algorithms start from here:\n",
    "    \"\"\" \n",
    "    def reader(self):\n",
    "        \"\"\" \n",
    "        # open the input txt file, read in lines, and convert into a list with removing leading and trailing white spaces\n",
    "        \"\"\" \n",
    "        with open('billing_log_small.txt') as w:\n",
    "            self.all_data = [item.lstrip().rstrip() for item in w.readlines()]\n",
    "        return self.all_data\n",
    "    \n",
    "    def extract_declared_orders(self, all_data):\n",
    "        \"\"\" \n",
    "        # create a list to record the declared order for members and healthcare providers. Members first, then providers\n",
    "        \"\"\"\n",
    "        members_list = []\n",
    "        providers_list = []\n",
    "        for i in self.all_data:\n",
    "            if str(i[0:6]).upper() == 'MEMBER' and i[7:] not in members_list:\n",
    "                members_list.append(\"* \" + i[7:])\n",
    "            elif str(i[0:8]).upper() == 'PROVIDER' and i[9:] not in providers_list:\n",
    "                providers_list.append(\"* \" + i[9:])\n",
    "\n",
    "        self.order = members_list + providers_list\n",
    "        return self.order\n",
    "    \n",
    "    def extract_bills(self, all_data):\n",
    "        \"\"\"\n",
    "        # filter for all the bills record from the input billing log txt file and convert into a list array\n",
    "        # break the all_bills list into nested list to separate members/providers name, date, and amount\n",
    "        # here I use the deque open-source data structure since I can directly manipulate data from both ends of the list\n",
    "        # I also applied stack algorithm techniques to always append the popped item from the stack (last-in-first-out)\n",
    "        \n",
    "        # no need to have the word \"Bill\" as the first element\n",
    "        # only members name, date, and amount \n",
    "        # the rest in the stack is the healthcare providers name. convert back to string\n",
    "        \"\"\"\n",
    "        all_bills = [i for i in self.all_data if str(i[0:4]).upper() == 'BILL']\n",
    "\n",
    "        for i, j in enumerate(all_bills):\n",
    "            self.bills.append(deque())\n",
    "            stack = j.split(' ')[1:]    # no need to have the word \"Bill\"\n",
    "            for k in j.split(' ')[-1:-4:-1]:    # only members name, date, and amount \n",
    "                self.bills[i].appendleft(stack.pop()) \n",
    "            self.bills[i].appendleft(' '.join(stack))    # the rest in the stack is the healthcare providers name. convert back to string\n",
    "        self.bills = [list(i) for i in self.bills]    # convert back to list from deque\n",
    "\n",
    "        \"\"\"\n",
    "        # convert the amount into float datatype \n",
    "        \"\"\"\n",
    "        for i in self.bills: \n",
    "            i[-1] = float(i[-1])\n",
    "            \n",
    "        \"\"\"\n",
    "        # create a function to convert date into month format \"YYYY-mm-01\"\n",
    "        # appending a new letter-format month year element at the end of each bill\n",
    "        \"\"\"\n",
    "        def convert_month_year(l: list):\n",
    "            for i in l:\n",
    "                i[-2] = i[-2][0:8] + '01'\n",
    "                if i[-2][5:7] == '01':\n",
    "                    i.append('January ' + i[-2][:4])\n",
    "                elif i[-2][5:7] == '02':\n",
    "                    i.append('February ' + i[-2][:4])\n",
    "                elif i[-2][5:7] == '03':\n",
    "                    i.append('March ' + i[-2][:4])\n",
    "                elif i[-2][5:7] == '04':\n",
    "                    i.append('April ' + i[-2][:4])\n",
    "                elif i[-2][5:7] == '05':\n",
    "                    i.append('May ' + i[-2][:4])\n",
    "                elif i[-2][5:7] == '06':\n",
    "                    i.append('June ' + i[-2][:4])\n",
    "                elif i[-2][5:7] == '07':\n",
    "                    i.append('July ' + i[-2][:4])\n",
    "                elif i[-2][5:7] == '08':\n",
    "                    i.append('August ' + i[-2][:4])\n",
    "                elif i[-2][5:7] == '09':\n",
    "                    i.append('September ' + i[-2][:4])\n",
    "                elif i[-2][5:7] == '10':\n",
    "                    i.append('October ' + i[-2][:4])\n",
    "                elif i[-2][5:7] == '11':\n",
    "                    i.append('November ' + i[-2][:4])\n",
    "                elif i[-2][5:7] == '12':\n",
    "                    i.append('December ' + i[-2][:4])\n",
    "            return l\n",
    "\n",
    "        convert_month_year(self.bills) # apply the above function to the list\n",
    "        \n",
    "        \"\"\"\n",
    "        # convert into datetime datatype and sort by month first for later data preparation\n",
    "        \"\"\"\n",
    "        self.bills.sort(key=lambda x: datetime.strptime(x[2], \"%Y-%m-%d\"))\n",
    "        return self.bills\n",
    "    \n",
    "    def data_cleaning(self, bills):\n",
    "        \"\"\"\n",
    "        # combine members and providers name into one list. re-organize the list and filter only the data I will need later\n",
    "        # I will only need the letter-format of month year, members/providers name, and amount\n",
    "        # adding a \"* \" in front of members and providers name\n",
    "        \"\"\"\n",
    "        providers = []\n",
    "        members = []\n",
    "        for i, j in enumerate(self.bills):\n",
    "            members.append([])\n",
    "            providers.append([])\n",
    "            members[i].append(j[-1] + \":\")\n",
    "            members[i].append(\"* \" + j[1]) # adding a \"* \" in front of members name\n",
    "            members[i].append(j[-2])\n",
    "            providers[i].append(j[-1] + \":\")\n",
    "            providers[i].append(\"* \" + j[0]) # adding a \"* \" in front of healthcare providers name\n",
    "            providers[i].append(j[-2])\n",
    "        self.members_providers = members + providers  \n",
    "        \n",
    "        return self.members_providers\n",
    "    \n",
    "    def calculating_bills(self, members_providers):\n",
    "        \"\"\"\n",
    "        # This method is to create a dictionary to sum the amount group by month-year and member/provider name\n",
    "        # first create a nested dictionary with keys as month-year\n",
    "        # members and providers name will be the keys of sub-dictionary, values will be the accumulated amount per member/provider per month-year\n",
    "        # if month-year in the dictionary but members/providers name not in the sub-dictionary, create the key value pair with the amount\n",
    "        # if month-year in the dictionary and members/providers name also in the sub-dictionary, adding/accumulate the amount    \n",
    "        \"\"\"\n",
    "        self.d = {i[0]: dict() for i in self.members_providers} \n",
    "        for i in self.members_providers:\n",
    "            if i[0] not in self.d.keys():  # this condition shouldn't be used since I already created all the month-year as keys in the dictionary. just in case\n",
    "                self.d.update({i[0]: dict()})\n",
    "            if i[0] in self.d.keys() and i[1] not in self.d[i[0]].keys():\n",
    "                self.d[i[0]].update({i[1]: i[2]})\n",
    "            elif i[0] in self.d.keys() and i[1] in self.d[i[0]].keys():  \n",
    "                self.d[i[0]][i[1]] += i[2]\n",
    "        return self.d\n",
    "    \n",
    "    def formatting(self, d, order):\n",
    "        \"\"\"\n",
    "        # the above dictionary is in the Bills order for members/providers name,\n",
    "        # so I need to change to the \"declared order\" to match with the declared order list I created at beginning\n",
    "        \"\"\"\n",
    "        for i, j in self.d.items():\n",
    "            self.d[i] = {m: n for m, n in sorted(j.items(), key=lambda pair: self.order.index(pair[0]))}\n",
    "        \n",
    "        \"\"\"\n",
    "        # for each amount value, adding \"$\" dollar sign in the front, separated by comma, and round to 2 decimal places\n",
    "        \"\"\"\n",
    "        for i, j in self.d.items():\n",
    "            for k, v in j.items():\n",
    "                j[k] = \"$\" + \"{0:,.2f}\".format(v)\n",
    "        \n",
    "        return self.d\n",
    "    \n",
    "    def writer(self, d):\n",
    "        \"\"\"\n",
    "        # To write the above nested dictionary into a cost report txt file with the output path from the terminal command argument\n",
    "        \"\"\"\n",
    "        with open('cost_report_zhongyi_zhang.txt', 'w') as f:\n",
    "            for month_year, name in self.d.items():\n",
    "                f.write(month_year + '\\n')\n",
    "                f.write(\"\\n\".join([\"{}: {}\".format(value_key, digit) for value_key, digit in name.items()]))\n",
    "                f.write('\\n')\n",
    "\n",
    "\n",
    "\n",
    "billing_logs = Billing()\n",
    "data = billing_logs.reader()\n",
    "declared_order = billing_logs.extract_declared_orders(data)\n",
    "bill = billing_logs.extract_bills(data)\n",
    "cleaned_data = billing_logs.data_cleaning(bill)\n",
    "amount_hashtable = billing_logs.calculating_bills(cleaned_data)\n",
    "final_data = billing_logs.formatting(amount_hashtable, declared_order)\n",
    "billing_logs.writer(final_data)    \n",
    "\n",
    "                \n",
    "                \n",
    "\"\"\"\n",
    "# testing the file in the command\n",
    "# run above methods from the class in order\n",
    "\"\"\"\n",
    "# if __name__ == '__main__':\n",
    "#     try:\n",
    "#         billing_logs = Billing()\n",
    "#         data = billing_logs.reader()\n",
    "#         declared_order = billing_logs.extract_declared_orders(data)\n",
    "#         bill = billing_logs.extract_bills(data)\n",
    "#         cleaned_data = billing_logs.data_cleaning(bill)\n",
    "#         amount_hashtable = billing_logs.calculating_bills(cleaned_data)\n",
    "#         final_data = billing_logs.formatting(amount_hashtable, declared_order)\n",
    "#         billing_logs.writer(final_data)\n",
    "#         print(\"Finished. Please check your output path, and the cost report.txt file will be there.\")\n",
    "#     except FileNotFoundError:\n",
    "#         print(\"Please double check your file path. The path is not found.\")\n",
    "\n"
   ]
  },
  {
   "cell_type": "code",
   "execution_count": 3,
   "metadata": {},
   "outputs": [
    {
     "name": "stdout",
     "output_type": "stream",
     "text": [
      "['* Edgar', '* Frannie', '* Michael', '* EastShore Healthcare', '* Alliance Medical Group']\n"
     ]
    }
   ],
   "source": [
    "with open('billing_log_small.txt') as w:\n",
    "    all_data = [item.lstrip().rstrip() for item in w.readlines()]\n",
    "members_list = []\n",
    "providers_list = []\n",
    "for i in all_data:\n",
    "    if str(i[0:6]).upper() == 'MEMBER' and i[7:] not in members_list:\n",
    "        members_list.append(\"* \" + i[7:])\n",
    "    elif str(i[0:8]).upper() == 'PROVIDER' and i[9:] not in providers_list:\n",
    "        providers_list.append(\"* \" + i[9:])\n",
    "\n",
    "order = members_list + providers_list\n",
    "print(order)"
   ]
  },
  {
   "cell_type": "code",
   "execution_count": 23,
   "metadata": {},
   "outputs": [
    {
     "data": {
      "text/plain": [
       "['Member Edgar',\n",
       " 'Member Frannie',\n",
       " 'Provider EastShore Healthcare',\n",
       " 'Provider Alliance Medical Group',\n",
       " 'Bill Alliance Medical Group Frannie 2021-02-02 1050.00',\n",
       " 'Member Michael',\n",
       " 'Bill Alliance Medical Group Edgar 2021-01-24 299.25',\n",
       " 'Bill EastShore Healthcare Michael 2021-01-01 6014.30',\n",
       " 'Bill EastShore Healthcare Edgar 2021-04-12 3000.00',\n",
       " 'Bill EastShore Healthcare Edgar 2021-01-07 499.25']"
      ]
     },
     "execution_count": 23,
     "metadata": {},
     "output_type": "execute_result"
    }
   ],
   "source": [
    "all_data"
   ]
  },
  {
   "cell_type": "code",
   "execution_count": 24,
   "metadata": {},
   "outputs": [
    {
     "name": "stdout",
     "output_type": "stream",
     "text": [
      "['Bill Alliance Medical Group Frannie 2021-02-02 1050.00', 'Bill Alliance Medical Group Edgar 2021-01-24 299.25', 'Bill EastShore Healthcare Michael 2021-01-01 6014.30', 'Bill EastShore Healthcare Edgar 2021-04-12 3000.00', 'Bill EastShore Healthcare Edgar 2021-01-07 499.25'] \n",
      "\n",
      "\n",
      "\n",
      "\n",
      "\n",
      "[['Alliance Medical Group', 'Frannie', '2021-02-02', '1050.00'], ['Alliance Medical Group', 'Edgar', '2021-01-24', '299.25'], ['EastShore Healthcare', 'Michael', '2021-01-01', '6014.30'], ['EastShore Healthcare', 'Edgar', '2021-04-12', '3000.00'], ['EastShore Healthcare', 'Edgar', '2021-01-07', '499.25']]\n"
     ]
    }
   ],
   "source": [
    "from collections import deque\n",
    "all_bills = [i for i in all_data if str(i[0:4]).upper() == 'BILL']\n",
    "print(all_bills, \"\\n\"*5)\n",
    "\n",
    "bills = []\n",
    "for i, j in enumerate(all_bills):\n",
    "    bills.append(deque())\n",
    "    stack = j.split(' ')[1:]    # no need to have the word \"Bill\"\n",
    "    for k in j.split(' ')[-1:-4:-1]:    # only members name, date, and amount \n",
    "        bills[i].appendleft(stack.pop()) \n",
    "    bills[i].appendleft(' '.join(stack))    # the rest in the stack is the healthcare providers name. convert back to string\n",
    "bills = [list(i) for i in bills] \n",
    "print(bills)\n"
   ]
  },
  {
   "cell_type": "code",
   "execution_count": 25,
   "metadata": {},
   "outputs": [
    {
     "name": "stdout",
     "output_type": "stream",
     "text": [
      "[['Alliance Medical Group', 'Frannie', '2021-02-02', '1050.00'], ['Alliance Medical Group', 'Edgar', '2021-01-24', '299.25'], ['EastShore Healthcare', 'Michael', '2021-01-01', '6014.30'], ['EastShore Healthcare', 'Edgar', '2021-04-12', '3000.00'], ['EastShore Healthcare', 'Edgar', '2021-01-07', '499.25']]\n"
     ]
    }
   ],
   "source": [
    "all_bills = [i for i in all_data if str(i[0:4]).upper() == 'BILL']\n",
    "\n",
    "bills = []\n",
    "for i, j in enumerate(all_bills):\n",
    "    bills.append(list())\n",
    "    stack = j.split(' ')[1:]    # no need to have the word \"Bill\"\n",
    "    for k in j.split(' ')[-1:-4:-1]:    # only members name, date, and amount \n",
    "        bills[i].append(stack.pop()) \n",
    "    bills[i].append(' '.join(stack))    # the rest in the stack is the healthcare providers name. convert back to string\n",
    "bills = [i[::-1] for i in bills]\n",
    "print(bills)\n"
   ]
  },
  {
   "cell_type": "code",
   "execution_count": 26,
   "metadata": {},
   "outputs": [
    {
     "name": "stdout",
     "output_type": "stream",
     "text": [
      "[['Alliance Medical Group', 'Edgar', '2021-01-01', 299.25, 'January 2021'], ['EastShore Healthcare', 'Michael', '2021-01-01', 6014.3, 'January 2021'], ['EastShore Healthcare', 'Edgar', '2021-01-01', 499.25, 'January 2021'], ['Alliance Medical Group', 'Frannie', '2021-02-01', 1050.0, 'February 2021'], ['EastShore Healthcare', 'Edgar', '2021-04-01', 3000.0, 'April 2021']]\n"
     ]
    }
   ],
   "source": [
    "for i in bills: \n",
    "    i[-1] = float(i[-1])\n",
    "        \n",
    "from datetime import datetime\n",
    "def convert_month_year(l: list):\n",
    "    for i in l:\n",
    "        i[-2] = i[-2][0:8] + '01'\n",
    "        if i[-2][5:7] == '01':\n",
    "            i.append('January ' + i[-2][:4])\n",
    "        elif i[-2][5:7] == '02':\n",
    "            i.append('February ' + i[-2][:4])\n",
    "        elif i[-2][5:7] == '03':\n",
    "            i.append('March ' + i[-2][:4])\n",
    "        elif i[-2][5:7] == '04':\n",
    "            i.append('April ' + i[-2][:4])\n",
    "        elif i[-2][5:7] == '05':\n",
    "            i.append('May ' + i[-2][:4])\n",
    "        elif i[-2][5:7] == '06':\n",
    "            i.append('June ' + i[-2][:4])\n",
    "        elif i[-2][5:7] == '07':\n",
    "            i.append('July ' + i[-2][:4])\n",
    "        elif i[-2][5:7] == '08':\n",
    "            i.append('August ' + i[-2][:4])\n",
    "        elif i[-2][5:7] == '09':\n",
    "            i.append('September ' + i[-2][:4])\n",
    "        elif i[-2][5:7] == '10':\n",
    "            i.append('October ' + i[-2][:4])\n",
    "        elif i[-2][5:7] == '11':\n",
    "            i.append('November ' + i[-2][:4])\n",
    "        elif i[-2][5:7] == '12':\n",
    "            i.append('December ' + i[-2][:4])\n",
    "    return l\n",
    "\n",
    "convert_month_year(bills) # apply the above function to the list\n",
    "\n",
    "\"\"\"\n",
    "# convert into datetime datatype and sort by month first for later data preparation\n",
    "\"\"\"\n",
    "bills.sort(key=lambda x: datetime.strptime(x[2], \"%Y-%m-%d\"))\n",
    "print(bills)"
   ]
  },
  {
   "cell_type": "code",
   "execution_count": 27,
   "metadata": {},
   "outputs": [
    {
     "name": "stdout",
     "output_type": "stream",
     "text": [
      "[['January 2021:', '* Edgar', 299.25], ['January 2021:', '* Michael', 6014.3], ['January 2021:', '* Edgar', 499.25], ['February 2021:', '* Frannie', 1050.0], ['April 2021:', '* Edgar', 3000.0], ['January 2021:', '* Alliance Medical Group', 299.25], ['January 2021:', '* EastShore Healthcare', 6014.3], ['January 2021:', '* EastShore Healthcare', 499.25], ['February 2021:', '* Alliance Medical Group', 1050.0], ['April 2021:', '* EastShore Healthcare', 3000.0]]\n"
     ]
    }
   ],
   "source": [
    "providers = []\n",
    "members = []\n",
    "for i, j in enumerate(bills):\n",
    "    members.append([])\n",
    "    providers.append([])\n",
    "    members[i].append(j[-1] + \":\")\n",
    "    members[i].append(\"* \" + j[1]) # adding a \"* \" in front of members name\n",
    "    members[i].append(j[-2])\n",
    "    providers[i].append(j[-1] + \":\")\n",
    "    providers[i].append(\"* \" + j[0]) # adding a \"* \" in front of healthcare providers name\n",
    "    providers[i].append(j[-2])\n",
    "members_providers = members + providers  \n",
    "\n",
    "print(members_providers)"
   ]
  },
  {
   "cell_type": "code",
   "execution_count": 28,
   "metadata": {},
   "outputs": [
    {
     "name": "stdout",
     "output_type": "stream",
     "text": [
      "{'January 2021:': {}, 'February 2021:': {}, 'April 2021:': {}} \n",
      "\n",
      "\n",
      "\n",
      "{'January 2021:': {'* Edgar': 798.5, '* Michael': 6014.3, '* Alliance Medical Group': 299.25, '* EastShore Healthcare': 6513.55}, 'February 2021:': {'* Frannie': 1050.0, '* Alliance Medical Group': 1050.0}, 'April 2021:': {'* Edgar': 3000.0, '* EastShore Healthcare': 3000.0}}\n"
     ]
    }
   ],
   "source": [
    "d = {i[0]: dict() for i in members_providers} \n",
    "print(d, \"\\n\"*3)\n",
    "\n",
    "for i in members_providers:\n",
    "    if i[0] not in d.keys():  # this condition shouldn't be used since I already created all the month-year as keys in the dictionary. just in case\n",
    "        d.update({i[0]: dict()})\n",
    "    if i[0] in d.keys() and i[1] not in d[i[0]].keys():\n",
    "        d[i[0]].update({i[1]: i[2]})\n",
    "    elif i[0] in d.keys() and i[1] in d[i[0]].keys():  \n",
    "        d[i[0]][i[1]] += i[2]\n",
    "print(d)\n"
   ]
  },
  {
   "cell_type": "code",
   "execution_count": 41,
   "metadata": {},
   "outputs": [
    {
     "data": {
      "text/plain": [
       "{'January 2021:': {}, 'February 2021:': {}, 'April 2021:': {}}"
      ]
     },
     "execution_count": 41,
     "metadata": {},
     "output_type": "execute_result"
    }
   ],
   "source": [
    "dd = {}\n",
    "for i in members_providers:\n",
    "    dd.update({i[0]: dict()})\n",
    "dd.update({'February 2021:': {}})\n",
    "dd"
   ]
  },
  {
   "cell_type": "code",
   "execution_count": 50,
   "metadata": {
    "scrolled": false
   },
   "outputs": [
    {
     "data": {
      "text/plain": [
       "['* Edgar',\n",
       " '* Frannie',\n",
       " '* Michael',\n",
       " '* EastShore Healthcare',\n",
       " '* Alliance Medical Group']"
      ]
     },
     "execution_count": 50,
     "metadata": {},
     "output_type": "execute_result"
    }
   ],
   "source": [
    "order"
   ]
  },
  {
   "cell_type": "code",
   "execution_count": 51,
   "metadata": {},
   "outputs": [
    {
     "data": {
      "text/plain": [
       "['Edgar',\n",
       " 'Frannie',\n",
       " 'Michael',\n",
       " 'EastShore Healthcare',\n",
       " 'Alliance Medical Group']"
      ]
     },
     "execution_count": 51,
     "metadata": {},
     "output_type": "execute_result"
    }
   ],
   "source": [
    "order2 = [i[2:] for i in order]\n",
    "order2"
   ]
  },
  {
   "cell_type": "code",
   "execution_count": 54,
   "metadata": {},
   "outputs": [
    {
     "data": {
      "text/plain": [
       "{'January 2021:': {'* Edgar': 798.5,\n",
       "  '* Michael': 6014.3,\n",
       "  '* EastShore Healthcare': 6513.55,\n",
       "  '* Alliance Medical Group': 299.25},\n",
       " 'February 2021:': {'* Frannie': 1050.0, '* Alliance Medical Group': 1050.0},\n",
       " 'April 2021:': {'* Edgar': 3000.0, '* EastShore Healthcare': 3000.0}}"
      ]
     },
     "execution_count": 54,
     "metadata": {},
     "output_type": "execute_result"
    }
   ],
   "source": [
    "for i, j in d.items():\n",
    "    d[i] = {m: n for m, n in sorted(j.items(), key=lambda pair: order.index(pair[0]))}\n",
    "d"
   ]
  },
  {
   "cell_type": "code",
   "execution_count": 56,
   "metadata": {},
   "outputs": [
    {
     "data": {
      "text/plain": [
       "{'January 2021:': {'* Edgar': 798.5,\n",
       "  '* Michael': 6014.3,\n",
       "  '* EastShore Healthcare': 6513.55,\n",
       "  '* Alliance Medical Group': 299.25},\n",
       " 'February 2021:': {'* Frannie': 1050.0, '* Alliance Medical Group': 1050.0},\n",
       " 'April 2021:': {'* Edgar': 3000.0, '* EastShore Healthcare': 3000.0}}"
      ]
     },
     "execution_count": 56,
     "metadata": {},
     "output_type": "execute_result"
    }
   ],
   "source": [
    "d"
   ]
  },
  {
   "cell_type": "code",
   "execution_count": 57,
   "metadata": {},
   "outputs": [
    {
     "data": {
      "text/plain": [
       "{'January 2021:': {'* Edgar': '$798.50',\n",
       "  '* Michael': '$6,014.30',\n",
       "  '* EastShore Healthcare': '$6,513.55',\n",
       "  '* Alliance Medical Group': '$299.25'},\n",
       " 'February 2021:': {'* Frannie': '$1,050.00',\n",
       "  '* Alliance Medical Group': '$1,050.00'},\n",
       " 'April 2021:': {'* Edgar': '$3,000.00',\n",
       "  '* EastShore Healthcare': '$3,000.00'}}"
      ]
     },
     "execution_count": 57,
     "metadata": {},
     "output_type": "execute_result"
    }
   ],
   "source": [
    "{k: {k:\"$\" + \"{0:,.2f}\".format(v) for k,v in v.items()} for k,v in d.items()}"
   ]
  },
  {
   "cell_type": "code",
   "execution_count": 60,
   "metadata": {},
   "outputs": [
    {
     "name": "stdout",
     "output_type": "stream",
     "text": [
      "{'January 2021:': {'* Edgar': '$798.50', '* Michael': '$6,014.30', '* EastShore Healthcare': '$6,513.55', '* Alliance Medical Group': '$299.25'}, 'February 2021:': {'* Frannie': '$1,050.00', '* Alliance Medical Group': '$1,050.00'}, 'April 2021:': {'* Edgar': '$3,000.00', '* EastShore Healthcare': '$3,000.00'}}\n"
     ]
    }
   ],
   "source": [
    "for i, j in d.items():\n",
    "    for k, v in j.items():\n",
    "        j[k] = \"$\" + \"{0:,.2f}\".format(v)\n",
    "\n",
    "print(d)"
   ]
  },
  {
   "cell_type": "code",
   "execution_count": 64,
   "metadata": {},
   "outputs": [
    {
     "name": "stdout",
     "output_type": "stream",
     "text": [
      "{'* Edgar': 798.5, '* Michael': 6014.3, '* Alliance Medical Group': 299.25, '* EastShore Healthcare': 6513.55}\n",
      "{'* Frannie': 1050.0, '* Alliance Medical Group': 1050.0}\n",
      "{'* Edgar': 3000.0, '* EastShore Healthcare': 3000.0}\n"
     ]
    }
   ],
   "source": [
    "for i, j in d.items():\n",
    "    print(j)"
   ]
  },
  {
   "cell_type": "code",
   "execution_count": 65,
   "metadata": {},
   "outputs": [
    {
     "name": "stdout",
     "output_type": "stream",
     "text": [
      "{'* Edgar': 3000.0, '* EastShore Healthcare': 3000.0}\n"
     ]
    }
   ],
   "source": [
    "print(j)"
   ]
  },
  {
   "cell_type": "code",
   "execution_count": 69,
   "metadata": {},
   "outputs": [
    {
     "name": "stdout",
     "output_type": "stream",
     "text": [
      "* Edgar ooooo 3000.0\n",
      "* EastShore Healthcare ooooo 3000.0\n"
     ]
    }
   ],
   "source": [
    "for k, v in j.items():\n",
    "    print(k,'ooooo', v)"
   ]
  },
  {
   "cell_type": "code",
   "execution_count": 80,
   "metadata": {},
   "outputs": [
    {
     "data": {
      "text/plain": [
       "'568.20'"
      ]
     },
     "execution_count": 80,
     "metadata": {},
     "output_type": "execute_result"
    }
   ],
   "source": [
    "\"{1:.2f}\". format(345.7949999,568.2024)"
   ]
  },
  {
   "cell_type": "code",
   "execution_count": 81,
   "metadata": {},
   "outputs": [
    {
     "name": "stdout",
     "output_type": "stream",
     "text": [
      "For only 49.00 dollars!\n"
     ]
    }
   ],
   "source": [
    "txt = \"For only {price:.2f} dollars!\"\n",
    "print(txt.format(price = 49))"
   ]
  },
  {
   "cell_type": "code",
   "execution_count": null,
   "metadata": {},
   "outputs": [],
   "source": []
  },
  {
   "cell_type": "code",
   "execution_count": null,
   "metadata": {},
   "outputs": [],
   "source": []
  },
  {
   "cell_type": "code",
   "execution_count": null,
   "metadata": {},
   "outputs": [],
   "source": []
  },
  {
   "cell_type": "code",
   "execution_count": 88,
   "metadata": {},
   "outputs": [
    {
     "name": "stdout",
     "output_type": "stream",
     "text": [
      "* Edgar 3000.0\n"
     ]
    },
    {
     "data": {
      "text/plain": [
       "{'* Edgar': '$3,000.00', '* EastShore Healthcare': 3000.0}"
      ]
     },
     "execution_count": 88,
     "metadata": {},
     "output_type": "execute_result"
    }
   ],
   "source": [
    "j = {'* Edgar': 3000.0, '* EastShore Healthcare': 3000.0}\n",
    "for k,v in j.items():\n",
    "    print(k,v)\n",
    "    j[k] = \"$\" + \"{0:,.2f}\".format(v)\n",
    "    break\n",
    "#     print('\\n')\n",
    "j"
   ]
  },
  {
   "cell_type": "code",
   "execution_count": 120,
   "metadata": {},
   "outputs": [
    {
     "data": {
      "text/plain": [
       "{'January 2021:': {'* Edgar': 798.5,\n",
       "  '* Michael': 6014.3,\n",
       "  '* Alliance Medical Group': 299.25,\n",
       "  '* EastShore Healthcare': 6513.55},\n",
       " 'February 2021:': {'* Frannie': 1050.0, '* Alliance Medical Group': 1050.0},\n",
       " 'April 2021:': {'* Edgar': 3000.0, '* EastShore Healthcare': 3000.0}}"
      ]
     },
     "execution_count": 120,
     "metadata": {},
     "output_type": "execute_result"
    }
   ],
   "source": [
    "d"
   ]
  },
  {
   "cell_type": "code",
   "execution_count": 18,
   "metadata": {
    "scrolled": true
   },
   "outputs": [
    {
     "ename": "SyntaxError",
     "evalue": "cannot assign to operator (<ipython-input-18-b30867ec48c3>, line 1)",
     "output_type": "error",
     "traceback": [
      "\u001b[0;36m  File \u001b[0;32m\"<ipython-input-18-b30867ec48c3>\"\u001b[0;36m, line \u001b[0;32m1\u001b[0m\n\u001b[0;31m    {i:j for k,(\"$\" + \"{0:,.2f}\".format(v)) in j.items() for i,j in d.items()}\u001b[0m\n\u001b[0m               ^\u001b[0m\n\u001b[0;31mSyntaxError\u001b[0m\u001b[0;31m:\u001b[0m cannot assign to operator\n"
     ]
    }
   ],
   "source": [
    "{i:j for k,(\"$\" + \"{0:,.2f}\".format(v)) in j.items() for i,j in d.items()}"
   ]
  },
  {
   "cell_type": "code",
   "execution_count": 34,
   "metadata": {},
   "outputs": [
    {
     "data": {
      "text/plain": [
       "{'January 2021:': {'* Edgar': '$798.50',\n",
       "  '* Michael': '$6,014.30',\n",
       "  '* Alliance Medical Group': '$299.25',\n",
       "  '* EastShore Healthcare': '$6,513.55'},\n",
       " 'February 2021:': {'* Frannie': '$1,050.00',\n",
       "  '* Alliance Medical Group': '$1,050.00'},\n",
       " 'April 2021:': {'* Edgar': '$3,000.00',\n",
       "  '* EastShore Healthcare': '$3,000.00'}}"
      ]
     },
     "execution_count": 34,
     "metadata": {},
     "output_type": "execute_result"
    }
   ],
   "source": [
    "{k: {k: \"$\" + \"{0:,.2f}\".format(v) for k, v in v.items()} for k, v in d.items()}"
   ]
  },
  {
   "cell_type": "code",
   "execution_count": 33,
   "metadata": {},
   "outputs": [
    {
     "data": {
      "text/plain": [
       "{'January 2021:': {'* Edgar': '$798.50',\n",
       "  '* Michael': '$6,014.30',\n",
       "  '* Alliance Medical Group': '$299.25',\n",
       "  '* EastShore Healthcare': '$6,513.55'},\n",
       " 'February 2021:': {'* Frannie': '$1,050.00',\n",
       "  '* Alliance Medical Group': '$1,050.00'},\n",
       " 'April 2021:': {'* Edgar': '$3,000.00',\n",
       "  '* EastShore Healthcare': '$3,000.00'}}"
      ]
     },
     "execution_count": 33,
     "metadata": {},
     "output_type": "execute_result"
    }
   ],
   "source": [
    "dd"
   ]
  },
  {
   "cell_type": "code",
   "execution_count": null,
   "metadata": {},
   "outputs": [],
   "source": []
  },
  {
   "cell_type": "code",
   "execution_count": null,
   "metadata": {},
   "outputs": [],
   "source": []
  },
  {
   "cell_type": "code",
   "execution_count": null,
   "metadata": {},
   "outputs": [],
   "source": []
  },
  {
   "cell_type": "code",
   "execution_count": 105,
   "metadata": {},
   "outputs": [
    {
     "name": "stdout",
     "output_type": "stream",
     "text": [
      "January 2021: {'* Edgar': 798.5, '* Michael': 6014.3, '* Alliance Medical Group': 299.25, '* EastShore Healthcare': 6513.55}\n",
      "February 2021: {'* Frannie': 1050.0, '* Alliance Medical Group': 1050.0}\n",
      "April 2021: {'* Edgar': 3000.0, '* EastShore Healthcare': 3000.0}\n"
     ]
    }
   ],
   "source": [
    "for i,j in d.items():\n",
    "    print(i,j)\n"
   ]
  },
  {
   "cell_type": "code",
   "execution_count": 122,
   "metadata": {},
   "outputs": [
    {
     "data": {
      "text/plain": [
       "{'January 2021:': {'* Edgar': 798.5,\n",
       "  '* Michael': 6014.3,\n",
       "  '* Alliance Medical Group': 299.25,\n",
       "  '* EastShore Healthcare': 6513.55},\n",
       " 'February 2021:': {'* Frannie': 1050.0, '* Alliance Medical Group': 1050.0},\n",
       " 'April 2021:': {'* Edgar': 3000.0, '* EastShore Healthcare': 3000.0}}"
      ]
     },
     "execution_count": 122,
     "metadata": {},
     "output_type": "execute_result"
    }
   ],
   "source": [
    "d"
   ]
  },
  {
   "cell_type": "code",
   "execution_count": 124,
   "metadata": {},
   "outputs": [
    {
     "data": {
      "text/plain": [
       "{'January 2021:': {'* Edgar': 798.5,\n",
       "  '* Michael': 6014.3,\n",
       "  '* Alliance Medical Group': 299.25,\n",
       "  '* EastShore Healthcare': 6513.55},\n",
       " 'February 2021:': {'* Frannie': 1050.0, '* Alliance Medical Group': 1050.0},\n",
       " 'April 2021:': {'* Edgar': 3000.0, '* EastShore Healthcare': 3000.0}}"
      ]
     },
     "execution_count": 124,
     "metadata": {},
     "output_type": "execute_result"
    }
   ],
   "source": [
    "{a:b for i,j in b.items() for a,b in d.items()}"
   ]
  },
  {
   "cell_type": "code",
   "execution_count": null,
   "metadata": {},
   "outputs": [],
   "source": []
  },
  {
   "cell_type": "code",
   "execution_count": 116,
   "metadata": {},
   "outputs": [
    {
     "data": {
      "text/plain": [
       "{'category 1:': {'A': '$50.50', 'B': '$28.90', 'C': '$46.30', 'D': '$513.80'},\n",
       " 'category 2:': {'E': '$20.50', 'C': '$48.10'},\n",
       " 'category 3:': {'D': '$28.20', 'F': '$68.30'}}"
      ]
     },
     "execution_count": 116,
     "metadata": {},
     "output_type": "execute_result"
    }
   ],
   "source": [
    "ddd = {'category 1:': \n",
    "         {'A': 50.5,\n",
    "          'B': 28.9,\n",
    "          'C': 46.3,\n",
    "          'D': 513.8},\n",
    "       'category 2:': {'E': 20.5, 'C': 48.1},\n",
    "       'category 3:': {'D': 28.2, 'F': 68.3}}\n",
    "# for i,j in ddd.items():\n",
    "#     for k,v in j.items():\n",
    "#         j[k] = \"$\" + \"{0:,.2f}\".format(v)\n",
    "for a,b in ddd.items():\n",
    "    for i,j in b.items():\n",
    "        b[i] = \"$\" + \"{0:,.2f}\".format(j)\n",
    "ddd"
   ]
  },
  {
   "cell_type": "code",
   "execution_count": 123,
   "metadata": {},
   "outputs": [
    {
     "data": {
      "text/plain": [
       "{'category 1:': {'A': 50.5, 'B': 28.9, 'C': 46.3, 'D': 513.8},\n",
       " 'category 2:': {'E': 20.5, 'C': 48.1},\n",
       " 'category 3:': {'D': 28.2, 'F': 68.3}}"
      ]
     },
     "execution_count": 123,
     "metadata": {},
     "output_type": "execute_result"
    }
   ],
   "source": [
    "ddd = {'category 1:': \n",
    "         {'A': 50.5,\n",
    "          'B': 28.9,\n",
    "          'C': 46.3,\n",
    "          'D': 513.8},\n",
    "       'category 2:': {'E': 20.5, 'C': 48.1},\n",
    "       'category 3:': {'D': 28.2, 'F': 68.3}}\n",
    "{a:b for i,j in b.items() for a,b in ddd.items()}"
   ]
  },
  {
   "cell_type": "code",
   "execution_count": 118,
   "metadata": {},
   "outputs": [
    {
     "data": {
      "text/plain": [
       "{'A': '$50.50',\n",
       " 'B': '$28.90',\n",
       " 'C': '$48.10',\n",
       " 'D': '$28.20',\n",
       " 'E': '$20.50',\n",
       " 'F': '$68.30'}"
      ]
     },
     "execution_count": 118,
     "metadata": {},
     "output_type": "execute_result"
    }
   ],
   "source": [
    "{i:j for a,b in ddd.items() for i,j in b.items()}"
   ]
  },
  {
   "cell_type": "code",
   "execution_count": null,
   "metadata": {},
   "outputs": [],
   "source": [
    "{'category 1:': {'A': '$50.50', 'B': '$28.90', 'C': '$46.30', 'D': '$513.80'},\n",
    " 'category 2:': {'E': '$20.50', 'C': '$48.10'},\n",
    " 'category 3:': {'D': '$28.20', 'F': '$68.30'}}"
   ]
  },
  {
   "cell_type": "code",
   "execution_count": null,
   "metadata": {},
   "outputs": [],
   "source": []
  },
  {
   "cell_type": "code",
   "execution_count": 64,
   "metadata": {},
   "outputs": [
    {
     "name": "stderr",
     "output_type": "stream",
     "text": [
      "usage: ipykernel_launcher.py [-h] [--sum] N [N ...]\n",
      "ipykernel_launcher.py: error: argument N: invalid int value: '/Users/zhongyizhang/Library/Jupyter/runtime/kernel-0a4ff281-99a3-4338-bb74-e1af94691590.json'\n",
      "ERROR:root:Internal Python error in the inspect module.\n",
      "Below is the traceback from this internal error.\n",
      "\n"
     ]
    },
    {
     "name": "stdout",
     "output_type": "stream",
     "text": [
      "Traceback (most recent call last):\n",
      "  File \"/Users/zhongyizhang/opt/anaconda3/lib/python3.8/argparse.py\", line 2422, in _get_value\n",
      "    result = type_func(arg_string)\n",
      "ValueError: invalid literal for int() with base 10: '/Users/zhongyizhang/Library/Jupyter/runtime/kernel-0a4ff281-99a3-4338-bb74-e1af94691590.json'\n",
      "\n",
      "During handling of the above exception, another exception occurred:\n",
      "\n",
      "Traceback (most recent call last):\n",
      "  File \"/Users/zhongyizhang/opt/anaconda3/lib/python3.8/argparse.py\", line 1800, in parse_known_args\n",
      "    namespace, args = self._parse_known_args(args, namespace)\n",
      "  File \"/Users/zhongyizhang/opt/anaconda3/lib/python3.8/argparse.py\", line 2009, in _parse_known_args\n",
      "    stop_index = consume_positionals(start_index)\n",
      "  File \"/Users/zhongyizhang/opt/anaconda3/lib/python3.8/argparse.py\", line 1965, in consume_positionals\n",
      "    take_action(action, args)\n",
      "  File \"/Users/zhongyizhang/opt/anaconda3/lib/python3.8/argparse.py\", line 1858, in take_action\n",
      "    argument_values = self._get_values(action, argument_strings)\n",
      "  File \"/Users/zhongyizhang/opt/anaconda3/lib/python3.8/argparse.py\", line 2407, in _get_values\n",
      "    value = [self._get_value(action, v) for v in arg_strings]\n",
      "  File \"/Users/zhongyizhang/opt/anaconda3/lib/python3.8/argparse.py\", line 2407, in <listcomp>\n",
      "    value = [self._get_value(action, v) for v in arg_strings]\n",
      "  File \"/Users/zhongyizhang/opt/anaconda3/lib/python3.8/argparse.py\", line 2435, in _get_value\n",
      "    raise ArgumentError(action, msg % args)\n",
      "argparse.ArgumentError: argument N: invalid int value: '/Users/zhongyizhang/Library/Jupyter/runtime/kernel-0a4ff281-99a3-4338-bb74-e1af94691590.json'\n",
      "\n",
      "During handling of the above exception, another exception occurred:\n",
      "\n",
      "Traceback (most recent call last):\n",
      "  File \"/Users/zhongyizhang/opt/anaconda3/lib/python3.8/site-packages/IPython/core/interactiveshell.py\", line 3437, in run_code\n",
      "    exec(code_obj, self.user_global_ns, self.user_ns)\n",
      "  File \"<ipython-input-64-95f062092f47>\", line 10, in <module>\n",
      "    args = parser.parse_args()\n",
      "  File \"/Users/zhongyizhang/opt/anaconda3/lib/python3.8/argparse.py\", line 1768, in parse_args\n",
      "    args, argv = self.parse_known_args(args, namespace)\n",
      "  File \"/Users/zhongyizhang/opt/anaconda3/lib/python3.8/argparse.py\", line 1807, in parse_known_args\n",
      "    self.error(str(err))\n",
      "  File \"/Users/zhongyizhang/opt/anaconda3/lib/python3.8/argparse.py\", line 2521, in error\n",
      "    self.exit(2, _('%(prog)s: error: %(message)s\\n') % args)\n",
      "  File \"/Users/zhongyizhang/opt/anaconda3/lib/python3.8/argparse.py\", line 2508, in exit\n",
      "    _sys.exit(status)\n",
      "SystemExit: 2\n",
      "\n",
      "During handling of the above exception, another exception occurred:\n",
      "\n",
      "Traceback (most recent call last):\n",
      "  File \"/Users/zhongyizhang/opt/anaconda3/lib/python3.8/site-packages/IPython/core/ultratb.py\", line 1101, in get_records\n",
      "    return _fixed_getinnerframes(etb, number_of_lines_of_context, tb_offset)\n",
      "  File \"/Users/zhongyizhang/opt/anaconda3/lib/python3.8/site-packages/IPython/core/ultratb.py\", line 248, in wrapped\n",
      "    return f(*args, **kwargs)\n",
      "  File \"/Users/zhongyizhang/opt/anaconda3/lib/python3.8/site-packages/IPython/core/ultratb.py\", line 281, in _fixed_getinnerframes\n",
      "    records = fix_frame_records_filenames(inspect.getinnerframes(etb, context))\n",
      "  File \"/Users/zhongyizhang/opt/anaconda3/lib/python3.8/inspect.py\", line 1515, in getinnerframes\n",
      "    frameinfo = (tb.tb_frame,) + getframeinfo(tb, context)\n",
      "AttributeError: 'tuple' object has no attribute 'tb_frame'\n"
     ]
    },
    {
     "ename": "TypeError",
     "evalue": "object of type 'NoneType' has no len()",
     "output_type": "error",
     "traceback": [
      "\u001b[0;31m---------------------------------------------------------------------------\u001b[0m",
      "\u001b[0;31mValueError\u001b[0m                                Traceback (most recent call last)",
      "\u001b[0;32m~/opt/anaconda3/lib/python3.8/argparse.py\u001b[0m in \u001b[0;36m_get_value\u001b[0;34m(self, action, arg_string)\u001b[0m\n\u001b[1;32m   2421\u001b[0m         \u001b[0;32mtry\u001b[0m\u001b[0;34m:\u001b[0m\u001b[0;34m\u001b[0m\u001b[0;34m\u001b[0m\u001b[0m\n\u001b[0;32m-> 2422\u001b[0;31m             \u001b[0mresult\u001b[0m \u001b[0;34m=\u001b[0m \u001b[0mtype_func\u001b[0m\u001b[0;34m(\u001b[0m\u001b[0marg_string\u001b[0m\u001b[0;34m)\u001b[0m\u001b[0;34m\u001b[0m\u001b[0;34m\u001b[0m\u001b[0m\n\u001b[0m\u001b[1;32m   2423\u001b[0m \u001b[0;34m\u001b[0m\u001b[0m\n",
      "\u001b[0;31mValueError\u001b[0m: invalid literal for int() with base 10: '/Users/zhongyizhang/Library/Jupyter/runtime/kernel-0a4ff281-99a3-4338-bb74-e1af94691590.json'",
      "\nDuring handling of the above exception, another exception occurred:\n",
      "\u001b[0;31mArgumentError\u001b[0m                             Traceback (most recent call last)",
      "\u001b[0;32m~/opt/anaconda3/lib/python3.8/argparse.py\u001b[0m in \u001b[0;36mparse_known_args\u001b[0;34m(self, args, namespace)\u001b[0m\n\u001b[1;32m   1799\u001b[0m         \u001b[0;32mtry\u001b[0m\u001b[0;34m:\u001b[0m\u001b[0;34m\u001b[0m\u001b[0;34m\u001b[0m\u001b[0m\n\u001b[0;32m-> 1800\u001b[0;31m             \u001b[0mnamespace\u001b[0m\u001b[0;34m,\u001b[0m \u001b[0margs\u001b[0m \u001b[0;34m=\u001b[0m \u001b[0mself\u001b[0m\u001b[0;34m.\u001b[0m\u001b[0m_parse_known_args\u001b[0m\u001b[0;34m(\u001b[0m\u001b[0margs\u001b[0m\u001b[0;34m,\u001b[0m \u001b[0mnamespace\u001b[0m\u001b[0;34m)\u001b[0m\u001b[0;34m\u001b[0m\u001b[0;34m\u001b[0m\u001b[0m\n\u001b[0m\u001b[1;32m   1801\u001b[0m             \u001b[0;32mif\u001b[0m \u001b[0mhasattr\u001b[0m\u001b[0;34m(\u001b[0m\u001b[0mnamespace\u001b[0m\u001b[0;34m,\u001b[0m \u001b[0m_UNRECOGNIZED_ARGS_ATTR\u001b[0m\u001b[0;34m)\u001b[0m\u001b[0;34m:\u001b[0m\u001b[0;34m\u001b[0m\u001b[0;34m\u001b[0m\u001b[0m\n",
      "\u001b[0;32m~/opt/anaconda3/lib/python3.8/argparse.py\u001b[0m in \u001b[0;36m_parse_known_args\u001b[0;34m(self, arg_strings, namespace)\u001b[0m\n\u001b[1;32m   2008\u001b[0m         \u001b[0;31m# consume any positionals following the last Optional\u001b[0m\u001b[0;34m\u001b[0m\u001b[0;34m\u001b[0m\u001b[0;34m\u001b[0m\u001b[0m\n\u001b[0;32m-> 2009\u001b[0;31m         \u001b[0mstop_index\u001b[0m \u001b[0;34m=\u001b[0m \u001b[0mconsume_positionals\u001b[0m\u001b[0;34m(\u001b[0m\u001b[0mstart_index\u001b[0m\u001b[0;34m)\u001b[0m\u001b[0;34m\u001b[0m\u001b[0;34m\u001b[0m\u001b[0m\n\u001b[0m\u001b[1;32m   2010\u001b[0m \u001b[0;34m\u001b[0m\u001b[0m\n",
      "\u001b[0;32m~/opt/anaconda3/lib/python3.8/argparse.py\u001b[0m in \u001b[0;36mconsume_positionals\u001b[0;34m(start_index)\u001b[0m\n\u001b[1;32m   1964\u001b[0m                 \u001b[0mstart_index\u001b[0m \u001b[0;34m+=\u001b[0m \u001b[0marg_count\u001b[0m\u001b[0;34m\u001b[0m\u001b[0;34m\u001b[0m\u001b[0m\n\u001b[0;32m-> 1965\u001b[0;31m                 \u001b[0mtake_action\u001b[0m\u001b[0;34m(\u001b[0m\u001b[0maction\u001b[0m\u001b[0;34m,\u001b[0m \u001b[0margs\u001b[0m\u001b[0;34m)\u001b[0m\u001b[0;34m\u001b[0m\u001b[0;34m\u001b[0m\u001b[0m\n\u001b[0m\u001b[1;32m   1966\u001b[0m \u001b[0;34m\u001b[0m\u001b[0m\n",
      "\u001b[0;32m~/opt/anaconda3/lib/python3.8/argparse.py\u001b[0m in \u001b[0;36mtake_action\u001b[0;34m(action, argument_strings, option_string)\u001b[0m\n\u001b[1;32m   1857\u001b[0m             \u001b[0mseen_actions\u001b[0m\u001b[0;34m.\u001b[0m\u001b[0madd\u001b[0m\u001b[0;34m(\u001b[0m\u001b[0maction\u001b[0m\u001b[0;34m)\u001b[0m\u001b[0;34m\u001b[0m\u001b[0;34m\u001b[0m\u001b[0m\n\u001b[0;32m-> 1858\u001b[0;31m             \u001b[0margument_values\u001b[0m \u001b[0;34m=\u001b[0m \u001b[0mself\u001b[0m\u001b[0;34m.\u001b[0m\u001b[0m_get_values\u001b[0m\u001b[0;34m(\u001b[0m\u001b[0maction\u001b[0m\u001b[0;34m,\u001b[0m \u001b[0margument_strings\u001b[0m\u001b[0;34m)\u001b[0m\u001b[0;34m\u001b[0m\u001b[0;34m\u001b[0m\u001b[0m\n\u001b[0m\u001b[1;32m   1859\u001b[0m \u001b[0;34m\u001b[0m\u001b[0m\n",
      "\u001b[0;32m~/opt/anaconda3/lib/python3.8/argparse.py\u001b[0m in \u001b[0;36m_get_values\u001b[0;34m(self, action, arg_strings)\u001b[0m\n\u001b[1;32m   2406\u001b[0m         \u001b[0;32melse\u001b[0m\u001b[0;34m:\u001b[0m\u001b[0;34m\u001b[0m\u001b[0;34m\u001b[0m\u001b[0m\n\u001b[0;32m-> 2407\u001b[0;31m             \u001b[0mvalue\u001b[0m \u001b[0;34m=\u001b[0m \u001b[0;34m[\u001b[0m\u001b[0mself\u001b[0m\u001b[0;34m.\u001b[0m\u001b[0m_get_value\u001b[0m\u001b[0;34m(\u001b[0m\u001b[0maction\u001b[0m\u001b[0;34m,\u001b[0m \u001b[0mv\u001b[0m\u001b[0;34m)\u001b[0m \u001b[0;32mfor\u001b[0m \u001b[0mv\u001b[0m \u001b[0;32min\u001b[0m \u001b[0marg_strings\u001b[0m\u001b[0;34m]\u001b[0m\u001b[0;34m\u001b[0m\u001b[0;34m\u001b[0m\u001b[0m\n\u001b[0m\u001b[1;32m   2408\u001b[0m             \u001b[0;32mfor\u001b[0m \u001b[0mv\u001b[0m \u001b[0;32min\u001b[0m \u001b[0mvalue\u001b[0m\u001b[0;34m:\u001b[0m\u001b[0;34m\u001b[0m\u001b[0;34m\u001b[0m\u001b[0m\n",
      "\u001b[0;32m~/opt/anaconda3/lib/python3.8/argparse.py\u001b[0m in \u001b[0;36m<listcomp>\u001b[0;34m(.0)\u001b[0m\n\u001b[1;32m   2406\u001b[0m         \u001b[0;32melse\u001b[0m\u001b[0;34m:\u001b[0m\u001b[0;34m\u001b[0m\u001b[0;34m\u001b[0m\u001b[0m\n\u001b[0;32m-> 2407\u001b[0;31m             \u001b[0mvalue\u001b[0m \u001b[0;34m=\u001b[0m \u001b[0;34m[\u001b[0m\u001b[0mself\u001b[0m\u001b[0;34m.\u001b[0m\u001b[0m_get_value\u001b[0m\u001b[0;34m(\u001b[0m\u001b[0maction\u001b[0m\u001b[0;34m,\u001b[0m \u001b[0mv\u001b[0m\u001b[0;34m)\u001b[0m \u001b[0;32mfor\u001b[0m \u001b[0mv\u001b[0m \u001b[0;32min\u001b[0m \u001b[0marg_strings\u001b[0m\u001b[0;34m]\u001b[0m\u001b[0;34m\u001b[0m\u001b[0;34m\u001b[0m\u001b[0m\n\u001b[0m\u001b[1;32m   2408\u001b[0m             \u001b[0;32mfor\u001b[0m \u001b[0mv\u001b[0m \u001b[0;32min\u001b[0m \u001b[0mvalue\u001b[0m\u001b[0;34m:\u001b[0m\u001b[0;34m\u001b[0m\u001b[0;34m\u001b[0m\u001b[0m\n",
      "\u001b[0;32m~/opt/anaconda3/lib/python3.8/argparse.py\u001b[0m in \u001b[0;36m_get_value\u001b[0;34m(self, action, arg_string)\u001b[0m\n\u001b[1;32m   2434\u001b[0m             \u001b[0mmsg\u001b[0m \u001b[0;34m=\u001b[0m \u001b[0m_\u001b[0m\u001b[0;34m(\u001b[0m\u001b[0;34m'invalid %(type)s value: %(value)r'\u001b[0m\u001b[0;34m)\u001b[0m\u001b[0;34m\u001b[0m\u001b[0;34m\u001b[0m\u001b[0m\n\u001b[0;32m-> 2435\u001b[0;31m             \u001b[0;32mraise\u001b[0m \u001b[0mArgumentError\u001b[0m\u001b[0;34m(\u001b[0m\u001b[0maction\u001b[0m\u001b[0;34m,\u001b[0m \u001b[0mmsg\u001b[0m \u001b[0;34m%\u001b[0m \u001b[0margs\u001b[0m\u001b[0;34m)\u001b[0m\u001b[0;34m\u001b[0m\u001b[0;34m\u001b[0m\u001b[0m\n\u001b[0m\u001b[1;32m   2436\u001b[0m \u001b[0;34m\u001b[0m\u001b[0m\n",
      "\u001b[0;31mArgumentError\u001b[0m: argument N: invalid int value: '/Users/zhongyizhang/Library/Jupyter/runtime/kernel-0a4ff281-99a3-4338-bb74-e1af94691590.json'",
      "\nDuring handling of the above exception, another exception occurred:\n",
      "\u001b[0;31mSystemExit\u001b[0m                                Traceback (most recent call last)",
      "    \u001b[0;31m[... skipping hidden 1 frame]\u001b[0m\n",
      "\u001b[0;32m<ipython-input-64-95f062092f47>\u001b[0m in \u001b[0;36m<module>\u001b[0;34m\u001b[0m\n\u001b[1;32m      9\u001b[0m \u001b[0;34m\u001b[0m\u001b[0m\n\u001b[0;32m---> 10\u001b[0;31m \u001b[0margs\u001b[0m \u001b[0;34m=\u001b[0m \u001b[0mparser\u001b[0m\u001b[0;34m.\u001b[0m\u001b[0mparse_args\u001b[0m\u001b[0;34m(\u001b[0m\u001b[0;34m)\u001b[0m\u001b[0;34m\u001b[0m\u001b[0;34m\u001b[0m\u001b[0m\n\u001b[0m\u001b[1;32m     11\u001b[0m \u001b[0mprint\u001b[0m\u001b[0;34m(\u001b[0m\u001b[0margs\u001b[0m\u001b[0;34m.\u001b[0m\u001b[0maccumulate\u001b[0m\u001b[0;34m(\u001b[0m\u001b[0margs\u001b[0m\u001b[0;34m.\u001b[0m\u001b[0mintegers\u001b[0m\u001b[0;34m)\u001b[0m\u001b[0;34m)\u001b[0m\u001b[0;34m\u001b[0m\u001b[0;34m\u001b[0m\u001b[0m\n",
      "\u001b[0;32m~/opt/anaconda3/lib/python3.8/argparse.py\u001b[0m in \u001b[0;36mparse_args\u001b[0;34m(self, args, namespace)\u001b[0m\n\u001b[1;32m   1767\u001b[0m     \u001b[0;32mdef\u001b[0m \u001b[0mparse_args\u001b[0m\u001b[0;34m(\u001b[0m\u001b[0mself\u001b[0m\u001b[0;34m,\u001b[0m \u001b[0margs\u001b[0m\u001b[0;34m=\u001b[0m\u001b[0;32mNone\u001b[0m\u001b[0;34m,\u001b[0m \u001b[0mnamespace\u001b[0m\u001b[0;34m=\u001b[0m\u001b[0;32mNone\u001b[0m\u001b[0;34m)\u001b[0m\u001b[0;34m:\u001b[0m\u001b[0;34m\u001b[0m\u001b[0;34m\u001b[0m\u001b[0m\n\u001b[0;32m-> 1768\u001b[0;31m         \u001b[0margs\u001b[0m\u001b[0;34m,\u001b[0m \u001b[0margv\u001b[0m \u001b[0;34m=\u001b[0m \u001b[0mself\u001b[0m\u001b[0;34m.\u001b[0m\u001b[0mparse_known_args\u001b[0m\u001b[0;34m(\u001b[0m\u001b[0margs\u001b[0m\u001b[0;34m,\u001b[0m \u001b[0mnamespace\u001b[0m\u001b[0;34m)\u001b[0m\u001b[0;34m\u001b[0m\u001b[0;34m\u001b[0m\u001b[0m\n\u001b[0m\u001b[1;32m   1769\u001b[0m         \u001b[0;32mif\u001b[0m \u001b[0margv\u001b[0m\u001b[0;34m:\u001b[0m\u001b[0;34m\u001b[0m\u001b[0;34m\u001b[0m\u001b[0m\n",
      "\u001b[0;32m~/opt/anaconda3/lib/python3.8/argparse.py\u001b[0m in \u001b[0;36mparse_known_args\u001b[0;34m(self, args, namespace)\u001b[0m\n\u001b[1;32m   1806\u001b[0m             \u001b[0merr\u001b[0m \u001b[0;34m=\u001b[0m \u001b[0m_sys\u001b[0m\u001b[0;34m.\u001b[0m\u001b[0mexc_info\u001b[0m\u001b[0;34m(\u001b[0m\u001b[0;34m)\u001b[0m\u001b[0;34m[\u001b[0m\u001b[0;36m1\u001b[0m\u001b[0;34m]\u001b[0m\u001b[0;34m\u001b[0m\u001b[0;34m\u001b[0m\u001b[0m\n\u001b[0;32m-> 1807\u001b[0;31m             \u001b[0mself\u001b[0m\u001b[0;34m.\u001b[0m\u001b[0merror\u001b[0m\u001b[0;34m(\u001b[0m\u001b[0mstr\u001b[0m\u001b[0;34m(\u001b[0m\u001b[0merr\u001b[0m\u001b[0;34m)\u001b[0m\u001b[0;34m)\u001b[0m\u001b[0;34m\u001b[0m\u001b[0;34m\u001b[0m\u001b[0m\n\u001b[0m\u001b[1;32m   1808\u001b[0m \u001b[0;34m\u001b[0m\u001b[0m\n",
      "\u001b[0;32m~/opt/anaconda3/lib/python3.8/argparse.py\u001b[0m in \u001b[0;36merror\u001b[0;34m(self, message)\u001b[0m\n\u001b[1;32m   2520\u001b[0m         \u001b[0margs\u001b[0m \u001b[0;34m=\u001b[0m \u001b[0;34m{\u001b[0m\u001b[0;34m'prog'\u001b[0m\u001b[0;34m:\u001b[0m \u001b[0mself\u001b[0m\u001b[0;34m.\u001b[0m\u001b[0mprog\u001b[0m\u001b[0;34m,\u001b[0m \u001b[0;34m'message'\u001b[0m\u001b[0;34m:\u001b[0m \u001b[0mmessage\u001b[0m\u001b[0;34m}\u001b[0m\u001b[0;34m\u001b[0m\u001b[0;34m\u001b[0m\u001b[0m\n\u001b[0;32m-> 2521\u001b[0;31m         \u001b[0mself\u001b[0m\u001b[0;34m.\u001b[0m\u001b[0mexit\u001b[0m\u001b[0;34m(\u001b[0m\u001b[0;36m2\u001b[0m\u001b[0;34m,\u001b[0m \u001b[0m_\u001b[0m\u001b[0;34m(\u001b[0m\u001b[0;34m'%(prog)s: error: %(message)s\\n'\u001b[0m\u001b[0;34m)\u001b[0m \u001b[0;34m%\u001b[0m \u001b[0margs\u001b[0m\u001b[0;34m)\u001b[0m\u001b[0;34m\u001b[0m\u001b[0;34m\u001b[0m\u001b[0m\n\u001b[0m",
      "\u001b[0;32m~/opt/anaconda3/lib/python3.8/argparse.py\u001b[0m in \u001b[0;36mexit\u001b[0;34m(self, status, message)\u001b[0m\n\u001b[1;32m   2507\u001b[0m             \u001b[0mself\u001b[0m\u001b[0;34m.\u001b[0m\u001b[0m_print_message\u001b[0m\u001b[0;34m(\u001b[0m\u001b[0mmessage\u001b[0m\u001b[0;34m,\u001b[0m \u001b[0m_sys\u001b[0m\u001b[0;34m.\u001b[0m\u001b[0mstderr\u001b[0m\u001b[0;34m)\u001b[0m\u001b[0;34m\u001b[0m\u001b[0;34m\u001b[0m\u001b[0m\n\u001b[0;32m-> 2508\u001b[0;31m         \u001b[0m_sys\u001b[0m\u001b[0;34m.\u001b[0m\u001b[0mexit\u001b[0m\u001b[0;34m(\u001b[0m\u001b[0mstatus\u001b[0m\u001b[0;34m)\u001b[0m\u001b[0;34m\u001b[0m\u001b[0;34m\u001b[0m\u001b[0m\n\u001b[0m\u001b[1;32m   2509\u001b[0m \u001b[0;34m\u001b[0m\u001b[0m\n",
      "\u001b[0;31mSystemExit\u001b[0m: 2",
      "\nDuring handling of the above exception, another exception occurred:\n",
      "\u001b[0;31mTypeError\u001b[0m                                 Traceback (most recent call last)",
      "    \u001b[0;31m[... skipping hidden 1 frame]\u001b[0m\n",
      "\u001b[0;32m~/opt/anaconda3/lib/python3.8/site-packages/IPython/core/interactiveshell.py\u001b[0m in \u001b[0;36mshowtraceback\u001b[0;34m(self, exc_tuple, filename, tb_offset, exception_only, running_compiled_code)\u001b[0m\n\u001b[1;32m   2052\u001b[0m                     stb = ['An exception has occurred, use %tb to see '\n\u001b[1;32m   2053\u001b[0m                            'the full traceback.\\n']\n\u001b[0;32m-> 2054\u001b[0;31m                     stb.extend(self.InteractiveTB.get_exception_only(etype,\n\u001b[0m\u001b[1;32m   2055\u001b[0m                                                                      value))\n\u001b[1;32m   2056\u001b[0m                 \u001b[0;32melse\u001b[0m\u001b[0;34m:\u001b[0m\u001b[0;34m\u001b[0m\u001b[0;34m\u001b[0m\u001b[0m\n",
      "\u001b[0;32m~/opt/anaconda3/lib/python3.8/site-packages/IPython/core/ultratb.py\u001b[0m in \u001b[0;36mget_exception_only\u001b[0;34m(self, etype, value)\u001b[0m\n\u001b[1;32m    752\u001b[0m         \u001b[0mvalue\u001b[0m \u001b[0;34m:\u001b[0m \u001b[0mexception\u001b[0m \u001b[0mvalue\u001b[0m\u001b[0;34m\u001b[0m\u001b[0;34m\u001b[0m\u001b[0m\n\u001b[1;32m    753\u001b[0m         \"\"\"\n\u001b[0;32m--> 754\u001b[0;31m         \u001b[0;32mreturn\u001b[0m \u001b[0mListTB\u001b[0m\u001b[0;34m.\u001b[0m\u001b[0mstructured_traceback\u001b[0m\u001b[0;34m(\u001b[0m\u001b[0mself\u001b[0m\u001b[0;34m,\u001b[0m \u001b[0metype\u001b[0m\u001b[0;34m,\u001b[0m \u001b[0mvalue\u001b[0m\u001b[0;34m)\u001b[0m\u001b[0;34m\u001b[0m\u001b[0;34m\u001b[0m\u001b[0m\n\u001b[0m\u001b[1;32m    755\u001b[0m \u001b[0;34m\u001b[0m\u001b[0m\n\u001b[1;32m    756\u001b[0m     \u001b[0;32mdef\u001b[0m \u001b[0mshow_exception_only\u001b[0m\u001b[0;34m(\u001b[0m\u001b[0mself\u001b[0m\u001b[0;34m,\u001b[0m \u001b[0metype\u001b[0m\u001b[0;34m,\u001b[0m \u001b[0mevalue\u001b[0m\u001b[0;34m)\u001b[0m\u001b[0;34m:\u001b[0m\u001b[0;34m\u001b[0m\u001b[0;34m\u001b[0m\u001b[0m\n",
      "\u001b[0;32m~/opt/anaconda3/lib/python3.8/site-packages/IPython/core/ultratb.py\u001b[0m in \u001b[0;36mstructured_traceback\u001b[0;34m(self, etype, evalue, etb, tb_offset, context)\u001b[0m\n\u001b[1;32m    627\u001b[0m             \u001b[0mchained_exceptions_tb_offset\u001b[0m \u001b[0;34m=\u001b[0m \u001b[0;36m0\u001b[0m\u001b[0;34m\u001b[0m\u001b[0;34m\u001b[0m\u001b[0m\n\u001b[1;32m    628\u001b[0m             out_list = (\n\u001b[0;32m--> 629\u001b[0;31m                 self.structured_traceback(\n\u001b[0m\u001b[1;32m    630\u001b[0m                     \u001b[0metype\u001b[0m\u001b[0;34m,\u001b[0m \u001b[0mevalue\u001b[0m\u001b[0;34m,\u001b[0m \u001b[0;34m(\u001b[0m\u001b[0metb\u001b[0m\u001b[0;34m,\u001b[0m \u001b[0mchained_exc_ids\u001b[0m\u001b[0;34m)\u001b[0m\u001b[0;34m,\u001b[0m\u001b[0;34m\u001b[0m\u001b[0;34m\u001b[0m\u001b[0m\n\u001b[1;32m    631\u001b[0m                     chained_exceptions_tb_offset, context)\n",
      "\u001b[0;32m~/opt/anaconda3/lib/python3.8/site-packages/IPython/core/ultratb.py\u001b[0m in \u001b[0;36mstructured_traceback\u001b[0;34m(self, etype, value, tb, tb_offset, number_of_lines_of_context)\u001b[0m\n\u001b[1;32m   1365\u001b[0m         \u001b[0;32melse\u001b[0m\u001b[0;34m:\u001b[0m\u001b[0;34m\u001b[0m\u001b[0;34m\u001b[0m\u001b[0m\n\u001b[1;32m   1366\u001b[0m             \u001b[0mself\u001b[0m\u001b[0;34m.\u001b[0m\u001b[0mtb\u001b[0m \u001b[0;34m=\u001b[0m \u001b[0mtb\u001b[0m\u001b[0;34m\u001b[0m\u001b[0;34m\u001b[0m\u001b[0m\n\u001b[0;32m-> 1367\u001b[0;31m         return FormattedTB.structured_traceback(\n\u001b[0m\u001b[1;32m   1368\u001b[0m             self, etype, value, tb, tb_offset, number_of_lines_of_context)\n\u001b[1;32m   1369\u001b[0m \u001b[0;34m\u001b[0m\u001b[0m\n",
      "\u001b[0;32m~/opt/anaconda3/lib/python3.8/site-packages/IPython/core/ultratb.py\u001b[0m in \u001b[0;36mstructured_traceback\u001b[0;34m(self, etype, value, tb, tb_offset, number_of_lines_of_context)\u001b[0m\n\u001b[1;32m   1265\u001b[0m         \u001b[0;32mif\u001b[0m \u001b[0mmode\u001b[0m \u001b[0;32min\u001b[0m \u001b[0mself\u001b[0m\u001b[0;34m.\u001b[0m\u001b[0mverbose_modes\u001b[0m\u001b[0;34m:\u001b[0m\u001b[0;34m\u001b[0m\u001b[0;34m\u001b[0m\u001b[0m\n\u001b[1;32m   1266\u001b[0m             \u001b[0;31m# Verbose modes need a full traceback\u001b[0m\u001b[0;34m\u001b[0m\u001b[0;34m\u001b[0m\u001b[0;34m\u001b[0m\u001b[0m\n\u001b[0;32m-> 1267\u001b[0;31m             return VerboseTB.structured_traceback(\n\u001b[0m\u001b[1;32m   1268\u001b[0m                 \u001b[0mself\u001b[0m\u001b[0;34m,\u001b[0m \u001b[0metype\u001b[0m\u001b[0;34m,\u001b[0m \u001b[0mvalue\u001b[0m\u001b[0;34m,\u001b[0m \u001b[0mtb\u001b[0m\u001b[0;34m,\u001b[0m \u001b[0mtb_offset\u001b[0m\u001b[0;34m,\u001b[0m \u001b[0mnumber_of_lines_of_context\u001b[0m\u001b[0;34m\u001b[0m\u001b[0;34m\u001b[0m\u001b[0m\n\u001b[1;32m   1269\u001b[0m             )\n",
      "\u001b[0;32m~/opt/anaconda3/lib/python3.8/site-packages/IPython/core/ultratb.py\u001b[0m in \u001b[0;36mstructured_traceback\u001b[0;34m(self, etype, evalue, etb, tb_offset, number_of_lines_of_context)\u001b[0m\n\u001b[1;32m   1122\u001b[0m         \u001b[0;34m\"\"\"Return a nice text document describing the traceback.\"\"\"\u001b[0m\u001b[0;34m\u001b[0m\u001b[0;34m\u001b[0m\u001b[0m\n\u001b[1;32m   1123\u001b[0m \u001b[0;34m\u001b[0m\u001b[0m\n\u001b[0;32m-> 1124\u001b[0;31m         formatted_exception = self.format_exception_as_a_whole(etype, evalue, etb, number_of_lines_of_context,\n\u001b[0m\u001b[1;32m   1125\u001b[0m                                                                tb_offset)\n\u001b[1;32m   1126\u001b[0m \u001b[0;34m\u001b[0m\u001b[0m\n",
      "\u001b[0;32m~/opt/anaconda3/lib/python3.8/site-packages/IPython/core/ultratb.py\u001b[0m in \u001b[0;36mformat_exception_as_a_whole\u001b[0;34m(self, etype, evalue, etb, number_of_lines_of_context, tb_offset)\u001b[0m\n\u001b[1;32m   1080\u001b[0m \u001b[0;34m\u001b[0m\u001b[0m\n\u001b[1;32m   1081\u001b[0m \u001b[0;34m\u001b[0m\u001b[0m\n\u001b[0;32m-> 1082\u001b[0;31m         \u001b[0mlast_unique\u001b[0m\u001b[0;34m,\u001b[0m \u001b[0mrecursion_repeat\u001b[0m \u001b[0;34m=\u001b[0m \u001b[0mfind_recursion\u001b[0m\u001b[0;34m(\u001b[0m\u001b[0morig_etype\u001b[0m\u001b[0;34m,\u001b[0m \u001b[0mevalue\u001b[0m\u001b[0;34m,\u001b[0m \u001b[0mrecords\u001b[0m\u001b[0;34m)\u001b[0m\u001b[0;34m\u001b[0m\u001b[0;34m\u001b[0m\u001b[0m\n\u001b[0m\u001b[1;32m   1083\u001b[0m \u001b[0;34m\u001b[0m\u001b[0m\n\u001b[1;32m   1084\u001b[0m         \u001b[0mframes\u001b[0m \u001b[0;34m=\u001b[0m \u001b[0mself\u001b[0m\u001b[0;34m.\u001b[0m\u001b[0mformat_records\u001b[0m\u001b[0;34m(\u001b[0m\u001b[0mrecords\u001b[0m\u001b[0;34m,\u001b[0m \u001b[0mlast_unique\u001b[0m\u001b[0;34m,\u001b[0m \u001b[0mrecursion_repeat\u001b[0m\u001b[0;34m)\u001b[0m\u001b[0;34m\u001b[0m\u001b[0;34m\u001b[0m\u001b[0m\n",
      "\u001b[0;32m~/opt/anaconda3/lib/python3.8/site-packages/IPython/core/ultratb.py\u001b[0m in \u001b[0;36mfind_recursion\u001b[0;34m(etype, value, records)\u001b[0m\n\u001b[1;32m    380\u001b[0m     \u001b[0;31m# first frame (from in to out) that looks different.\u001b[0m\u001b[0;34m\u001b[0m\u001b[0;34m\u001b[0m\u001b[0;34m\u001b[0m\u001b[0m\n\u001b[1;32m    381\u001b[0m     \u001b[0;32mif\u001b[0m \u001b[0;32mnot\u001b[0m \u001b[0mis_recursion_error\u001b[0m\u001b[0;34m(\u001b[0m\u001b[0metype\u001b[0m\u001b[0;34m,\u001b[0m \u001b[0mvalue\u001b[0m\u001b[0;34m,\u001b[0m \u001b[0mrecords\u001b[0m\u001b[0;34m)\u001b[0m\u001b[0;34m:\u001b[0m\u001b[0;34m\u001b[0m\u001b[0;34m\u001b[0m\u001b[0m\n\u001b[0;32m--> 382\u001b[0;31m         \u001b[0;32mreturn\u001b[0m \u001b[0mlen\u001b[0m\u001b[0;34m(\u001b[0m\u001b[0mrecords\u001b[0m\u001b[0;34m)\u001b[0m\u001b[0;34m,\u001b[0m \u001b[0;36m0\u001b[0m\u001b[0;34m\u001b[0m\u001b[0;34m\u001b[0m\u001b[0m\n\u001b[0m\u001b[1;32m    383\u001b[0m \u001b[0;34m\u001b[0m\u001b[0m\n\u001b[1;32m    384\u001b[0m     \u001b[0;31m# Select filename, lineno, func_name to track frames with\u001b[0m\u001b[0;34m\u001b[0m\u001b[0;34m\u001b[0m\u001b[0;34m\u001b[0m\u001b[0m\n",
      "\u001b[0;31mTypeError\u001b[0m: object of type 'NoneType' has no len()"
     ]
    }
   ],
   "source": [
    "import argparse\n",
    "\n",
    "parser = argparse.ArgumentParser(description='Process some integers.')\n",
    "parser.add_argument('integers', metavar='N', type=int, nargs='+',\n",
    "                    help='an integer for the accumulator')\n",
    "parser.add_argument('--sum', dest='accumulate', action='store_const',\n",
    "                    const=sum, default=max,\n",
    "                    help='sum the integers (default: find the max)')\n",
    "\n",
    "args = parser.parse_args()\n",
    "print(args.accumulate(args.integers))"
   ]
  },
  {
   "cell_type": "code",
   "execution_count": null,
   "metadata": {},
   "outputs": [],
   "source": []
  },
  {
   "cell_type": "code",
   "execution_count": null,
   "metadata": {},
   "outputs": [],
   "source": []
  },
  {
   "cell_type": "code",
   "execution_count": null,
   "metadata": {},
   "outputs": [],
   "source": []
  },
  {
   "cell_type": "code",
   "execution_count": null,
   "metadata": {},
   "outputs": [],
   "source": []
  }
 ],
 "metadata": {
  "kernelspec": {
   "display_name": "Python 3",
   "language": "python",
   "name": "python3"
  },
  "language_info": {
   "codemirror_mode": {
    "name": "ipython",
    "version": 3
   },
   "file_extension": ".py",
   "mimetype": "text/x-python",
   "name": "python",
   "nbconvert_exporter": "python",
   "pygments_lexer": "ipython3",
   "version": "3.8.3"
  }
 },
 "nbformat": 4,
 "nbformat_minor": 5
}
