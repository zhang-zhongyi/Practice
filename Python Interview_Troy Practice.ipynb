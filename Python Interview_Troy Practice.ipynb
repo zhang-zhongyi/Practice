{
 "cells": [
  {
   "cell_type": "markdown",
   "metadata": {},
   "source": [
    "# Python Interview\n",
    "#### Zhongyi Zhang\n",
    "#### E44780"
   ]
  },
  {
   "cell_type": "code",
   "execution_count": 1,
   "metadata": {},
   "outputs": [
    {
     "name": "stdout",
     "output_type": "stream",
     "text": [
      "This tag is balanced!\n"
     ]
    }
   ],
   "source": [
    "# read from the URL link:\n",
    "import urllib.request\n",
    "s = urllib.request.urlopen(\"https://tekeye.uk/html/hello-world.html\")\n",
    "\n",
    "# read to HTML format:\n",
    "page = s.read().decode('utf-8')\n",
    "\n",
    "# split into a list of strings with each line of the HTML code:\n",
    "l = [s.strip() for s in page.replace('\\r\\n','  ').split('  ') if s]\n",
    "\n",
    "# test if everything extracted correctly:\n",
    "# print(l)\n",
    "\n",
    "# test_tag function starts here:\n",
    "def test_tag(tag):\n",
    "\n",
    "    # test if \"<head> and </head>\", \"<body> and </body>\", and \"<ul> and </ul>\" matches with each other:\n",
    "    if tag == '<head>' or tag =='</head>':\n",
    "        if l.count('<head>') != l.count('</head>'):\n",
    "            return False\n",
    "    elif tag =='<body>' or tag =='</body>':\n",
    "        if l.count('<body>') != l.count('</body>'):\n",
    "            return False\n",
    "    elif tag =='<ul>' or tag =='</ul>':\n",
    "        if l.count('<ul>') != l.count('</ul>'):\n",
    "            return False\n",
    "       \n",
    "    # test if the number of angle quotes balanced and matched line by line:\n",
    "    elif tag == '<' or tag == '>':\n",
    "        for i in l:\n",
    "            if (i.count('<') + i.count('>'))%2 != 0:\n",
    "                return False\n",
    "            elif i[0]!='<' or i[-1]!='>':\n",
    "                return False\n",
    "           \n",
    "    # test any input tag with \"<meta\" or \"<img\": the same line string should end with \"/>\":\n",
    "    elif tag == '<meta' or tag == '<img' or tag == '/>':\n",
    "        new_list = [i for i in l if i[0:5] == \"<meta\" or i[0:4] == \"<img\" or i[-2::1] == '/>']\n",
    "        for i in new_list:\n",
    "            if ((i[0:5] == \"<meta\" or i[0:4] == \"<img\") and i[-2::1] != '/>') or (i[-2::1] == '/>' and (i[0:5] != \"<meta\" and i[0:4] != \"<img\")):\n",
    "                return False\n",
    "           \n",
    "    # test if input tag is \"<h1>\" or \"</h1>\", they usually should appear in the same line string:\n",
    "    elif tag == \"<h1>\" or tag == '</h1>':\n",
    "        new_list = [i for i in l if i[0:4] == \"<h1>\" or i[-5::1] == '</h1>']\n",
    "        for i in new_list:\n",
    "            if (i[0:4] == \"<h1>\" and i[-5::1] != '</h1>') or (i[-5::1] == \"</h1>\" and i[0:4] != \"<h1>\"):\n",
    "                return False\n",
    "           \n",
    "    # test if input tag is \"<p>\" or \"</p>\", they usually should appear in the same line string:\n",
    "    elif tag == \"<p>\" or tag == '</p>':\n",
    "        new_list = [i for i in l if i[0:3] == \"<p>\" or i[-4::1] == '</p>']\n",
    "        for i in new_list:\n",
    "            if (i[0:3] == \"<p>\" and i[-4::1] != '</p>') or (i[-4::1] == '</p>' and i[0:3] != \"<p>\"):\n",
    "                return False\n",
    "   \n",
    "    # test if input tag is \"<li>\" or \"</li>\", they usually should appear in the same line string:\n",
    "    elif tag == '<li>' or tag == '</li>':\n",
    "        new_list = [i for i in l if i[0:4] == \"<li>\" or i[-5::1] == '</li>']\n",
    "        for i in new_list:\n",
    "            if (i[0:4] == \"<li>\" and i[-5::1] != '</li>') or (i[-5::1] == '</li>' and i[0:4] != \"<li>\"):\n",
    "                return False\n",
    "           \n",
    "    # test if input tag starts with \"<html \", then the last term in this list of strings should end with “<html>”,\n",
    "    # which means an HTML file usually ends with <html>:\n",
    "    elif tag[0:5] == \"<html\" and l[-1] != '</html>':\n",
    "        return False\n",
    "   \n",
    "    # in all other cases, I can either return True or print(\"This tag is balanced!\")\n",
    "    # return True\n",
    "    print(\"This tag is balanced!\")\n",
    "\n",
    "# can test something else, here is just one example of </li>:\n",
    "input_tag = '</li>'\n",
    "test_tag(input_tag)"
   ]
  },
  {
   "cell_type": "code",
   "execution_count": 2,
   "metadata": {},
   "outputs": [
    {
     "name": "stdout",
     "output_type": "stream",
     "text": [
      "This tag is balanced!\n"
     ]
    }
   ],
   "source": [
    "# Another test case that my function works for \"<meta\"\n",
    "input_tag = '<meta'\n",
    "test_tag(input_tag)"
   ]
  },
  {
   "cell_type": "code",
   "execution_count": 13,
   "metadata": {},
   "outputs": [],
   "source": [
    "# To test if the HTML file is not balanced.\n",
    "# Here I will remove the open angle quote for a \"<p>\" to just \"p>\"\n",
    "l = ['<!DOCTYPE html>',\n",
    " '<html lang=\"en\">',\n",
    " '<head>',\n",
    " '<meta charset=\"utf-8\" />', # Here I removed a \"/\" for \"<meta\"\n",
    " '<title>Hello World!</title>',\n",
    " '</head',   # Here I removed a close angle quote\n",
    " '<body>',\n",
    " '<h1>This is Hello World in HTML</h1>',\n",
    " '<img src=\"images/earth-small.png\" alt=\"A small picture of the Earth.\"/>',\n",
    " '<p>Hello World!</p>',\n",
    " 'p>A.K.A:</p>',   # Here I remove the open angle quote\n",
    " '<ul>',\n",
    " '<li>Earth</li>',\n",
    " '<li>Terra</li>',\n",
    " '<li>Gaia</li>',\n",
    " '<li>Globe</li>',\n",
    " '</ul>',\n",
    " '</body>',\n",
    " '</html>']"
   ]
  },
  {
   "cell_type": "code",
   "execution_count": 14,
   "metadata": {},
   "outputs": [
    {
     "data": {
      "text/plain": [
       "False"
      ]
     },
     "execution_count": 14,
     "metadata": {},
     "output_type": "execute_result"
    }
   ],
   "source": [
    "# test with '>'\n",
    "input_tag = '<'\n",
    "test_tag(input_tag)"
   ]
  },
  {
   "cell_type": "code",
   "execution_count": 15,
   "metadata": {},
   "outputs": [
    {
     "data": {
      "text/plain": [
       "False"
      ]
     },
     "execution_count": 15,
     "metadata": {},
     "output_type": "execute_result"
    }
   ],
   "source": [
    "# test with '</p>'\n",
    "input_tag = '</p>'\n",
    "test_tag(input_tag)"
   ]
  },
  {
   "cell_type": "code",
   "execution_count": 16,
   "metadata": {},
   "outputs": [
    {
     "name": "stdout",
     "output_type": "stream",
     "text": [
      "This tag is balanced!\n"
     ]
    }
   ],
   "source": [
    "input_tag = '/>'\n",
    "test_tag(input_tag)"
   ]
  },
  {
   "cell_type": "markdown",
   "metadata": {},
   "source": [
    "### My function returns  False  successfully for these several cases if tags unbalanced."
   ]
  },
  {
   "cell_type": "code",
   "execution_count": null,
   "metadata": {},
   "outputs": [],
   "source": []
  }
 ],
 "metadata": {
  "kernelspec": {
   "display_name": "Python 3",
   "language": "python",
   "name": "python3"
  },
  "language_info": {
   "codemirror_mode": {
    "name": "ipython",
    "version": 3
   },
   "file_extension": ".py",
   "mimetype": "text/x-python",
   "name": "python",
   "nbconvert_exporter": "python",
   "pygments_lexer": "ipython3",
   "version": "3.8.3"
  }
 },
 "nbformat": 4,
 "nbformat_minor": 2
}
