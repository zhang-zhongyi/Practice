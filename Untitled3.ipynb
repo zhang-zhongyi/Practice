{
 "cells": [
  {
   "cell_type": "code",
   "execution_count": 14,
   "metadata": {},
   "outputs": [
    {
     "ename": "SyntaxError",
     "evalue": "Generator expression must be parenthesized (<ipython-input-14-e3e5761fdb82>, line 1)",
     "output_type": "error",
     "traceback": [
      "\u001b[1;36m  File \u001b[1;32m\"<ipython-input-14-e3e5761fdb82>\"\u001b[1;36m, line \u001b[1;32m1\u001b[0m\n\u001b[1;33m    print('keep',i,'Great!' for i in ['$GME','$AMC','$BB','$NOK','$Dogecoin'])\u001b[0m\n\u001b[1;37m                   ^\u001b[0m\n\u001b[1;31mSyntaxError\u001b[0m\u001b[1;31m:\u001b[0m Generator expression must be parenthesized\n"
     ]
    }
   ],
   "source": [
    "print('keep',i,'Great!' for i in ['$GME','$AMC','$BB','$NOK','$Dogecoin'])"
   ]
  },
  {
   "cell_type": "code",
   "execution_count": 8,
   "metadata": {},
   "outputs": [
    {
     "name": "stdout",
     "output_type": "stream",
     "text": [
      "keep $GME Great\n",
      "keep $AMC Great\n",
      "keep $BB Great\n",
      "keep $NOK Great\n",
      "keep $Dogecoin Great\n"
     ]
    }
   ],
   "source": [
    "('keep',i,'Great') for i in ['$GME','$AMC','$BB','$NOK','$Dogecoin']:\n",
    "    print('keep',i,'Great')"
   ]
  },
  {
   "cell_type": "code",
   "execution_count": 13,
   "metadata": {},
   "outputs": [
    {
     "name": "stdout",
     "output_type": "stream",
     "text": [
      "<generator object <genexpr> at 0x0000026370CDE580>\n"
     ]
    }
   ],
   "source": [
    "print(i for i in ['$GME','$AMC','$BB','$NOK','$Dogecoin'])"
   ]
  },
  {
   "cell_type": "code",
   "execution_count": 18,
   "metadata": {},
   "outputs": [
    {
     "data": {
      "text/plain": [
       "['Let $GME fly to the Mars this week!',\n",
       " 'Let $AMC fly to the Mars this week!',\n",
       " 'Let $BB fly to the Mars this week!',\n",
       " 'Let $NOK fly to the Mars this week!',\n",
       " 'Let $Dogecoin fly to the Mars this week!']"
      ]
     },
     "execution_count": 18,
     "metadata": {},
     "output_type": "execute_result"
    }
   ],
   "source": [
    "list(map(lambda x: 'Let '+x+' fly to the Mars this week!', ['$GME','$AMC','$BB','$NOK','$Dogecoin']))"
   ]
  },
  {
   "cell_type": "code",
   "execution_count": 30,
   "metadata": {},
   "outputs": [
    {
     "data": {
      "text/plain": [
       "['keep [1, 3, 5, 7] Great!']"
      ]
     },
     "execution_count": 30,
     "metadata": {},
     "output_type": "execute_result"
    }
   ],
   "source": [
    "['keep {} Great!'.format([i for i in [1,3,5,7]])]"
   ]
  },
  {
   "cell_type": "code",
   "execution_count": 28,
   "metadata": {},
   "outputs": [
    {
     "ename": "SyntaxError",
     "evalue": "invalid syntax (<ipython-input-28-8dbd264993f8>, line 1)",
     "output_type": "error",
     "traceback": [
      "\u001b[1;36m  File \u001b[1;32m\"<ipython-input-28-8dbd264993f8>\"\u001b[1;36m, line \u001b[1;32m1\u001b[0m\n\u001b[1;33m    ['keep',i for i in [1,3,5,7]]\u001b[0m\n\u001b[1;37m              ^\u001b[0m\n\u001b[1;31mSyntaxError\u001b[0m\u001b[1;31m:\u001b[0m invalid syntax\n"
     ]
    }
   ],
   "source": [
    "['keep',i for i in [1,3,5,7]]"
   ]
  },
  {
   "cell_type": "code",
   "execution_count": 29,
   "metadata": {},
   "outputs": [
    {
     "ename": "SyntaxError",
     "evalue": "invalid syntax (<ipython-input-29-4a8848f0b8ff>, line 1)",
     "output_type": "error",
     "traceback": [
      "\u001b[1;36m  File \u001b[1;32m\"<ipython-input-29-4a8848f0b8ff>\"\u001b[1;36m, line \u001b[1;32m1\u001b[0m\n\u001b[1;33m    ('keep',i,'Great') for i in ['$GME','$AMC','$BB','$NOK','$Dogecoin']\u001b[0m\n\u001b[1;37m                       ^\u001b[0m\n\u001b[1;31mSyntaxError\u001b[0m\u001b[1;31m:\u001b[0m invalid syntax\n"
     ]
    }
   ],
   "source": [
    "('keep',i,'Great') for i in ['$GME','$AMC','$BB','$NOK','$Dogecoin']"
   ]
  },
  {
   "cell_type": "code",
   "execution_count": null,
   "metadata": {},
   "outputs": [],
   "source": []
  }
 ],
 "metadata": {
  "kernelspec": {
   "display_name": "Python 3",
   "language": "python",
   "name": "python3"
  },
  "language_info": {
   "codemirror_mode": {
    "name": "ipython",
    "version": 3
   },
   "file_extension": ".py",
   "mimetype": "text/x-python",
   "name": "python",
   "nbconvert_exporter": "python",
   "pygments_lexer": "ipython3",
   "version": "3.8.3"
  }
 },
 "nbformat": 4,
 "nbformat_minor": 4
}
