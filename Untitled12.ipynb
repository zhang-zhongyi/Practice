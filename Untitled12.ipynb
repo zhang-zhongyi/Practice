{
 "cells": [
  {
   "cell_type": "code",
   "execution_count": 20,
   "metadata": {},
   "outputs": [
    {
     "name": "stdout",
     "output_type": "stream",
     "text": [
      "{'g', 'a', 'c', 'P', 'z'}\n"
     ]
    }
   ],
   "source": [
    "s = set('caPzg')\n",
    "print(s)"
   ]
  },
  {
   "cell_type": "code",
   "execution_count": 21,
   "metadata": {},
   "outputs": [
    {
     "name": "stdout",
     "output_type": "stream",
     "text": [
      "{'g', 'a', 'c', 'l', 'P', 'k', 'z'}\n"
     ]
    }
   ],
   "source": [
    "import random\n",
    "random.seed(135)\n",
    "s.add('k')\n",
    "s.add('l')\n",
    "print(s)"
   ]
  },
  {
   "cell_type": "code",
   "execution_count": 6,
   "metadata": {},
   "outputs": [
    {
     "data": {
      "text/plain": [
       "{'P', 'a', 'c', 'g', 'z'}"
      ]
     },
     "execution_count": 6,
     "metadata": {},
     "output_type": "execute_result"
    }
   ],
   "source": [
    "set('caPzg')"
   ]
  },
  {
   "cell_type": "code",
   "execution_count": 19,
   "metadata": {},
   "outputs": [
    {
     "data": {
      "text/plain": [
       "[[1, 5, 6]]"
      ]
     },
     "execution_count": 19,
     "metadata": {},
     "output_type": "execute_result"
    }
   ],
   "source": [
    "class Solution:\n",
    "    def combinationSum2(self, candidates: list, target: int):\n",
    "        ans = []\n",
    "        def dfs(n,cur):\n",
    "            if sum(cur) == target:\n",
    "                ans.append(cur.copy())\n",
    "            for i in range(n, len(candidates)):\n",
    "                if candidates[i]+sum(cur) <= target:\n",
    "                    cur.append(candidates[i])\n",
    "                    dfs(i+1, cur)\n",
    "                    cur.pop()\n",
    "        if sum(candidates) == target:\n",
    "            ans.append(candidates)\n",
    "            return ans\n",
    "        elif sum(candidates) < target:\n",
    "            return ans\n",
    "        else:\n",
    "            dfs(0,[])\n",
    "            return ([list(i) for i in {*[tuple(sorted(i)) for i in ans]}])  \n",
    "o = Solution()\n",
    "o.combinationSum2([1,5,6],12)"
   ]
  },
  {
   "cell_type": "code",
   "execution_count": 18,
   "metadata": {},
   "outputs": [
    {
     "name": "stdout",
     "output_type": "stream",
     "text": [
      "None\n"
     ]
    }
   ],
   "source": [
    "l = [].append([1,5,6])\n",
    "print(l)"
   ]
  },
  {
   "cell_type": "code",
   "execution_count": 23,
   "metadata": {},
   "outputs": [
    {
     "name": "stdout",
     "output_type": "stream",
     "text": [
      "[1, 5, 6]\n"
     ]
    }
   ],
   "source": [
    "l = [5,6,1]\n",
    "print(sorted(l))"
   ]
  },
  {
   "cell_type": "code",
   "execution_count": null,
   "metadata": {},
   "outputs": [],
   "source": []
  }
 ],
 "metadata": {
  "kernelspec": {
   "display_name": "Python 3",
   "language": "python",
   "name": "python3"
  },
  "language_info": {
   "codemirror_mode": {
    "name": "ipython",
    "version": 3
   },
   "file_extension": ".py",
   "mimetype": "text/x-python",
   "name": "python",
   "nbconvert_exporter": "python",
   "pygments_lexer": "ipython3",
   "version": "3.8.3"
  }
 },
 "nbformat": 4,
 "nbformat_minor": 4
}
