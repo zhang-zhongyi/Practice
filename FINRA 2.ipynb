{
 "cells": [
  {
   "cell_type": "code",
   "execution_count": 68,
   "metadata": {},
   "outputs": [],
   "source": [
    "file = open('lines.txt', 'r') \n",
    "line = file.readlines() "
   ]
  },
  {
   "cell_type": "code",
   "execution_count": 69,
   "metadata": {},
   "outputs": [
    {
     "data": {
      "text/plain": [
       "['8\\n',\n",
       " 'Leonardo DiCaprio,The Revenant\\n',\n",
       " 'Christian Bale,Vice\\n',\n",
       " 'Morgan Freeman,Shawshank Redemption\\n',\n",
       " 'Leonardo DiCaprio,The Great Gatsby\\n',\n",
       " 'Christian Bale,American Psycho\\n',\n",
       " 'Morgan Freeman,The Dark Knight\\n',\n",
       " 'Christian Bale,The Dark Knight\\n',\n",
       " 'Samuel L. Jackson,Pulp Fiction']"
      ]
     },
     "execution_count": 69,
     "metadata": {},
     "output_type": "execute_result"
    }
   ],
   "source": [
    "line"
   ]
  },
  {
   "cell_type": "code",
   "execution_count": 37,
   "metadata": {},
   "outputs": [
    {
     "name": "stdout",
     "output_type": "stream",
     "text": [
      "['Christian Bale', 'Leonardo DiCaprio', 'Morgan Freeman']\n"
     ]
    }
   ],
   "source": [
    "import pandas as pd\n",
    "df = pd.DataFrame([sub.split(\",\") for sub in lines[1:]],columns=['ACTOR_NAME','MOVIE_NAME'])\n",
    "def top3actors(dff):   \n",
    "    if dff['ACTOR_NAME'].nunique() <= 3:\n",
    "        print(sorted(dff.ACTOR_NAME.unique().tolist()))\n",
    "    else:print(sorted(df['ACTOR_NAME'].value_counts()[:3].index.tolist()))\n",
    "top3actors(df)"
   ]
  },
  {
   "cell_type": "code",
   "execution_count": null,
   "metadata": {},
   "outputs": [],
   "source": []
  },
  {
   "cell_type": "code",
   "execution_count": 38,
   "metadata": {},
   "outputs": [
    {
     "name": "stdout",
     "output_type": "stream",
     "text": [
      "          ACTOR_NAME              MOVIE_NAME\n",
      "0  Leonardo DiCaprio          The Revenant\\n\n",
      "1     Christian Bale                  Vice\\n\n",
      "2     Morgan Freeman  Shawshank Redemption\\n\n",
      "3  Leonardo DiCaprio      The Great Gatsby\\n\n",
      "4     Christian Bale       American Psycho\\n\n",
      "5     Morgan Freeman       The Dark Knight\\n\n",
      "6     Christian Bale       The Dark Knight\\n\n",
      "7  Samuel L. Jackson            Pulp Fiction\n"
     ]
    }
   ],
   "source": [
    "import pandas as pd\n",
    "\n",
    "df = pd.DataFrame([sub.split(\",\") for sub in lines[1:]],columns=['ACTOR_NAME','MOVIE_NAME'])\n",
    "print(df)"
   ]
  },
  {
   "cell_type": "code",
   "execution_count": 39,
   "metadata": {},
   "outputs": [
    {
     "data": {
      "text/plain": [
       "4"
      ]
     },
     "execution_count": 39,
     "metadata": {},
     "output_type": "execute_result"
    }
   ],
   "source": [
    "df['ACTOR_NAME'].nunique()"
   ]
  },
  {
   "cell_type": "code",
   "execution_count": 40,
   "metadata": {},
   "outputs": [
    {
     "data": {
      "text/plain": [
       "array(['Leonardo DiCaprio', 'Christian Bale', 'Morgan Freeman',\n",
       "       'Samuel L. Jackson'], dtype=object)"
      ]
     },
     "execution_count": 40,
     "metadata": {},
     "output_type": "execute_result"
    }
   ],
   "source": [
    "s=df['ACTOR_NAME'].unique()\n",
    "s"
   ]
  },
  {
   "cell_type": "code",
   "execution_count": 41,
   "metadata": {},
   "outputs": [
    {
     "data": {
      "text/plain": [
       "['Leonardo DiCaprio', 'Christian Bale', 'Morgan Freeman', 'Samuel L. Jackson']"
      ]
     },
     "execution_count": 41,
     "metadata": {},
     "output_type": "execute_result"
    }
   ],
   "source": [
    "df.ACTOR_NAME.unique().tolist()"
   ]
  },
  {
   "cell_type": "code",
   "execution_count": 42,
   "metadata": {},
   "outputs": [
    {
     "data": {
      "text/plain": [
       "['Christian Bale', 'Morgan Freeman', 'Leonardo DiCaprio']"
      ]
     },
     "execution_count": 42,
     "metadata": {},
     "output_type": "execute_result"
    }
   ],
   "source": [
    "df['ACTOR_NAME'].value_counts()[:3].index.tolist()"
   ]
  },
  {
   "cell_type": "code",
   "execution_count": 43,
   "metadata": {},
   "outputs": [],
   "source": [
    "def top3actor(dff):\n",
    "    if dff['ACTOR_NAME'].nunique() <= 3:\n",
    "        print(sorted(dff.ACTOR_NAME.unique().tolist()))\n",
    "    else:print(sorted(df['ACTOR_NAME'].value_counts()[:3].index.tolist()))"
   ]
  },
  {
   "cell_type": "code",
   "execution_count": 44,
   "metadata": {},
   "outputs": [
    {
     "name": "stdout",
     "output_type": "stream",
     "text": [
      "['Christian Bale', 'Leonardo DiCaprio', 'Morgan Freeman']\n"
     ]
    }
   ],
   "source": [
    "top3actor(df)"
   ]
  },
  {
   "cell_type": "code",
   "execution_count": 17,
   "metadata": {},
   "outputs": [
    {
     "data": {
      "text/plain": [
       "[1, 2, 2, 3]"
      ]
     },
     "execution_count": 17,
     "metadata": {},
     "output_type": "execute_result"
    }
   ],
   "source": [
    "sorted(df['ACTOR_NAME'].value_counts()[0:4])"
   ]
  },
  {
   "cell_type": "code",
   "execution_count": 14,
   "metadata": {},
   "outputs": [
    {
     "data": {
      "text/plain": [
       "Samuel L. Jackson    1\n",
       "Name: ACTOR_NAME, dtype: int64"
      ]
     },
     "execution_count": 14,
     "metadata": {},
     "output_type": "execute_result"
    }
   ],
   "source": [
    "df['ACTOR_NAME'].value_counts()[3:4]"
   ]
  },
  {
   "cell_type": "code",
   "execution_count": null,
   "metadata": {},
   "outputs": [],
   "source": [
    "# elif: \n",
    "#   for i in range(0:4)\n",
    "#   sorted(df['ACTOR_NAME'].value_counts()[2:3]) == sorted(df['ACTOR_NAME'].value_counts()[3:4]):\n",
    "#     print(sorted(df['ACTOR_NAME'].value_counts()[:4].index.tolist()))\n",
    "# else:print(sorted(df['ACTOR_NAME'].value_counts()[:3].index.tolist()))"
   ]
  },
  {
   "cell_type": "code",
   "execution_count": 45,
   "metadata": {},
   "outputs": [
    {
     "data": {
      "text/html": [
       "<div>\n",
       "<style scoped>\n",
       "    .dataframe tbody tr th:only-of-type {\n",
       "        vertical-align: middle;\n",
       "    }\n",
       "\n",
       "    .dataframe tbody tr th {\n",
       "        vertical-align: top;\n",
       "    }\n",
       "\n",
       "    .dataframe thead th {\n",
       "        text-align: right;\n",
       "    }\n",
       "</style>\n",
       "<table border=\"1\" class=\"dataframe\">\n",
       "  <thead>\n",
       "    <tr style=\"text-align: right;\">\n",
       "      <th></th>\n",
       "      <th>ACTOR_NAME</th>\n",
       "      <th>MOVIE_NAME</th>\n",
       "    </tr>\n",
       "  </thead>\n",
       "  <tbody>\n",
       "    <tr>\n",
       "      <th>0</th>\n",
       "      <td>Leonardo DiCaprio</td>\n",
       "      <td>The Revenant\\n</td>\n",
       "    </tr>\n",
       "    <tr>\n",
       "      <th>1</th>\n",
       "      <td>Christian Bale</td>\n",
       "      <td>Vice\\n</td>\n",
       "    </tr>\n",
       "    <tr>\n",
       "      <th>2</th>\n",
       "      <td>Morgan Freeman</td>\n",
       "      <td>Shawshank Redemption\\n</td>\n",
       "    </tr>\n",
       "    <tr>\n",
       "      <th>3</th>\n",
       "      <td>Leonardo DiCaprio</td>\n",
       "      <td>The Great Gatsby\\n</td>\n",
       "    </tr>\n",
       "    <tr>\n",
       "      <th>4</th>\n",
       "      <td>Christian Bale</td>\n",
       "      <td>American Psycho\\n</td>\n",
       "    </tr>\n",
       "    <tr>\n",
       "      <th>5</th>\n",
       "      <td>Morgan Freeman</td>\n",
       "      <td>The Dark Knight\\n</td>\n",
       "    </tr>\n",
       "    <tr>\n",
       "      <th>6</th>\n",
       "      <td>Christian Bale</td>\n",
       "      <td>The Dark Knight\\n</td>\n",
       "    </tr>\n",
       "    <tr>\n",
       "      <th>7</th>\n",
       "      <td>Samuel L. Jackson</td>\n",
       "      <td>Pulp Fiction</td>\n",
       "    </tr>\n",
       "  </tbody>\n",
       "</table>\n",
       "</div>"
      ],
      "text/plain": [
       "          ACTOR_NAME              MOVIE_NAME\n",
       "0  Leonardo DiCaprio          The Revenant\\n\n",
       "1     Christian Bale                  Vice\\n\n",
       "2     Morgan Freeman  Shawshank Redemption\\n\n",
       "3  Leonardo DiCaprio      The Great Gatsby\\n\n",
       "4     Christian Bale       American Psycho\\n\n",
       "5     Morgan Freeman       The Dark Knight\\n\n",
       "6     Christian Bale       The Dark Knight\\n\n",
       "7  Samuel L. Jackson            Pulp Fiction"
      ]
     },
     "execution_count": 45,
     "metadata": {},
     "output_type": "execute_result"
    }
   ],
   "source": [
    "df"
   ]
  },
  {
   "cell_type": "code",
   "execution_count": 46,
   "metadata": {},
   "outputs": [
    {
     "data": {
      "text/html": [
       "<div>\n",
       "<style scoped>\n",
       "    .dataframe tbody tr th:only-of-type {\n",
       "        vertical-align: middle;\n",
       "    }\n",
       "\n",
       "    .dataframe tbody tr th {\n",
       "        vertical-align: top;\n",
       "    }\n",
       "\n",
       "    .dataframe thead th {\n",
       "        text-align: right;\n",
       "    }\n",
       "</style>\n",
       "<table border=\"1\" class=\"dataframe\">\n",
       "  <thead>\n",
       "    <tr style=\"text-align: right;\">\n",
       "      <th></th>\n",
       "      <th>ACTOR_NAME</th>\n",
       "      <th>MOVIE_NAME</th>\n",
       "    </tr>\n",
       "  </thead>\n",
       "  <tbody>\n",
       "    <tr>\n",
       "      <th>0</th>\n",
       "      <td>Leonardo DiCaprio</td>\n",
       "      <td>The Revenant\\n</td>\n",
       "    </tr>\n",
       "    <tr>\n",
       "      <th>1</th>\n",
       "      <td>Christian Bale</td>\n",
       "      <td>Vice\\n</td>\n",
       "    </tr>\n",
       "    <tr>\n",
       "      <th>2</th>\n",
       "      <td>Morgan Freeman</td>\n",
       "      <td>Shawshank Redemption\\n</td>\n",
       "    </tr>\n",
       "    <tr>\n",
       "      <th>3</th>\n",
       "      <td>Leonardo DiCaprio</td>\n",
       "      <td>The Great Gatsby\\n</td>\n",
       "    </tr>\n",
       "    <tr>\n",
       "      <th>4</th>\n",
       "      <td>Christian Bale</td>\n",
       "      <td>American Psycho\\n</td>\n",
       "    </tr>\n",
       "    <tr>\n",
       "      <th>5</th>\n",
       "      <td>Morgan Freeman</td>\n",
       "      <td>The Dark Knight\\n</td>\n",
       "    </tr>\n",
       "    <tr>\n",
       "      <th>6</th>\n",
       "      <td>Christian Bale</td>\n",
       "      <td>The Dark Knight\\n</td>\n",
       "    </tr>\n",
       "    <tr>\n",
       "      <th>7</th>\n",
       "      <td>Samuel L. Jackson</td>\n",
       "      <td>Pulp Fiction</td>\n",
       "    </tr>\n",
       "  </tbody>\n",
       "</table>\n",
       "</div>"
      ],
      "text/plain": [
       "          ACTOR_NAME              MOVIE_NAME\n",
       "0  Leonardo DiCaprio          The Revenant\\n\n",
       "1     Christian Bale                  Vice\\n\n",
       "2     Morgan Freeman  Shawshank Redemption\\n\n",
       "3  Leonardo DiCaprio      The Great Gatsby\\n\n",
       "4     Christian Bale       American Psycho\\n\n",
       "5     Morgan Freeman       The Dark Knight\\n\n",
       "6     Christian Bale       The Dark Knight\\n\n",
       "7  Samuel L. Jackson            Pulp Fiction"
      ]
     },
     "execution_count": 46,
     "metadata": {},
     "output_type": "execute_result"
    }
   ],
   "source": [
    "dff=df.copy()\n",
    "dff"
   ]
  },
  {
   "cell_type": "code",
   "execution_count": 47,
   "metadata": {},
   "outputs": [
    {
     "data": {
      "text/html": [
       "<div>\n",
       "<style scoped>\n",
       "    .dataframe tbody tr th:only-of-type {\n",
       "        vertical-align: middle;\n",
       "    }\n",
       "\n",
       "    .dataframe tbody tr th {\n",
       "        vertical-align: top;\n",
       "    }\n",
       "\n",
       "    .dataframe thead th {\n",
       "        text-align: right;\n",
       "    }\n",
       "</style>\n",
       "<table border=\"1\" class=\"dataframe\">\n",
       "  <thead>\n",
       "    <tr style=\"text-align: right;\">\n",
       "      <th></th>\n",
       "      <th>MOVIE_NAME</th>\n",
       "    </tr>\n",
       "    <tr>\n",
       "      <th>ACTOR_NAME</th>\n",
       "      <th></th>\n",
       "    </tr>\n",
       "  </thead>\n",
       "  <tbody>\n",
       "    <tr>\n",
       "      <th>Christian Bale</th>\n",
       "      <td>3</td>\n",
       "    </tr>\n",
       "    <tr>\n",
       "      <th>Leonardo DiCaprio</th>\n",
       "      <td>2</td>\n",
       "    </tr>\n",
       "    <tr>\n",
       "      <th>Morgan Freeman</th>\n",
       "      <td>2</td>\n",
       "    </tr>\n",
       "    <tr>\n",
       "      <th>Samuel L. Jackson</th>\n",
       "      <td>1</td>\n",
       "    </tr>\n",
       "  </tbody>\n",
       "</table>\n",
       "</div>"
      ],
      "text/plain": [
       "                   MOVIE_NAME\n",
       "ACTOR_NAME                   \n",
       "Christian Bale              3\n",
       "Leonardo DiCaprio           2\n",
       "Morgan Freeman              2\n",
       "Samuel L. Jackson           1"
      ]
     },
     "execution_count": 47,
     "metadata": {},
     "output_type": "execute_result"
    }
   ],
   "source": [
    "dff=dff.groupby(\"ACTOR_NAME\").count()\n"
   ]
  },
  {
   "cell_type": "code",
   "execution_count": 49,
   "metadata": {},
   "outputs": [
    {
     "data": {
      "text/html": [
       "<div>\n",
       "<style scoped>\n",
       "    .dataframe tbody tr th:only-of-type {\n",
       "        vertical-align: middle;\n",
       "    }\n",
       "\n",
       "    .dataframe tbody tr th {\n",
       "        vertical-align: top;\n",
       "    }\n",
       "\n",
       "    .dataframe thead th {\n",
       "        text-align: right;\n",
       "    }\n",
       "</style>\n",
       "<table border=\"1\" class=\"dataframe\">\n",
       "  <thead>\n",
       "    <tr style=\"text-align: right;\">\n",
       "      <th></th>\n",
       "      <th>MOVIE_NAME</th>\n",
       "      <th>Rank</th>\n",
       "    </tr>\n",
       "    <tr>\n",
       "      <th>ACTOR_NAME</th>\n",
       "      <th></th>\n",
       "      <th></th>\n",
       "    </tr>\n",
       "  </thead>\n",
       "  <tbody>\n",
       "    <tr>\n",
       "      <th>Christian Bale</th>\n",
       "      <td>3</td>\n",
       "      <td>1.0</td>\n",
       "    </tr>\n",
       "    <tr>\n",
       "      <th>Leonardo DiCaprio</th>\n",
       "      <td>2</td>\n",
       "      <td>2.0</td>\n",
       "    </tr>\n",
       "    <tr>\n",
       "      <th>Morgan Freeman</th>\n",
       "      <td>2</td>\n",
       "      <td>2.0</td>\n",
       "    </tr>\n",
       "    <tr>\n",
       "      <th>Samuel L. Jackson</th>\n",
       "      <td>1</td>\n",
       "      <td>3.0</td>\n",
       "    </tr>\n",
       "  </tbody>\n",
       "</table>\n",
       "</div>"
      ],
      "text/plain": [
       "                   MOVIE_NAME  Rank\n",
       "ACTOR_NAME                         \n",
       "Christian Bale              3   1.0\n",
       "Leonardo DiCaprio           2   2.0\n",
       "Morgan Freeman              2   2.0\n",
       "Samuel L. Jackson           1   3.0"
      ]
     },
     "execution_count": 49,
     "metadata": {},
     "output_type": "execute_result"
    }
   ],
   "source": [
    "dff['Rank'] = dff['MOVIE_NAME'].rank(method='dense', ascending=False)\n",
    "dff"
   ]
  },
  {
   "cell_type": "code",
   "execution_count": 57,
   "metadata": {},
   "outputs": [],
   "source": [
    "dff['ACTOR_NAME']=dff.index"
   ]
  },
  {
   "cell_type": "code",
   "execution_count": 67,
   "metadata": {},
   "outputs": [
    {
     "data": {
      "text/plain": [
       "['Christian Bale', 'Leonardo DiCaprio', 'Morgan Freeman', 'Samuel L. Jackson']"
      ]
     },
     "execution_count": 67,
     "metadata": {},
     "output_type": "execute_result"
    }
   ],
   "source": [
    "sorted(dff.loc[dff['Rank'] <= 3.0, 'ACTOR_NAME'].tolist())"
   ]
  },
  {
   "cell_type": "code",
   "execution_count": null,
   "metadata": {},
   "outputs": [],
   "source": []
  },
  {
   "cell_type": "code",
   "execution_count": null,
   "metadata": {},
   "outputs": [],
   "source": []
  },
  {
   "cell_type": "code",
   "execution_count": 6,
   "metadata": {},
   "outputs": [],
   "source": [
    "file = open('lines.txt', 'r') \n",
    "line = file.readlines()"
   ]
  },
  {
   "cell_type": "code",
   "execution_count": 3,
   "metadata": {},
   "outputs": [
    {
     "name": "stdout",
     "output_type": "stream",
     "text": [
      "['Christian Bale', 'Leonardo DiCaprio', 'Morgan Freeman', 'Samuel L. Jackson']\n"
     ]
    }
   ],
   "source": [
    "import pandas as pd\n",
    "df = pd.DataFrame([sub.split(\",\") for sub in line[1:]],columns=['ACTOR_NAME','MOVIE_NAME'])\n",
    "  \n",
    "if df['ACTOR_NAME'].nunique() <= 3:\n",
    "    print(sorted(df.ACTOR_NAME.unique().tolist()))\n",
    "else:\n",
    "    df=df.groupby(\"ACTOR_NAME\").count()\n",
    "    df['Rank'] = df['MOVIE_NAME'].rank(method='dense', ascending=False)\n",
    "    df['ACTOR_NAME']=df.index\n",
    "    print(sorted(df.loc[df['Rank'] <= 3.0, 'ACTOR_NAME'].tolist()))"
   ]
  },
  {
   "cell_type": "code",
   "execution_count": 7,
   "metadata": {},
   "outputs": [],
   "source": [
    "import pandas as pd\n",
    "df = pd.DataFrame([sub.split(\",\") for sub in line[1:]],columns=['ACTOR_NAME','MOVIE_NAME'])"
   ]
  },
  {
   "cell_type": "code",
   "execution_count": 11,
   "metadata": {},
   "outputs": [
    {
     "data": {
      "text/plain": [
       "pandas.core.series.Series"
      ]
     },
     "execution_count": 11,
     "metadata": {},
     "output_type": "execute_result"
    }
   ],
   "source": [
    "type(df.iloc[:, 0])"
   ]
  },
  {
   "cell_type": "code",
   "execution_count": 12,
   "metadata": {},
   "outputs": [],
   "source": [
    "def top3(df):\n",
    "    if df.iloc[:, 0].nunique() <= 3:\n",
    "        print(sorted(df.iloc[:, 0].unique().tolist()))\n",
    "    else:\n",
    "        df=df.groupby(df.iloc[:, 0]).count()\n",
    "        df['Rank'] = df.iloc[:, 1].rank(method='dense', ascending=False)\n",
    "        df['column1']=df.index\n",
    "        print(sorted(df.loc[df['Rank'] <= 3.0, 'column1'].tolist()))"
   ]
  },
  {
   "cell_type": "code",
   "execution_count": 5,
   "metadata": {},
   "outputs": [],
   "source": [
    "file = open('lines.txt', 'r') \n",
    "line = file.readlines()\n",
    "import pandas as pd\n",
    "df = pd.DataFrame([sub.split(\",\") for sub in line[1:]])"
   ]
  },
  {
   "cell_type": "code",
   "execution_count": 6,
   "metadata": {},
   "outputs": [],
   "source": [
    "def top3(df):\n",
    "    if df.iloc[:, 0].nunique() <= 3:\n",
    "        print(sorted(df.iloc[:, 0].unique().tolist()))\n",
    "    else:\n",
    "        df=df.groupby(df.iloc[:, 0]).count()\n",
    "        df['Rank'] = df.iloc[:, 1].rank(method='dense', ascending=False)\n",
    "        df['column1']=df.index\n",
    "        print(sorted(df.loc[df['Rank'] <= 3.0, 'column1'].tolist()))"
   ]
  },
  {
   "cell_type": "code",
   "execution_count": 7,
   "metadata": {},
   "outputs": [
    {
     "name": "stdout",
     "output_type": "stream",
     "text": [
      "['Christian Bale', 'Leonardo DiCaprio', 'Morgan Freeman', 'Samuel L. Jackson']\n"
     ]
    }
   ],
   "source": [
    "top3(df)"
   ]
  },
  {
   "cell_type": "code",
   "execution_count": null,
   "metadata": {},
   "outputs": [],
   "source": []
  },
  {
   "cell_type": "code",
   "execution_count": null,
   "metadata": {},
   "outputs": [],
   "source": []
  },
  {
   "cell_type": "code",
   "execution_count": null,
   "metadata": {},
   "outputs": [],
   "source": []
  }
 ],
 "metadata": {
  "kernelspec": {
   "display_name": "Python 3",
   "language": "python",
   "name": "python3"
  },
  "language_info": {
   "codemirror_mode": {
    "name": "ipython",
    "version": 3
   },
   "file_extension": ".py",
   "mimetype": "text/x-python",
   "name": "python",
   "nbconvert_exporter": "python",
   "pygments_lexer": "ipython3",
   "version": "3.8.5"
  }
 },
 "nbformat": 4,
 "nbformat_minor": 4
}
