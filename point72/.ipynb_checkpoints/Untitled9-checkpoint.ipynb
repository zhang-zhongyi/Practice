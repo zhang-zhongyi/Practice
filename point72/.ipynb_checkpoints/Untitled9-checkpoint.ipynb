{
 "cells": [
  {
   "cell_type": "code",
   "execution_count": null,
   "metadata": {},
   "outputs": [],
   "source": []
  },
  {
   "cell_type": "code",
   "execution_count": 1,
   "metadata": {},
   "outputs": [],
   "source": [
    "# DFA Implementation in Python\n",
    "\n",
    "# 5-tuple collection\n",
    "states = []\n",
    "alphabets = []\n",
    "start_state = \"\"\n",
    "accept_states = []\n",
    "transition = {}\n",
    "\n",
    "# Input which the DFA will accept/reject\n",
    "input_string = \"\""
   ]
  },
  {
   "cell_type": "code",
   "execution_count": 2,
   "metadata": {},
   "outputs": [
    {
     "name": "stdout",
     "output_type": "stream",
     "text": [
      "Enter the automaton states separated by space: a\n",
      "Enter the automaton alphabets separated by space: a\n",
      "Enter the start state of the automaton: a\n",
      "Enter the accepting states of the automaton separated by space: a\n",
      "Enter the next states for the following (enter . for dead/reject state)\n",
      "\t  a\n",
      "a\t---->\ta\n"
     ]
    }
   ],
   "source": [
    "# The states and input alphabest will be represented as a list of strings\n",
    "print(\"Enter the automaton states separated by space: \", end=\"\")\n",
    "states = input().split()\n",
    "\n",
    "print(\"Enter the automaton alphabets separated by space: \", end=\"\")\n",
    "alphabets = input().split()\n",
    "\n",
    "# Start and accepted states\n",
    "print(\"Enter the start state of the automaton: \", end=\"\")\n",
    "start_state = input()\n",
    "\n",
    "print(\"Enter the accepting states of the automaton separated by space: \", end=\"\")\n",
    "accept_states = input().split()\n",
    "\n",
    "# Transition function is a dictionary where\n",
    "#   key = (current_state, input)\n",
    "#   value = next_state  (None for rejected states)\n",
    "print(\"Enter the next states for the following (enter . for dead/reject state)\")\n",
    "for state in states:\n",
    "    for alpha in alphabets:\n",
    "        print(f\"\\t  {alpha}\")\n",
    "        print(f\"{state}\\t---->\\t\", end=\"\")\n",
    "        dest = input()\n",
    "        \n",
    "        # Rejected states are represented as None in the dictionary\n",
    "        if dest == \".\":\n",
    "            transition[(state, alpha)] = None\n",
    "        else:\n",
    "            transition[(state, alpha)] = dest\n",
    "            \n",
    "\n",
    "print(\"Enter the input string to run the automaton: \", end=\"\")\n",
    "input_string = input()\n",
    "\n",
    "# Start parsing the input string with the current state as start state\n",
    "current_state = start_state\n",
    "\n",
    "for char in input_string:\n",
    "    # Transition to the next state using the current state and input alphabet\n",
    "    current_state = transition[(current_state, char)]\n",
    "    \n",
    "    # Check whether the DFA goes into a dead/rejected state\n",
    "    if current_state is None:\n",
    "        print(\"Rejected\")\n",
    "        break\n",
    "else:\n",
    "    # When entire string is parsed, check whether the final state is an accepted state\n",
    "    if (current_state in accept_states):\n",
    "        print(\"Accepted\")\n",
    "    else:\n",
    "        print(\"Rejected\")"
   ]
  },
  {
   "cell_type": "code",
   "execution_count": null,
   "metadata": {},
   "outputs": [],
   "source": []
  },
  {
   "cell_type": "markdown",
   "metadata": {},
   "source": [
    "# Question 1"
   ]
  },
  {
   "attachments": {
    "dfa.png": {
     "image/png": "[encoded data removed]"
    }
   },
   "cell_type": "markdown",
   "metadata": {},
   "source": [
    "![dfa.png](attachment:dfa.png)"
   ]
  },
  {
   "cell_type": "code",
   "execution_count": 3,
   "metadata": {},
   "outputs": [],
   "source": [
    "dfa = {1:{'a':1, 'b':2},\n",
    "       2:{'a':2, 'b':3},\n",
    "       3:{'a':3, 'b':1}}"
   ]
  },
  {
   "cell_type": "code",
   "execution_count": 2,
   "metadata": {},
   "outputs": [
    {
     "name": "stdout",
     "output_type": "stream",
     "text": [
      "accept\n"
     ]
    }
   ],
   "source": [
    "def accepts(s):\n",
    "    dfa = {1:{'a':1, 'b':2},\n",
    "           2:{'a':2, 'b':3},\n",
    "           3:{'a':3, 'b':1}}\n",
    "    state = 1\n",
    "    for c in s:\n",
    "        state = dfa[state][c]\n",
    "    if state in {3}:\n",
    "        print(\"accept\")\n",
    "    else:\n",
    "        print(\"reject\")\n",
    "\n",
    "accepts('abab')"
   ]
  },
  {
   "cell_type": "code",
   "execution_count": null,
   "metadata": {},
   "outputs": [],
   "source": [
    "# Enter your code here. Read input from STDIN. Print output to STDOUT\n",
    "def tester(s):\n",
    "    # first I need to create the deterministic finite automaton into a hashtable/dictionary\n",
    "    if not s:\n",
    "        print(\"reject\")\n",
    "    dfa = {\n",
    "            1:{'a':1, 'b':2},\n",
    "            2:{'a':2, 'b':3},\n",
    "            3:{'a':3, 'b':1}\n",
    "           }\n",
    "    state = 1 # set initial state\n",
    "    for c in s: # move to the next state according to its value\n",
    "        if c not in [\"a\", \"b\"]:\n",
    "            break\n",
    "        state = dfa[state][c]\n",
    "\n",
    "    if state in {3}: # if state finished at the final state\n",
    "        print(\"accept\")\n",
    "    else:\n",
    "        print(\"reject\")\n",
    "\n",
    "import sys\n",
    "data = sys.stdin.readlines()\n",
    "for i in data:\n",
    "    s = i\n",
    "s = str(s).rstrip()\n",
    "tester(s)"
   ]
  },
  {
   "cell_type": "markdown",
   "metadata": {},
   "source": [
    "# question 2"
   ]
  },
  {
   "cell_type": "code",
   "execution_count": 74,
   "metadata": {},
   "outputs": [
    {
     "name": "stdout",
     "output_type": "stream",
     "text": [
      "{2.99: 6200, 5.95: 7000, 9.99: 345, 10.99: 6970, 12.5: 515}\n",
      "defaultdict(<class 'float'>, {2.99: 6200, 5.95: 13200, 9.99: 13545, 10.99: 20515, 12.5: 21030})\n",
      "10.99\n"
     ]
    }
   ],
   "source": [
    "d = {1099:6970,299:6200,999:345,1250:515,595:7000}\n",
    "d = {k/100:v for k, v in d.items()}\n",
    "d = {k:v for k,v in sorted(d.items(), key = lambda item: item[0])}\n",
    "print(d)\n",
    "from collections import defaultdict\n",
    "\n",
    "# d = defaultdict(float, d)\n",
    "d2 = defaultdict(float)\n",
    "accumulated_quantity = 0\n",
    "for k, v in d.items():\n",
    "    accumulated_quantity += v\n",
    "    d2[k] = accumulated_quantity\n",
    "    \n",
    "print(d2)\n",
    "percentile = 0.8 * list(d2.values())[-1]\n",
    "\n",
    "index = 0\n",
    "for i in range(len(d2.items())):\n",
    "    if percentile < [[k,v] for k,v in d2.items()][i][1]:\n",
    "        print([[k,v] for k,v in d2.items()][i][0])\n",
    "        break"
   ]
  },
  {
   "cell_type": "code",
   "execution_count": 101,
   "metadata": {},
   "outputs": [
    {
     "name": "stdout",
     "output_type": "stream",
     "text": [
      "10.99\n"
     ]
    }
   ],
   "source": [
    "def func(l):\n",
    "    d = {}\n",
    "    for k,v in l:\n",
    "        if k not in d.keys():\n",
    "            d.update({k:v})\n",
    "        else:\n",
    "            d[k] += v\n",
    "    d = {k/100:v for k, v in d.items()}\n",
    "    d = {k:v for k,v in sorted(d.items(), key = lambda item: item[0])}\n",
    "    \n",
    "    from collections import defaultdict\n",
    "    d2 = defaultdict(float)\n",
    "    accumulated_quantity = 0\n",
    "    for k, v in d.items():\n",
    "        accumulated_quantity += v\n",
    "        d2[k] = accumulated_quantity\n",
    "\n",
    "    percentile = 0.8 * list(d2.values())[-1]\n",
    "\n",
    "    index = 0\n",
    "    for i in range(len(d2.items())):\n",
    "        if percentile < [[k,v] for k,v in d2.items()][i][1]:\n",
    "            print([[k,v] for k,v in d2.items()][i][0])\n",
    "            break\n",
    "\n",
    "# d = {1099.0:6970.0,299.0:6200.0,999.0:345.0,1250.0:515.0,595.0:7000.0}\n",
    "l = [[1099.0,6970.0],[299.0,6200.0],[999.0,345.0],[1250.0,515.0],[595.0,7000.0]]\n",
    "data = [line.rstrip().split(',') for line in sys.stdin.readlines()]\n",
    "[[float(k),float(v)] for k,v in data]\n",
    "func(l)\n",
    "# type([i for i in d.keys()][0])"
   ]
  },
  {
   "cell_type": "code",
   "execution_count": 100,
   "metadata": {},
   "outputs": [
    {
     "data": {
      "text/plain": [
       "{1099.0: 11470.0, 299.0: 6200.0, 999.0: 345.0, 1250.0: 515.0}"
      ]
     },
     "execution_count": 100,
     "metadata": {},
     "output_type": "execute_result"
    }
   ],
   "source": [
    "l = [[1099.0, 6970.0], [299.0, 6200.0], [999.0, 345.0], [1250.0, 515.0], [1099.0, 4500.0]]\n",
    "d = {}\n",
    "for k,v in l:\n",
    "    if k not in d.keys():\n",
    "        d.update({k:v})\n",
    "    else:\n",
    "        d[k] += v\n",
    "d"
   ]
  },
  {
   "cell_type": "code",
   "execution_count": 66,
   "metadata": {},
   "outputs": [
    {
     "data": {
      "text/plain": [
       "defaultdict(list, {5.95: [], 9.99: [], 12.5: []})"
      ]
     },
     "execution_count": 66,
     "metadata": {},
     "output_type": "execute_result"
    }
   ],
   "source": [
    "d = {999:345,1250:515,595:7000}\n",
    "d = {k/100:v for k, v in d.items()}\n",
    "d = {k:v for k,v in sorted(d.items(), key = lambda item: item[0])}\n",
    "\n",
    "from collections import defaultdict\n",
    "\n",
    "d2 = defaultdict(list)\n",
    "for k, v in d.items():\n",
    "    sum = 0.0\n",
    "    v2 = []\n",
    "#     for x in v:\n",
    "#         sum += x\n",
    "#         v2.append(sum)\n",
    "    d2[k] = v2\n",
    "d2"
   ]
  },
  {
   "cell_type": "code",
   "execution_count": null,
   "metadata": {},
   "outputs": [],
   "source": []
  },
  {
   "cell_type": "code",
   "execution_count": null,
   "metadata": {},
   "outputs": [],
   "source": []
  },
  {
   "cell_type": "code",
   "execution_count": 48,
   "metadata": {},
   "outputs": [
    {
     "name": "stdout",
     "output_type": "stream",
     "text": [
      "50\n",
      "0.0\n",
      "0.0\n"
     ]
    }
   ],
   "source": [
    "from collections import defaultdict\n",
    "d = defaultdict(float) ## inside parenthesis we say what should be the default value.\n",
    "d['Apple']=50\n",
    "d['Orange']=20\n",
    "print(d['Apple'])\n",
    "print(d['Grapes']) ##→ This gives Will not give error\n",
    "print(d['Banana'])"
   ]
  },
  {
   "cell_type": "code",
   "execution_count": null,
   "metadata": {},
   "outputs": [],
   "source": []
  },
  {
   "cell_type": "code",
   "execution_count": null,
   "metadata": {},
   "outputs": [],
   "source": []
  },
  {
   "cell_type": "markdown",
   "metadata": {},
   "source": [
    "# Question 3"
   ]
  },
  {
   "cell_type": "code",
   "execution_count": 27,
   "metadata": {},
   "outputs": [
    {
     "name": "stdout",
     "output_type": "stream",
     "text": [
      "3\n",
      "6\n",
      "9\n",
      "4\n",
      "4\n",
      "5\n",
      "5\n",
      "2\n",
      "2\n",
      "2\n",
      "7\n",
      "7\n",
      "7\n",
      "0\n",
      "0\n",
      "0\n",
      "0\n",
      "0\n",
      "0\n",
      "0\n"
     ]
    }
   ],
   "source": [
    "def frequencySort(l):\n",
    "    import collections\n",
    "    x = collections.Counter(l)\n",
    "    y = {k: v for k, v in sorted(x.items(), key=lambda item: [item[1], item[0]])}\n",
    "    \n",
    "    ans_list = []\n",
    "    \n",
    "    for key in y:\n",
    "        for i in range(y[key]):\n",
    "            ans_list.append(key)\n",
    "            \n",
    "    for i in ans_list:\n",
    "        print(i)\n",
    "\n",
    "data = [int(i) for i in sys.stdin.readlines()][1:]\n",
    "nums = [0,0,7,9,4,5,0,2,0,0,2,6,5,2,7,4,0,7,0,3]\n",
    "frequencySort(nums)"
   ]
  },
  {
   "cell_type": "code",
   "execution_count": 8,
   "metadata": {},
   "outputs": [
    {
     "name": "stdout",
     "output_type": "stream",
     "text": [
      "x:  Counter({4: 2, 5: 2, 6: 1, 3: 1})\n",
      "y:  {3: 1, 6: 1, 4: 2, 5: 2}\n",
      "3\n",
      "6\n",
      "4\n",
      "5\n"
     ]
    }
   ],
   "source": [
    "import collections\n",
    "l = [4,5,6,5,4,3]\n",
    "x = collections.Counter(l)\n",
    "print('x: ', x)\n",
    "y = {k: v for k, v in sorted(x.items(), key=lambda item: [item[1], item[0]])}\n",
    "print('y: ', y)\n",
    "\n",
    "final_list = []\n",
    "    \n",
    "for key in y:\n",
    "    print(key)\n",
    "    for i in range(y[key]):\n",
    "        final_list.append(key)\n",
    "        \n",
    "        \n",
    "        \n",
    "# for i in final_list:\n",
    "#     print(i)"
   ]
  },
  {
   "cell_type": "code",
   "execution_count": null,
   "metadata": {},
   "outputs": [],
   "source": []
  },
  {
   "cell_type": "code",
   "execution_count": null,
   "metadata": {},
   "outputs": [],
   "source": []
  },
  {
   "cell_type": "code",
   "execution_count": null,
   "metadata": {},
   "outputs": [],
   "source": []
  },
  {
   "cell_type": "code",
   "execution_count": null,
   "metadata": {},
   "outputs": [],
   "source": []
  },
  {
   "cell_type": "code",
   "execution_count": 17,
   "metadata": {},
   "outputs": [
    {
     "name": "stdout",
     "output_type": "stream",
     "text": [
      "[]\n"
     ]
    }
   ],
   "source": [
    "import sys\n",
    "userInput = sys.stdin.readlines()\n",
    "print(userInput)"
   ]
  },
  {
   "cell_type": "code",
   "execution_count": null,
   "metadata": {},
   "outputs": [],
   "source": [
    "data = [int(i) for i in sys.stdin.readlines()][1:]"
   ]
  },
  {
   "cell_type": "code",
   "execution_count": 18,
   "metadata": {},
   "outputs": [],
   "source": [
    "data = [line.rstrip().split() for line in sys.stdin.readlines()]"
   ]
  },
  {
   "cell_type": "code",
   "execution_count": 19,
   "metadata": {},
   "outputs": [],
   "source": [
    "data = [[int(x) for x in row] for row in data][1:]"
   ]
  },
  {
   "cell_type": "code",
   "execution_count": 23,
   "metadata": {},
   "outputs": [
    {
     "name": "stdout",
     "output_type": "stream",
     "text": [
      "['this', 'is', 'string', 'example....wow!!!']\n",
      "     this is string example....wow!!!     \n"
     ]
    }
   ],
   "source": [
    "str = \"     this is string example....wow!!!     \"\n",
    "print(str.rstrip().split())\n",
    "print(str)"
   ]
  },
  {
   "cell_type": "code",
   "execution_count": null,
   "metadata": {},
   "outputs": [],
   "source": []
  },
  {
   "cell_type": "code",
   "execution_count": 79,
   "metadata": {},
   "outputs": [
    {
     "data": {
      "text/plain": [
       "{}"
      ]
     },
     "execution_count": 79,
     "metadata": {},
     "output_type": "execute_result"
    }
   ],
   "source": [
    "data = [line.rstrip().split(',') for line in sys.stdin.readlines()]\n",
    "{float(k):float(v) for k,v in data}"
   ]
  },
  {
   "cell_type": "code",
   "execution_count": null,
   "metadata": {},
   "outputs": [],
   "source": []
  },
  {
   "cell_type": "code",
   "execution_count": 15,
   "metadata": {},
   "outputs": [
    {
     "name": "stdout",
     "output_type": "stream",
     "text": [
      "[]\n"
     ]
    }
   ],
   "source": [
    "import sys\n",
    "\n",
    "lines = sys.stdin.read().splitlines()\n",
    "\n",
    "print(lines)"
   ]
  },
  {
   "cell_type": "code",
   "execution_count": 7,
   "metadata": {},
   "outputs": [
    {
     "ename": "NameError",
     "evalue": "name 'raw_input' is not defined",
     "output_type": "error",
     "traceback": [
      "\u001b[1;31m---------------------------------------------------------------------------\u001b[0m",
      "\u001b[1;31mNameError\u001b[0m                                 Traceback (most recent call last)",
      "\u001b[1;32m<ipython-input-7-478bfb6b79af>\u001b[0m in \u001b[0;36m<module>\u001b[1;34m\u001b[0m\n\u001b[0;32m     32\u001b[0m \u001b[1;33m\u001b[0m\u001b[0m\n\u001b[0;32m     33\u001b[0m \u001b[1;33m\u001b[0m\u001b[0m\n\u001b[1;32m---> 34\u001b[1;33m \u001b[0mmain\u001b[0m\u001b[1;33m(\u001b[0m\u001b[1;33m)\u001b[0m\u001b[1;33m\u001b[0m\u001b[1;33m\u001b[0m\u001b[0m\n\u001b[0m",
      "\u001b[1;32m<ipython-input-7-478bfb6b79af>\u001b[0m in \u001b[0;36mmain\u001b[1;34m()\u001b[0m\n\u001b[0;32m      3\u001b[0m \u001b[1;32mdef\u001b[0m \u001b[0mmain\u001b[0m\u001b[1;33m(\u001b[0m\u001b[1;33m)\u001b[0m\u001b[1;33m:\u001b[0m\u001b[1;33m\u001b[0m\u001b[1;33m\u001b[0m\u001b[0m\n\u001b[0;32m      4\u001b[0m     \u001b[0mtransition\u001b[0m \u001b[1;33m=\u001b[0m \u001b[1;33m[\u001b[0m\u001b[1;33m[\u001b[0m\u001b[1;33m[\u001b[0m\u001b[1;36m0\u001b[0m\u001b[1;33m,\u001b[0m\u001b[1;36m1\u001b[0m\u001b[1;33m]\u001b[0m\u001b[1;33m,\u001b[0m\u001b[1;33m[\u001b[0m\u001b[1;36m0\u001b[0m\u001b[1;33m]\u001b[0m\u001b[1;33m]\u001b[0m\u001b[1;33m,\u001b[0m \u001b[1;33m[\u001b[0m\u001b[1;33m[\u001b[0m\u001b[1;36m4\u001b[0m\u001b[1;33m]\u001b[0m\u001b[1;33m,\u001b[0m\u001b[1;33m[\u001b[0m\u001b[1;36m2\u001b[0m\u001b[1;33m]\u001b[0m\u001b[1;33m]\u001b[0m\u001b[1;33m,\u001b[0m \u001b[1;33m[\u001b[0m\u001b[1;33m[\u001b[0m\u001b[1;36m4\u001b[0m\u001b[1;33m]\u001b[0m\u001b[1;33m,\u001b[0m\u001b[1;33m[\u001b[0m\u001b[1;36m3\u001b[0m\u001b[1;33m]\u001b[0m\u001b[1;33m]\u001b[0m\u001b[1;33m,\u001b[0m \u001b[1;33m[\u001b[0m\u001b[1;33m[\u001b[0m\u001b[1;36m4\u001b[0m\u001b[1;33m]\u001b[0m\u001b[1;33m,\u001b[0m\u001b[1;33m[\u001b[0m\u001b[1;36m4\u001b[0m\u001b[1;33m]\u001b[0m\u001b[1;33m]\u001b[0m\u001b[1;33m]\u001b[0m\u001b[1;33m\u001b[0m\u001b[1;33m\u001b[0m\u001b[0m\n\u001b[1;32m----> 5\u001b[1;33m     \u001b[0minput\u001b[0m \u001b[1;33m=\u001b[0m \u001b[0mraw_input\u001b[0m\u001b[1;33m(\u001b[0m\u001b[1;34m\"enter the string: \"\u001b[0m\u001b[1;33m)\u001b[0m\u001b[1;33m\u001b[0m\u001b[1;33m\u001b[0m\u001b[0m\n\u001b[0m\u001b[0;32m      6\u001b[0m     \u001b[0minput\u001b[0m \u001b[1;33m=\u001b[0m \u001b[0mlist\u001b[0m\u001b[1;33m(\u001b[0m\u001b[0minput\u001b[0m\u001b[1;33m)\u001b[0m \u001b[1;31m#copy the input in list because python strings are immutable and thus can't be changed directly\u001b[0m\u001b[1;33m\u001b[0m\u001b[1;33m\u001b[0m\u001b[0m\n\u001b[0;32m      7\u001b[0m     \u001b[1;32mfor\u001b[0m \u001b[0mindex\u001b[0m \u001b[1;32min\u001b[0m \u001b[0mrange\u001b[0m\u001b[1;33m(\u001b[0m\u001b[0mlen\u001b[0m\u001b[1;33m(\u001b[0m\u001b[0minput\u001b[0m\u001b[1;33m)\u001b[0m\u001b[1;33m)\u001b[0m\u001b[1;33m:\u001b[0m \u001b[1;31m#parse the string of a,b in 0,1 for simplicity\u001b[0m\u001b[1;33m\u001b[0m\u001b[1;33m\u001b[0m\u001b[0m\n",
      "\u001b[1;31mNameError\u001b[0m: name 'raw_input' is not defined"
     ]
    }
   ],
   "source": [
    "import sys\n",
    "\n",
    "def main():\n",
    "    transition = [[[0,1],[0]], [[4],[2]], [[4],[3]], [[4],[4]]]\n",
    "    input = raw_input(\"enter the string: \")\n",
    "    input = list(input) #copy the input in list because python strings are immutable and thus can't be changed directly\n",
    "    for index in range(len(input)): #parse the string of a,b in 0,1 for simplicity\n",
    "        if input[index]=='a':\n",
    "            input[index]='0' \n",
    "        else:\n",
    "            input[index]='1'\n",
    "\n",
    "    final = \"3\" #set of final states = {3}\n",
    "    start = 0\n",
    "    i=0  #counter to remember the number of symbols read\n",
    "\n",
    "    trans(transition, input, final, start, i)\n",
    "    print(\"rejected\")\n",
    "\n",
    "\n",
    "\n",
    "def trans(transition, input, final, state, i):\n",
    "    for j in range(len(input)):\n",
    "        for each in transition[state][int(input[j])]: #check for each possibility\n",
    "            if each < 4:                              #move further only if you are at non-hypothetical state\n",
    "                state = each\n",
    "                if j == len(input)-1 and (str(state) in final): #last symbol is read and current state lies in the set of final states\n",
    "                    print(\"accepted\")\n",
    "                    sys.exit()\n",
    "                trans(transition, input[i+1:], final, state, i) #input string for next transition is input[i+1:]\n",
    "        i = i+1 #increment the counter\n",
    "\n",
    "\n",
    "main()"
   ]
  },
  {
   "cell_type": "code",
   "execution_count": null,
   "metadata": {},
   "outputs": [],
   "source": []
  },
  {
   "cell_type": "code",
   "execution_count": 4,
   "metadata": {},
   "outputs": [
    {
     "name": "stdout",
     "output_type": "stream",
     "text": [
      "            15\n"
     ]
    }
   ],
   "source": [
    "n = int(input().strip())"
   ]
  },
  {
   "cell_type": "code",
   "execution_count": 5,
   "metadata": {},
   "outputs": [
    {
     "data": {
      "text/plain": [
       "4"
      ]
     },
     "execution_count": 5,
     "metadata": {},
     "output_type": "execute_result"
    }
   ],
   "source": [
    "4%5"
   ]
  },
  {
   "cell_type": "code",
   "execution_count": 7,
   "metadata": {},
   "outputs": [
    {
     "name": "stdout",
     "output_type": "stream",
     "text": [
      "1\n",
      "2\n",
      "Fizz\n",
      "4\n",
      "Buzz\n",
      "Fizz\n",
      "7\n",
      "8\n",
      "Fizz\n",
      "Buzz\n",
      "11\n",
      "Fizz\n",
      "13\n",
      "14\n",
      "FizzBuzz\n"
     ]
    }
   ],
   "source": [
    "def fizzBuzz(n):\n",
    "    # Write your code here\n",
    "    for i in range(1,n+1):\n",
    "        if i % 3 == 0 and i%5 != 0:\n",
    "            print(\"Fizz\")\n",
    "        elif i %5 ==0 and i%3 !=0:\n",
    "            print(\"Buzz\")\n",
    "        elif i % 3 == 0 and i%5 == 0:\n",
    "            print(\"FizzBuzz\")\n",
    "        else: print(i)\n",
    "fizzBuzz(15)"
   ]
  },
  {
   "cell_type": "code",
   "execution_count": 11,
   "metadata": {},
   "outputs": [
    {
     "data": {
      "text/plain": [
       "array(['M', 'I', 'N', 'D', 'M', 'A', 'J', 'I', 'X'], dtype='<U1')"
      ]
     },
     "execution_count": 11,
     "metadata": {},
     "output_type": "execute_result"
    }
   ],
   "source": [
    "import pandas as pd\n",
    "import numpy as np\n",
    "\n",
    "data = np.array(['M','I','N','D','M','A','J','I','X'])\n",
    "data"
   ]
  },
  {
   "cell_type": "code",
   "execution_count": 12,
   "metadata": {},
   "outputs": [
    {
     "data": {
      "text/plain": [
       "0    M\n",
       "1    I\n",
       "2    N\n",
       "3    D\n",
       "4    M\n",
       "5    A\n",
       "6    J\n",
       "7    I\n",
       "8    X\n",
       "dtype: object"
      ]
     },
     "execution_count": 12,
     "metadata": {},
     "output_type": "execute_result"
    }
   ],
   "source": [
    "ser = pd.Series(data)\n",
    "ser"
   ]
  },
  {
   "cell_type": "code",
   "execution_count": 14,
   "metadata": {},
   "outputs": [
    {
     "data": {
      "text/plain": [
       "array([ 1.  ,  3.25,  5.5 ,  7.75, 10.  ])"
      ]
     },
     "execution_count": 14,
     "metadata": {},
     "output_type": "execute_result"
    }
   ],
   "source": [
    "np.linspace(1,10,5)"
   ]
  },
  {
   "cell_type": "code",
   "execution_count": null,
   "metadata": {},
   "outputs": [],
   "source": []
  },
  {
   "cell_type": "code",
   "execution_count": 15,
   "metadata": {},
   "outputs": [
    {
     "data": {
      "text/plain": [
       "array([[[0.2860058 , 0.26681128, 0.70351586],\n",
       "        [0.67462914, 0.15482332, 0.17759678]],\n",
       "\n",
       "       [[0.24770027, 0.03871178, 0.29496457],\n",
       "        [0.92242789, 0.19438147, 0.52695215]],\n",
       "\n",
       "       [[0.48764856, 0.3889542 , 0.15381668],\n",
       "        [0.80542898, 0.43052957, 0.76378388]],\n",
       "\n",
       "       [[0.93720761, 0.56504297, 0.17880077],\n",
       "        [0.79677351, 0.07504099, 0.67819654]]])"
      ]
     },
     "execution_count": 15,
     "metadata": {},
     "output_type": "execute_result"
    }
   ],
   "source": [
    "import numpy as np\n",
    "n = np.random.rand(4,2,3)\n",
    "n"
   ]
  },
  {
   "cell_type": "code",
   "execution_count": 22,
   "metadata": {},
   "outputs": [
    {
     "data": {
      "text/plain": [
       "array([[0.3889542 , 0.43052957],\n",
       "       [0.56504297, 0.07504099]])"
      ]
     },
     "execution_count": 22,
     "metadata": {},
     "output_type": "execute_result"
    }
   ],
   "source": [
    "n[2:4,:,1]"
   ]
  },
  {
   "cell_type": "code",
   "execution_count": 23,
   "metadata": {},
   "outputs": [
    {
     "data": {
      "text/plain": [
       "0.07504098924415092"
      ]
     },
     "execution_count": 23,
     "metadata": {},
     "output_type": "execute_result"
    }
   ],
   "source": [
    "n[3,1,1]"
   ]
  },
  {
   "cell_type": "code",
   "execution_count": 28,
   "metadata": {},
   "outputs": [
    {
     "data": {
      "text/plain": [
       "array([[4, 3, 0, 3],\n",
       "       [0, 3, 0, 4],\n",
       "       [4, 1, 1, 1]])"
      ]
     },
     "execution_count": 28,
     "metadata": {},
     "output_type": "execute_result"
    }
   ],
   "source": [
    "np.random.randint(5, size = (3,4))"
   ]
  },
  {
   "cell_type": "code",
   "execution_count": null,
   "metadata": {},
   "outputs": [],
   "source": []
  },
  {
   "cell_type": "code",
   "execution_count": null,
   "metadata": {},
   "outputs": [],
   "source": []
  },
  {
   "cell_type": "code",
   "execution_count": null,
   "metadata": {},
   "outputs": [],
   "source": []
  },
  {
   "cell_type": "code",
   "execution_count": null,
   "metadata": {},
   "outputs": [],
   "source": []
  },
  {
   "cell_type": "code",
   "execution_count": null,
   "metadata": {},
   "outputs": [],
   "source": []
  },
  {
   "cell_type": "code",
   "execution_count": null,
   "metadata": {},
   "outputs": [],
   "source": []
  },
  {
   "cell_type": "code",
   "execution_count": null,
   "metadata": {},
   "outputs": [],
   "source": []
  },
  {
   "cell_type": "code",
   "execution_count": null,
   "metadata": {},
   "outputs": [],
   "source": []
  },
  {
   "cell_type": "code",
   "execution_count": null,
   "metadata": {},
   "outputs": [],
   "source": []
  },
  {
   "cell_type": "code",
   "execution_count": null,
   "metadata": {},
   "outputs": [],
   "source": []
  },
  {
   "cell_type": "code",
   "execution_count": null,
   "metadata": {},
   "outputs": [],
   "source": []
  },
  {
   "cell_type": "code",
   "execution_count": null,
   "metadata": {},
   "outputs": [],
   "source": []
  },
  {
   "cell_type": "code",
   "execution_count": null,
   "metadata": {},
   "outputs": [],
   "source": []
  },
  {
   "cell_type": "code",
   "execution_count": 2,
   "metadata": {
    "scrolled": true
   },
   "outputs": [
    {
     "name": "stdout",
     "output_type": "stream",
     "text": [
      "[5, 10, 10, 8, 9, 1]\n"
     ]
    }
   ],
   "source": [
    "quantity = [5,10,10,8,9,1,6]\n",
    "quantity = quantity[:len(quantity)-1]\n",
    "print(quantity)"
   ]
  },
  {
   "cell_type": "code",
   "execution_count": null,
   "metadata": {},
   "outputs": [],
   "source": [
    "sorted_quantity = sorted(quantity, reverse = True)[:m]\n",
    "return sum(sorted_quantity)"
   ]
  },
  {
   "cell_type": "code",
   "execution_count": 10,
   "metadata": {},
   "outputs": [
    {
     "data": {
      "text/plain": [
       "55"
      ]
     },
     "execution_count": 10,
     "metadata": {},
     "output_type": "execute_result"
    }
   ],
   "source": [
    "def getMaximumAmount(quantity, m):\n",
    "    real = quantity[1:]\n",
    "    rev = 0\n",
    "    for i in range(m):\n",
    "        maxx = max(real)\n",
    "        ind = real.index(maxx)\n",
    "        rev += maxx\n",
    "        real[ind] -= 1\n",
    "    return rev\n",
    "\n",
    "getMaximumAmount([5,10,10,8,9,1],6)"
   ]
  },
  {
   "cell_type": "code",
   "execution_count": null,
   "metadata": {},
   "outputs": [],
   "source": []
  },
  {
   "cell_type": "code",
   "execution_count": null,
   "metadata": {},
   "outputs": [],
   "source": [
    "# Enter your code here. Read input from STDIN. Print output to STDOUT\n",
    "def tester(s):\n",
    "    if not s:\n",
    "        print(\"reject\")\n",
    "    \n",
    "    # first I need to create the deterministic finite automaton into a hashtable/dictionary\n",
    "    dfa = {\n",
    "            1:{'a':1, 'b':2},\n",
    "            2:{'a':2, 'b':3},\n",
    "            3:{'a':3, 'b':1}\n",
    "           }\n",
    "    \n",
    "    state = 1 # set initial state\n",
    "    for c in s: # move to the next state according to its value\n",
    "        if c not in [\"a\", \"b\"]:\n",
    "            break\n",
    "        state = dfa[state][c]\n",
    "\n",
    "    if state in {3}: # if state finished at the final state\n",
    "        print(\"accept\")\n",
    "    else:\n",
    "        print(\"reject\")\n",
    "\n",
    "import sys\n",
    "data = sys.stdin.readlines()\n",
    "for i in data:\n",
    "    s = i\n",
    "s = str(s).rstrip()\n",
    "tester(s)"
   ]
  },
  {
   "cell_type": "code",
   "execution_count": null,
   "metadata": {},
   "outputs": [],
   "source": [
    "#!/bin/python3\n",
    "\n",
    "import math\n",
    "import os\n",
    "import random\n",
    "import re\n",
    "import sys\n",
    "\n",
    "\n",
    "\n",
    "#\n",
    "# Complete the 'itemsSort' function below.\n",
    "#\n",
    "# The function is expected to return an INTEGER_ARRAY.\n",
    "# The function accepts INTEGER_ARRAY items as parameter.\n",
    "#\n",
    "\n",
    "def itemsSort(items):\n",
    "    # Write your code here\n",
    "    import collections\n",
    "    x = collections.Counter(items)\n",
    "    # change list to dictionary/hashtable to record occurrance frequency\n",
    "    # sort the dictionary by frequency first then by numbers themselves\n",
    "    y = {k: v for k, v in sorted(x.items(), key=lambda item: [item[1], item[0]])}\n",
    "    \n",
    "    ans_list = []\n",
    "    \n",
    "    # create a list and add numbers in the order of above\n",
    "    for key in y:\n",
    "        for i in range(y[key]):\n",
    "            ans_list.append(key)\n",
    "    \n",
    "    for i in ans_list:\n",
    "        print(i)\n",
    "\n",
    "import sys\n",
    "# I don't need the first value since it is the total number of elements\n",
    "data = [int(i) for i in sys.stdin.readlines()][1:] \n",
    "itemsSort(data)\n",
    "\n",
    "# if __name__ == '__main__':\n",
    "#     fptr = open(os.environ['OUTPUT_PATH'], 'w')\n",
    "\n",
    "#     items_count = int(input().strip())\n",
    "\n",
    "#     items = []\n",
    "\n",
    "#     for _ in range(items_count):\n",
    "#         items_item = int(input().strip())\n",
    "#         items.append(items_item)\n",
    "\n",
    "#     result = itemsSort(items)\n",
    "\n",
    "#     fptr.write('\\n'.join(map(str, result)))\n",
    "#     fptr.write('\\n')\n",
    "\n",
    "#     fptr.close()\n"
   ]
  },
  {
   "cell_type": "code",
   "execution_count": null,
   "metadata": {},
   "outputs": [],
   "source": [
    "#!/bin/python3\n",
    "\n",
    "import math\n",
    "import os\n",
    "import random\n",
    "import re\n",
    "import sys\n",
    "\n",
    "\n",
    "\n",
    "#\n",
    "# Complete the 'itemsSort' function below.\n",
    "#\n",
    "# The function is expected to return an INTEGER_ARRAY.\n",
    "# The function accepts INTEGER_ARRAY items as parameter.\n",
    "#\n",
    "\n",
    "def itemsSort(items):\n",
    "    # Write your code here\n",
    "    import collections\n",
    "    x = collections.Counter(items)\n",
    "    # change list to dictionary/hashtable to record occurrance frequency\n",
    "    # sort the dictionary by frequency first then by numbers\n",
    "    y = {k: v for k, v in sorted(x.items(), key=lambda item: [item[1], item[0]])}\n",
    "    \n",
    "    ans_list = []\n",
    "    \n",
    "    # create a list and add numbers in the order of above\n",
    "    for key in y:\n",
    "        for i in range(y[key]):\n",
    "            ans_list.append(key)\n",
    "    \n",
    "    for i in ans_list:\n",
    "        print(i)\n",
    "\n",
    "import sys\n",
    "# I don't need the first value since it is the number of elements\n",
    "data = [int(i) for i in sys.stdin.readlines()][1:] \n",
    "itemsSort(data)\n",
    "\n",
    "# if __name__ == '__main__':\n",
    "#     fptr = open(os.environ['OUTPUT_PATH'], 'w')\n",
    "\n",
    "#     items_count = int(input().strip())\n",
    "\n",
    "#     items = []\n",
    "\n",
    "#     for _ in range(items_count):\n",
    "#         items_item = int(input().strip())\n",
    "#         items.append(items_item)\n",
    "\n",
    "#     result = itemsSort(items)\n",
    "\n",
    "#     fptr.write('\\n'.join(map(str, result)))\n",
    "#     fptr.write('\\n')\n",
    "\n",
    "#     fptr.close()\n"
   ]
  },
  {
   "cell_type": "code",
   "execution_count": 3,
   "metadata": {},
   "outputs": [
    {
     "ename": "IndexError",
     "evalue": "list index out of range",
     "output_type": "error",
     "traceback": [
      "\u001b[1;31m---------------------------------------------------------------------------\u001b[0m",
      "\u001b[1;31mIndexError\u001b[0m                                Traceback (most recent call last)",
      "\u001b[1;32m<ipython-input-3-ade9db4bb8ed>\u001b[0m in \u001b[0;36m<module>\u001b[1;34m\u001b[0m\n\u001b[0;32m     37\u001b[0m \u001b[0mdata\u001b[0m \u001b[1;33m=\u001b[0m \u001b[1;33m[\u001b[0m\u001b[0mline\u001b[0m\u001b[1;33m.\u001b[0m\u001b[0mrstrip\u001b[0m\u001b[1;33m(\u001b[0m\u001b[1;33m)\u001b[0m\u001b[1;33m.\u001b[0m\u001b[0msplit\u001b[0m\u001b[1;33m(\u001b[0m\u001b[1;34m','\u001b[0m\u001b[1;33m)\u001b[0m \u001b[1;32mfor\u001b[0m \u001b[0mline\u001b[0m \u001b[1;32min\u001b[0m \u001b[0msys\u001b[0m\u001b[1;33m.\u001b[0m\u001b[0mstdin\u001b[0m\u001b[1;33m.\u001b[0m\u001b[0mreadlines\u001b[0m\u001b[1;33m(\u001b[0m\u001b[1;33m)\u001b[0m\u001b[1;33m]\u001b[0m\u001b[1;33m\u001b[0m\u001b[1;33m\u001b[0m\u001b[0m\n\u001b[0;32m     38\u001b[0m \u001b[0minput_data\u001b[0m \u001b[1;33m=\u001b[0m \u001b[1;33m[\u001b[0m\u001b[1;33m[\u001b[0m\u001b[0mfloat\u001b[0m\u001b[1;33m(\u001b[0m\u001b[0mk\u001b[0m\u001b[1;33m)\u001b[0m\u001b[1;33m,\u001b[0m\u001b[0mfloat\u001b[0m\u001b[1;33m(\u001b[0m\u001b[0mv\u001b[0m\u001b[1;33m)\u001b[0m\u001b[1;33m]\u001b[0m \u001b[1;32mfor\u001b[0m \u001b[0mk\u001b[0m\u001b[1;33m,\u001b[0m\u001b[0mv\u001b[0m \u001b[1;32min\u001b[0m \u001b[0mdata\u001b[0m\u001b[1;33m]\u001b[0m\u001b[1;33m\u001b[0m\u001b[1;33m\u001b[0m\u001b[0m\n\u001b[1;32m---> 39\u001b[1;33m \u001b[0mfind_percentile\u001b[0m\u001b[1;33m(\u001b[0m\u001b[0minput_data\u001b[0m\u001b[1;33m)\u001b[0m\u001b[1;33m\u001b[0m\u001b[1;33m\u001b[0m\u001b[0m\n\u001b[0m",
      "\u001b[1;32m<ipython-input-3-ade9db4bb8ed>\u001b[0m in \u001b[0;36mfind_percentile\u001b[1;34m(l)\u001b[0m\n\u001b[0;32m     23\u001b[0m     \u001b[1;31m# my new default dictionary d2 is already the dictionary with accumulated number of transactions of all previous prices in ascending order\u001b[0m\u001b[1;33m\u001b[0m\u001b[1;33m\u001b[0m\u001b[1;33m\u001b[0m\u001b[0m\n\u001b[0;32m     24\u001b[0m     \u001b[1;31m# So just take the last item's value and multiple 0.8 to get the 80th percentile of all orders\u001b[0m\u001b[1;33m\u001b[0m\u001b[1;33m\u001b[0m\u001b[1;33m\u001b[0m\u001b[0m\n\u001b[1;32m---> 25\u001b[1;33m     \u001b[0mpercentile\u001b[0m \u001b[1;33m=\u001b[0m \u001b[1;36m0.8\u001b[0m \u001b[1;33m*\u001b[0m \u001b[0mlist\u001b[0m\u001b[1;33m(\u001b[0m\u001b[0md2\u001b[0m\u001b[1;33m.\u001b[0m\u001b[0mvalues\u001b[0m\u001b[1;33m(\u001b[0m\u001b[1;33m)\u001b[0m\u001b[1;33m)\u001b[0m\u001b[1;33m[\u001b[0m\u001b[1;33m-\u001b[0m\u001b[1;36m1\u001b[0m\u001b[1;33m]\u001b[0m\u001b[1;33m\u001b[0m\u001b[1;33m\u001b[0m\u001b[0m\n\u001b[0m\u001b[0;32m     26\u001b[0m \u001b[1;33m\u001b[0m\u001b[0m\n\u001b[0;32m     27\u001b[0m     \u001b[1;31m# loop the accumulated number of transactions from the lowest price\u001b[0m\u001b[1;33m\u001b[0m\u001b[1;33m\u001b[0m\u001b[1;33m\u001b[0m\u001b[0m\n",
      "\u001b[1;31mIndexError\u001b[0m: list index out of range"
     ]
    }
   ],
   "source": [
    "# Enter your code here. Read input from STDIN. Print output to STDOUT\n",
    "def find_percentile(l:list):\n",
    "    d = {}\n",
    "    # if there are transactions in different lines but with same price\n",
    "    # I will sum up the number of transactions in the dictionary if same price:\n",
    "    for k,v in l:\n",
    "        if k not in d.keys():\n",
    "            d.update({k:v})\n",
    "        else:\n",
    "            d[k] += v\n",
    "    \n",
    "    d = {k/100:v for k, v in d.items()} # price divided by 100\n",
    "    d = {k:v for k,v in sorted(d.items(), key = lambda item: item[0])} # sort dictionary by price\n",
    "    \n",
    "    # create a default dictionary with accumulated sum of transactions with price in ascending order\n",
    "    from collections import defaultdict\n",
    "    d2 = defaultdict(float)\n",
    "    accumulated_quantity = 0\n",
    "    for k, v in d.items():\n",
    "        accumulated_quantity += v\n",
    "        d2[k] = accumulated_quantity\n",
    "    \n",
    "    # my new default dictionary d2 is already the dictionary with accumulated number of transactions of all previous prices in ascending order\n",
    "    # So just take the last item's value and multiple 0.8 to get the 80th percentile of all orders\n",
    "    percentile = 0.8 * list(d2.values())[-1]\n",
    "    \n",
    "    # loop the accumulated number of transactions from the lowest price\n",
    "    # as long as the percentile value smaller than or equal to the number of transactions, record the price value and break the loop\n",
    "    for i in range(len(d2.items())):\n",
    "        if percentile <= [[k,v] for k,v in d2.items()][i][1]:\n",
    "            ans = int([[k,v] for k,v in d2.items()][i][0] * 100) # multiply 100 since I divided by 100 at the beginning and convert to integer data type\n",
    "            break\n",
    "    \n",
    "    print(ans)\n",
    "    \n",
    "import sys\n",
    "data = [line.rstrip().split(',') for line in sys.stdin.readlines()]\n",
    "input_data = [[float(k),float(v)] for k,v in data]\n",
    "find_percentile(input_data)"
   ]
  },
  {
   "cell_type": "code",
   "execution_count": null,
   "metadata": {},
   "outputs": [],
   "source": []
  },
  {
   "cell_type": "code",
   "execution_count": null,
   "metadata": {},
   "outputs": [],
   "source": []
  }
 ],
 "metadata": {
  "kernelspec": {
   "display_name": "Python 3",
   "language": "python",
   "name": "python3"
  },
  "language_info": {
   "codemirror_mode": {
    "name": "ipython",
    "version": 3
   },
   "file_extension": ".py",
   "mimetype": "text/x-python",
   "name": "python",
   "nbconvert_exporter": "python",
   "pygments_lexer": "ipython3",
   "version": "3.8.3"
  }
 },
 "nbformat": 4,
 "nbformat_minor": 4
}
