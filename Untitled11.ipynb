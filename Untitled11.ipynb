{
 "cells": [
  {
   "cell_type": "code",
   "execution_count": 59,
   "metadata": {},
   "outputs": [
    {
     "name": "stdout",
     "output_type": "stream",
     "text": [
      "['[1', ' 2', ' [312]', ' [23', ' [236]', ' [32', ' 1', ' [6', ' 5]', ' [7]', ' [9', ' [89]', ' 6]]', ' [7', ' [8]', ' 65]', ' 43]', ' 31]']\n",
      "['1', '2', '312', '23', '236', '32', '1', '6', '5', '7', '9', '89', '6', '7', '8', '65', '43', '31']\n",
      "[1, 2, 312, 23, 236, 32, 1, 6, 5, 7, 9, 89, 6, 7, 8, 65, 43, 31]\n"
     ]
    }
   ],
   "source": [
    "l = [1,2,[312],[23,[236],[32,1,[6,5],[7],[9,[89],6]],[7,[8],65],43],31]\n",
    "newl = [i for i in str(l).split(',')]\n",
    "print(newl)\n",
    "newnewl = []\n",
    "for i in newl:\n",
    "    i = i.replace(\"[\",\"\").replace(\"]\",\"\").replace(\" \",\"\")\n",
    "    newnewl.append(i)\n",
    "print(newnewl)\n",
    "ans = []\n",
    "for i in newnewl:\n",
    "    i = int(i)\n",
    "    ans.append(i)\n",
    "print(ans)"
   ]
  },
  {
   "cell_type": "code",
   "execution_count": 18,
   "metadata": {},
   "outputs": [
    {
     "name": "stdout",
     "output_type": "stream",
     "text": [
      "num\n",
      "letter\n",
      "what\n"
     ]
    }
   ],
   "source": [
    "l = [3,'abc','[]']\n",
    "for i in l:\n",
    "    i=str(i)\n",
    "    if i.isnumeric():\n",
    "        print('num')\n",
    "    elif i.isalpha():\n",
    "        print('letter')\n",
    "    else:\n",
    "        print('what')"
   ]
  },
  {
   "cell_type": "code",
   "execution_count": 41,
   "metadata": {},
   "outputs": [
    {
     "data": {
      "text/plain": [
       "'abcd'"
      ]
     },
     "execution_count": 41,
     "metadata": {},
     "output_type": "execute_result"
    }
   ],
   "source": [
    "s = 'abcd'\n",
    "s.replace('ad','')"
   ]
  },
  {
   "cell_type": "code",
   "execution_count": 61,
   "metadata": {},
   "outputs": [
    {
     "data": {
      "text/plain": [
       "False"
      ]
     },
     "execution_count": 61,
     "metadata": {},
     "output_type": "execute_result"
    }
   ],
   "source": [
    "a= [2,3,4]\n",
    "bool(12 in a)"
   ]
  },
  {
   "cell_type": "code",
   "execution_count": null,
   "metadata": {},
   "outputs": [],
   "source": []
  },
  {
   "cell_type": "code",
   "execution_count": null,
   "metadata": {},
   "outputs": [],
   "source": []
  }
 ],
 "metadata": {
  "kernelspec": {
   "display_name": "Python 3",
   "language": "python",
   "name": "python3"
  },
  "language_info": {
   "codemirror_mode": {
    "name": "ipython",
    "version": 3
   },
   "file_extension": ".py",
   "mimetype": "text/x-python",
   "name": "python",
   "nbconvert_exporter": "python",
   "pygments_lexer": "ipython3",
   "version": "3.8.3"
  }
 },
 "nbformat": 4,
 "nbformat_minor": 4
}
