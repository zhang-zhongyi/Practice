{
 "cells": [
  {
   "cell_type": "code",
   "execution_count": null,
   "metadata": {},
   "outputs": [],
   "source": []
  },
  {
   "cell_type": "code",
   "execution_count": 13,
   "metadata": {},
   "outputs": [],
   "source": [
    "pieces = [\"rook\",\"queen\",\"bishop\"]\n",
    "positions = [[1,2],[5,4],[2,3]]\n",
    "\"\"\"\n",
    ":type pieces: List[str]\n",
    ":type positions: List[List[int]]\n",
    ":rtype: int\n",
    "\"\"\"\n",
    "\n",
    "dx = {}\n",
    "dy = {}\n",
    "\n",
    "dx[0] = [1, 0, -1, 0]\n",
    "dy[0] = [0, -1, 0, 1]\n",
    "\n",
    "dx[1] = [1, 1, 0, -1, -1, -1, 0, 1]\n",
    "dy[1] = [0, -1, -1, -1, 0, 1, 1, 1]\n",
    "\n",
    "dx[2] = [1, -1, -1, 1]\n",
    "dy[2] = [-1, -1, 1, 1]\n",
    "\n",
    "final_target = []\n",
    "n = len(pieces)\n",
    "\n",
    "for index in range(n):\n",
    "    final_target.append([])\n",
    "    final_target[-1].append(positions[index])\n",
    "    if pieces[index] == \"rook\":\n",
    "        type = 0\n",
    "    elif pieces[index] == \"queen\":\n",
    "        type = 1\n",
    "    else:\n",
    "        type = 2\n",
    "\n",
    "    for d in range(len(dx[type])):\n",
    "        nowx, nowy = positions[index]\n",
    "        while True:\n",
    "            nowx += dx[type][d]\n",
    "            nowy += dy[type][d]\n",
    "            if nowx == 0 or nowy == 0 or nowx == 9 or nowy == 9:\n",
    "                break\n",
    "            final_target[-1].append([nowx, nowy])\n",
    "\n"
   ]
  },
  {
   "cell_type": "code",
   "execution_count": 14,
   "metadata": {},
   "outputs": [
    {
     "name": "stdout",
     "output_type": "stream",
     "text": [
      "[[[1, 2], [2, 2], [3, 2], [4, 2], [5, 2], [6, 2], [7, 2], [8, 2], [1, 1], [1, 3], [1, 4], [1, 5], [1, 6], [1, 7], [1, 8]], [[5, 4], [6, 4], [7, 4], [8, 4], [6, 3], [7, 2], [8, 1], [5, 3], [5, 2], [5, 1], [4, 3], [3, 2], [2, 1], [4, 4], [3, 4], [2, 4], [1, 4], [4, 5], [3, 6], [2, 7], [1, 8], [5, 5], [5, 6], [5, 7], [5, 8], [6, 5], [7, 6], [8, 7]], [[2, 3], [3, 2], [4, 1], [1, 2], [1, 4], [3, 4], [4, 5], [5, 6], [6, 7], [7, 8]]]\n"
     ]
    }
   ],
   "source": [
    "print(final_target)"
   ]
  },
  {
   "cell_type": "code",
   "execution_count": 15,
   "metadata": {},
   "outputs": [
    {
     "data": {
      "text/plain": [
       "[[[1, 2],\n",
       "  [2, 2],\n",
       "  [3, 2],\n",
       "  [4, 2],\n",
       "  [5, 2],\n",
       "  [6, 2],\n",
       "  [7, 2],\n",
       "  [8, 2],\n",
       "  [1, 1],\n",
       "  [1, 3],\n",
       "  [1, 4],\n",
       "  [1, 5],\n",
       "  [1, 6],\n",
       "  [1, 7],\n",
       "  [1, 8]],\n",
       " [[5, 4],\n",
       "  [6, 4],\n",
       "  [7, 4],\n",
       "  [8, 4],\n",
       "  [6, 3],\n",
       "  [7, 2],\n",
       "  [8, 1],\n",
       "  [5, 3],\n",
       "  [5, 2],\n",
       "  [5, 1],\n",
       "  [4, 3],\n",
       "  [3, 2],\n",
       "  [2, 1],\n",
       "  [4, 4],\n",
       "  [3, 4],\n",
       "  [2, 4],\n",
       "  [1, 4],\n",
       "  [4, 5],\n",
       "  [3, 6],\n",
       "  [2, 7],\n",
       "  [1, 8],\n",
       "  [5, 5],\n",
       "  [5, 6],\n",
       "  [5, 7],\n",
       "  [5, 8],\n",
       "  [6, 5],\n",
       "  [7, 6],\n",
       "  [8, 7]],\n",
       " [[2, 3],\n",
       "  [3, 2],\n",
       "  [4, 1],\n",
       "  [1, 2],\n",
       "  [1, 4],\n",
       "  [3, 4],\n",
       "  [4, 5],\n",
       "  [5, 6],\n",
       "  [6, 7],\n",
       "  [7, 8]]]"
      ]
     },
     "execution_count": 15,
     "metadata": {},
     "output_type": "execute_result"
    }
   ],
   "source": [
    "final_target"
   ]
  },
  {
   "cell_type": "code",
   "execution_count": null,
   "metadata": {},
   "outputs": [],
   "source": []
  },
  {
   "cell_type": "code",
   "execution_count": null,
   "metadata": {},
   "outputs": [],
   "source": []
  }
 ],
 "metadata": {
  "kernelspec": {
   "display_name": "Python 3",
   "language": "python",
   "name": "python3"
  },
  "language_info": {
   "codemirror_mode": {
    "name": "ipython",
    "version": 3
   },
   "file_extension": ".py",
   "mimetype": "text/x-python",
   "name": "python",
   "nbconvert_exporter": "python",
   "pygments_lexer": "ipython3",
   "version": "3.8.3"
  }
 },
 "nbformat": 4,
 "nbformat_minor": 4
}
